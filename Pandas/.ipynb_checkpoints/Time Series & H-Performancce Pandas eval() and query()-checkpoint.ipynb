{
 "cells": [
  {
   "cell_type": "markdown",
   "id": "ee6fb8af",
   "metadata": {},
   "source": [
    "### Dates and Times in Python\n",
    "* Designed for financial modeling, Pandas has extensive flexibility with management of dates\n",
    "* Quick refresher below w/notes"
   ]
  },
  {
   "cell_type": "markdown",
   "id": "eff27507",
   "metadata": {},
   "source": [
    "#### Native Python dates and times : \n",
    "`datetime` & `dateutil`"
   ]
  },
  {
   "cell_type": "code",
   "execution_count": 1,
   "id": "5472878f",
   "metadata": {},
   "outputs": [
    {
     "data": {
      "text/plain": [
       "datetime.datetime(2023, 3, 16, 0, 0)"
      ]
     },
     "execution_count": 1,
     "metadata": {},
     "output_type": "execute_result"
    }
   ],
   "source": [
    "from datetime import datetime\n",
    "datetime(year=2023, month=3, day=16)"
   ]
  },
  {
   "cell_type": "markdown",
   "id": "2effd5dd",
   "metadata": {},
   "source": [
    "* w/dateutil you can parse dates from a variety of string formats"
   ]
  },
  {
   "cell_type": "code",
   "execution_count": 2,
   "id": "63471034",
   "metadata": {},
   "outputs": [
    {
     "data": {
      "text/plain": [
       "datetime.datetime(2022, 7, 4, 0, 0)"
      ]
     },
     "execution_count": 2,
     "metadata": {},
     "output_type": "execute_result"
    }
   ],
   "source": [
    "from dateutil import parser\n",
    "date = parser.parse('4th of July, 2022')\n",
    "date"
   ]
  },
  {
   "cell_type": "markdown",
   "id": "463d768a",
   "metadata": {},
   "source": [
    "* Once w/datetime object you can do things like printing the day of the week"
   ]
  },
  {
   "cell_type": "code",
   "execution_count": 3,
   "id": "6dedc83a",
   "metadata": {},
   "outputs": [
    {
     "data": {
      "text/plain": [
       "'Monday'"
      ]
     },
     "execution_count": 3,
     "metadata": {},
     "output_type": "execute_result"
    }
   ],
   "source": [
    "date.strftime('%A')"
   ]
  },
  {
   "cell_type": "markdown",
   "id": "ebc992fd",
   "metadata": {},
   "source": [
    "* Just as lists of Python numerical variales are suboptimal compared to NumPy-style typed numerical arrays (**broadcasting-numpy**). Lists of Python datetime objects are suboptimal copmared to typed arrays of encoded dates\n",
    "\n",
    "### NumPy datetime64\n",
    "* datetime64 dtype encodes dates as 64-bit integers"
   ]
  },
  {
   "cell_type": "code",
   "execution_count": 4,
   "id": "c16e241b",
   "metadata": {},
   "outputs": [
    {
     "data": {
      "text/plain": [
       "array('2015-07-04', dtype='datetime64[D]')"
      ]
     },
     "execution_count": 4,
     "metadata": {},
     "output_type": "execute_result"
    }
   ],
   "source": [
    "import numpy as np\n",
    "date = np.array('2015-07-04',dtype=np.datetime64)\n",
    "date"
   ]
  },
  {
   "cell_type": "code",
   "execution_count": 5,
   "id": "683ae31a",
   "metadata": {},
   "outputs": [
    {
     "data": {
      "text/plain": [
       "array(['2015-07-04', '2015-07-05', '2015-07-06', '2015-07-07',\n",
       "       '2015-07-08', '2015-07-09', '2015-07-10', '2015-07-11',\n",
       "       '2015-07-12', '2015-07-13', '2015-07-14', '2015-07-15'],\n",
       "      dtype='datetime64[D]')"
      ]
     },
     "execution_count": 5,
     "metadata": {},
     "output_type": "execute_result"
    }
   ],
   "source": [
    "# Vectorize operation\n",
    "date + np.arange(12)"
   ]
  },
  {
   "cell_type": "markdown",
   "id": "02a9c7c0",
   "metadata": {},
   "source": [
    "### Dates and times in Pandas: Best of both worlds\n",
    "As Numpy doesn't have inferred timestamp or as much flexibility as a datetime object, `Pandas` combines the aeasue of use of `datetime` and `dateutil` with the efficient storage and vecotirzed interface of `numpy.datetime64`"
   ]
  },
  {
   "cell_type": "code",
   "execution_count": 6,
   "id": "29fc5692",
   "metadata": {},
   "outputs": [
    {
     "data": {
      "text/plain": [
       "Timestamp('2022-07-04 00:00:00')"
      ]
     },
     "execution_count": 6,
     "metadata": {},
     "output_type": "execute_result"
    }
   ],
   "source": [
    "# parse/infer string as \n",
    "import pandas as pd\n",
    "date = pd.to_datetime('4th of July, 2022')\n",
    "date"
   ]
  },
  {
   "cell_type": "code",
   "execution_count": 7,
   "id": "d6428a6a",
   "metadata": {},
   "outputs": [
    {
     "data": {
      "text/plain": [
       "'Monday'"
      ]
     },
     "execution_count": 7,
     "metadata": {},
     "output_type": "execute_result"
    }
   ],
   "source": [
    "date.strftime('%A')"
   ]
  },
  {
   "cell_type": "code",
   "execution_count": 8,
   "id": "c17b4e54",
   "metadata": {},
   "outputs": [
    {
     "data": {
      "text/plain": [
       "DatetimeIndex(['2022-07-04', '2022-07-05', '2022-07-06', '2022-07-07',\n",
       "               '2022-07-08', '2022-07-09', '2022-07-10', '2022-07-11',\n",
       "               '2022-07-12', '2022-07-13', '2022-07-14', '2022-07-15'],\n",
       "              dtype='datetime64[ns]', freq=None)"
      ]
     },
     "execution_count": 8,
     "metadata": {},
     "output_type": "execute_result"
    }
   ],
   "source": [
    "# Num-Py style vectorized operations\n",
    "date + pd.to_timedelta(np.arange(12), 'D')"
   ]
  },
  {
   "cell_type": "markdown",
   "id": "a8a7df17",
   "metadata": {},
   "source": [
    "### Pandas Time Series: Indexing by Time\n",
    "* `Pandas` time series tools really become useful when you begin to index data by time-stamps"
   ]
  },
  {
   "cell_type": "code",
   "execution_count": 9,
   "id": "c96f794a",
   "metadata": {},
   "outputs": [
    {
     "data": {
      "text/plain": [
       "2014-07-04    0\n",
       "2014-08-04    1\n",
       "2015-07-04    2\n",
       "2015-08-05    3\n",
       "dtype: int64"
      ]
     },
     "execution_count": 9,
     "metadata": {},
     "output_type": "execute_result"
    }
   ],
   "source": [
    "index = pd.DatetimeIndex(['2014-07-04', '2014-08-04', '2015-07-04', '2015-08-05'])\n",
    "data = pd.Series([0,1,2,3], index=index)\n",
    "data"
   ]
  },
  {
   "cell_type": "code",
   "execution_count": 10,
   "id": "999a26c3",
   "metadata": {},
   "outputs": [
    {
     "name": "stdout",
     "output_type": "stream",
     "text": [
      "2014-07-04    0\n",
      "2014-08-04    1\n",
      "dtype: int64 \n",
      "\n",
      " 2014-07-04    0\n",
      "2014-08-04    1\n",
      "dtype: int64 \n",
      "\n",
      " 2014-08-04    1\n",
      "2015-08-05    3\n",
      "dtype: int64\n"
     ]
    }
   ],
   "source": [
    "# Same indexing patterns\n",
    "print(data.iloc[:2], '\\n\\n', data[:2], '\\n\\n', data.loc[['2014-08-04', '2015-08-05']])"
   ]
  },
  {
   "cell_type": "code",
   "execution_count": 11,
   "id": "2abff57c",
   "metadata": {},
   "outputs": [
    {
     "data": {
      "text/plain": [
       "2015-07-04    2\n",
       "2015-08-05    3\n",
       "dtype: int64"
      ]
     },
     "execution_count": 11,
     "metadata": {},
     "output_type": "execute_result"
    }
   ],
   "source": [
    "# Obtain slice by year\n",
    "data['2015']"
   ]
  },
  {
   "cell_type": "markdown",
   "id": "df995c43",
   "metadata": {},
   "source": [
    "####  pd.to_datetime\n",
    "* can parse a wide variety of formats, a `single date` yields a Timestamp\n",
    "* passing a `series` of dates by default yields a `DatetimeIndex`"
   ]
  },
  {
   "cell_type": "code",
   "execution_count": 12,
   "id": "ec7e3d0e",
   "metadata": {},
   "outputs": [
    {
     "data": {
      "text/plain": [
       "DatetimeIndex(['2015-07-03', '2015-07-04', '2015-07-06', '2015-07-07',\n",
       "               '2014-07-08'],\n",
       "              dtype='datetime64[ns]', freq=None)"
      ]
     },
     "execution_count": 12,
     "metadata": {},
     "output_type": "execute_result"
    }
   ],
   "source": [
    "dates = pd.to_datetime([datetime(2015,7,3), '4th of July, 2015', '2015-Jul-6', '07-07-2015', '20140708'])\n",
    "dates"
   ]
  },
  {
   "cell_type": "code",
   "execution_count": 13,
   "id": "46751c1e",
   "metadata": {},
   "outputs": [
    {
     "data": {
      "text/plain": [
       "PeriodIndex(['2015-07-03', '2015-07-04', '2015-07-06', '2015-07-07',\n",
       "             '2014-07-08'],\n",
       "            dtype='period[D]')"
      ]
     },
     "execution_count": 13,
     "metadata": {},
     "output_type": "execute_result"
    }
   ],
   "source": [
    "# Convert to a PeriodIndex with the to_period\n",
    "dates.to_period('D')"
   ]
  },
  {
   "cell_type": "code",
   "execution_count": 14,
   "id": "21858c77",
   "metadata": {},
   "outputs": [
    {
     "data": {
      "text/plain": [
       "TimedeltaIndex(['0 days', '1 days', '3 days', '4 days', '-360 days'], dtype='timedelta64[ns]', freq=None)"
      ]
     },
     "execution_count": 14,
     "metadata": {},
     "output_type": "execute_result"
    }
   ],
   "source": [
    "# TimedeltaIndex\n",
    "dates - dates[0]"
   ]
  },
  {
   "cell_type": "markdown",
   "id": "779a9293",
   "metadata": {},
   "source": [
    "### Regular sequences: pd.date_range()\n",
    "* pd.date_range() - timestamps\n",
    "* pd.period_range() for periods\n",
    "* pd.timedelta_range() for time deltas"
   ]
  },
  {
   "cell_type": "code",
   "execution_count": 15,
   "id": "ec0ea451",
   "metadata": {},
   "outputs": [
    {
     "data": {
      "text/plain": [
       "DatetimeIndex(['2015-07-03', '2015-07-04', '2015-07-05', '2015-07-06',\n",
       "               '2015-07-07', '2015-07-08', '2015-07-09', '2015-07-10'],\n",
       "              dtype='datetime64[ns]', freq='D')"
      ]
     },
     "execution_count": 15,
     "metadata": {},
     "output_type": "execute_result"
    }
   ],
   "source": [
    "pd.date_range('2015-07-03', '2015-07-10')"
   ]
  },
  {
   "cell_type": "code",
   "execution_count": 16,
   "id": "c751fcca",
   "metadata": {},
   "outputs": [
    {
     "data": {
      "text/plain": [
       "DatetimeIndex(['2015-07-03', '2015-07-04', '2015-07-05', '2015-07-06',\n",
       "               '2015-07-07', '2015-07-08', '2015-07-09', '2015-07-10'],\n",
       "              dtype='datetime64[ns]', freq='D')"
      ]
     },
     "execution_count": 16,
     "metadata": {},
     "output_type": "execute_result"
    }
   ],
   "source": [
    "# startpoing and number of periods\n",
    "pd.date_range('2015-07-03', periods=8)"
   ]
  },
  {
   "cell_type": "code",
   "execution_count": 17,
   "id": "7eae0b2e",
   "metadata": {},
   "outputs": [
    {
     "data": {
      "text/plain": [
       "DatetimeIndex(['2015-07-03 00:00:00', '2015-07-03 01:00:00',\n",
       "               '2015-07-03 02:00:00', '2015-07-03 03:00:00',\n",
       "               '2015-07-03 04:00:00', '2015-07-03 05:00:00',\n",
       "               '2015-07-03 06:00:00', '2015-07-03 07:00:00'],\n",
       "              dtype='datetime64[ns]', freq='H')"
      ]
     },
     "execution_count": 17,
     "metadata": {},
     "output_type": "execute_result"
    }
   ],
   "source": [
    "# different time frequency (default is day), see freq arg\n",
    "pd.date_range('2015-07-03', periods=8, freq='h')"
   ]
  },
  {
   "cell_type": "code",
   "execution_count": 18,
   "id": "c6bae821",
   "metadata": {},
   "outputs": [
    {
     "data": {
      "text/plain": [
       "(DatetimeIndex(['2015-07-31', '2015-08-31', '2015-09-30', '2015-10-31',\n",
       "                '2015-11-30', '2015-12-31', '2016-01-31', '2016-02-29'],\n",
       "               dtype='datetime64[ns]', freq='M'),\n",
       " DatetimeIndex(['2015-07-31', '2015-08-31', '2015-09-30', '2015-10-31',\n",
       "                '2015-11-30', '2015-12-31', '2016-01-31', '2016-02-29'],\n",
       "               dtype='datetime64[ns]', freq='M'))"
      ]
     },
     "execution_count": 18,
     "metadata": {},
     "output_type": "execute_result"
    }
   ],
   "source": [
    "pd.date_range('2015-07-03', periods=8, freq='m'), pd.date_range('2015-07-03', periods=8, freq='M')"
   ]
  },
  {
   "cell_type": "code",
   "execution_count": 19,
   "id": "e256f30d",
   "metadata": {},
   "outputs": [
    {
     "data": {
      "text/plain": [
       "TimedeltaIndex(['0 days 00:00:00', '0 days 01:00:00', '0 days 02:00:00',\n",
       "                '0 days 03:00:00', '0 days 04:00:00', '0 days 05:00:00',\n",
       "                '0 days 06:00:00', '0 days 07:00:00', '0 days 08:00:00',\n",
       "                '0 days 09:00:00'],\n",
       "               dtype='timedelta64[ns]', freq='H')"
      ]
     },
     "execution_count": 19,
     "metadata": {},
     "output_type": "execute_result"
    }
   ],
   "source": [
    "# sequence of durations\n",
    "pd.timedelta_range(0, periods=10, freq='H')"
   ]
  },
  {
   "cell_type": "code",
   "execution_count": 20,
   "id": "b54b8983",
   "metadata": {},
   "outputs": [
    {
     "data": {
      "text/plain": [
       "TimedeltaIndex(['0 days 00:00:00', '0 days 02:15:00', '0 days 04:30:00',\n",
       "                '0 days 06:45:00', '0 days 09:00:00', '0 days 11:15:00',\n",
       "                '0 days 13:30:00', '0 days 15:45:00'],\n",
       "               dtype='timedelta64[ns]', freq='135T')"
      ]
     },
     "execution_count": 20,
     "metadata": {},
     "output_type": "execute_result"
    }
   ],
   "source": [
    "# specify other frequencies\n",
    "pd.timedelta_range(0, periods=8, freq='2H15T')"
   ]
  },
  {
   "cell_type": "markdown",
   "id": "654d406f",
   "metadata": {},
   "source": [
    "#### Pandas Time Series Offsets "
   ]
  },
  {
   "cell_type": "code",
   "execution_count": 21,
   "id": "16eed681",
   "metadata": {},
   "outputs": [
    {
     "data": {
      "text/plain": [
       "DatetimeIndex(['2015-07-01', '2015-07-02', '2015-07-03', '2015-07-06',\n",
       "               '2015-07-07'],\n",
       "              dtype='datetime64[ns]', freq='B')"
      ]
     },
     "execution_count": 21,
     "metadata": {},
     "output_type": "execute_result"
    }
   ],
   "source": [
    "# Business Day Offset\n",
    "from pandas.tseries.offsets import BDay\n",
    "pd.date_range('2015-07-01', periods=5, freq=BDay())"
   ]
  },
  {
   "cell_type": "markdown",
   "id": "450723de",
   "metadata": {},
   "source": [
    "#### Resampling, Shifting, and Windowing \n",
    "The ability to use dates and times as indices to intuitively organize and access data is an important piece of the Pandas time series tools. The benefits of indexed data in general (automatic alignment during operations, intuitive data slicing and access, etc.) still apply, and Pandas provides several additional time series-specific operations"
   ]
  },
  {
   "cell_type": "code",
   "execution_count": 22,
   "id": "09f3882c",
   "metadata": {},
   "outputs": [
    {
     "name": "stdout",
     "output_type": "stream",
     "text": [
      "Requirement already satisfied: pandas in /Users/craigrupp/opt/anaconda3/lib/python3.9/site-packages (1.4.3)\n",
      "Requirement already satisfied: python-dateutil>=2.8.1 in /Users/craigrupp/opt/anaconda3/lib/python3.9/site-packages (from pandas) (2.8.2)\n",
      "Requirement already satisfied: pytz>=2020.1 in /Users/craigrupp/opt/anaconda3/lib/python3.9/site-packages (from pandas) (2022.7.1)\n",
      "Requirement already satisfied: numpy>=1.18.5 in /Users/craigrupp/opt/anaconda3/lib/python3.9/site-packages (from pandas) (1.21.5)\n",
      "Requirement already satisfied: six>=1.5 in /Users/craigrupp/opt/anaconda3/lib/python3.9/site-packages (from python-dateutil>=2.8.1->pandas) (1.16.0)\n"
     ]
    }
   ],
   "source": [
    "!pip install pandas"
   ]
  },
  {
   "cell_type": "markdown",
   "id": "628e8125",
   "metadata": {},
   "source": [
    "#### Import Financial data from a number of available sources "
   ]
  },
  {
   "cell_type": "code",
   "execution_count": 23,
   "id": "acd41f49",
   "metadata": {},
   "outputs": [
    {
     "name": "stdout",
     "output_type": "stream",
     "text": [
      "Requirement already satisfied: yfinance in /Users/craigrupp/opt/anaconda3/lib/python3.9/site-packages (0.2.12)\n",
      "Requirement already satisfied: appdirs>=1.4.4 in /Users/craigrupp/opt/anaconda3/lib/python3.9/site-packages (from yfinance) (1.4.4)\n",
      "Requirement already satisfied: numpy>=1.16.5 in /Users/craigrupp/opt/anaconda3/lib/python3.9/site-packages (from yfinance) (1.21.5)\n",
      "Requirement already satisfied: cryptography>=3.3.2 in /Users/craigrupp/opt/anaconda3/lib/python3.9/site-packages (from yfinance) (37.0.1)\n",
      "Requirement already satisfied: html5lib>=1.1 in /Users/craigrupp/opt/anaconda3/lib/python3.9/site-packages (from yfinance) (1.1)\n",
      "Requirement already satisfied: pytz>=2022.5 in /Users/craigrupp/opt/anaconda3/lib/python3.9/site-packages (from yfinance) (2022.7.1)\n",
      "Requirement already satisfied: pandas>=1.3.0 in /Users/craigrupp/opt/anaconda3/lib/python3.9/site-packages (from yfinance) (1.4.3)\n",
      "Requirement already satisfied: lxml>=4.9.1 in /Users/craigrupp/opt/anaconda3/lib/python3.9/site-packages (from yfinance) (4.9.1)\n",
      "Requirement already satisfied: requests>=2.26 in /Users/craigrupp/opt/anaconda3/lib/python3.9/site-packages (from yfinance) (2.28.1)\n",
      "Requirement already satisfied: frozendict>=2.3.4 in /Users/craigrupp/opt/anaconda3/lib/python3.9/site-packages (from yfinance) (2.3.5)\n",
      "Requirement already satisfied: beautifulsoup4>=4.11.1 in /Users/craigrupp/opt/anaconda3/lib/python3.9/site-packages (from yfinance) (4.11.1)\n",
      "Requirement already satisfied: multitasking>=0.0.7 in /Users/craigrupp/opt/anaconda3/lib/python3.9/site-packages (from yfinance) (0.0.11)\n",
      "Requirement already satisfied: soupsieve>1.2 in /Users/craigrupp/opt/anaconda3/lib/python3.9/site-packages (from beautifulsoup4>=4.11.1->yfinance) (2.3.1)\n",
      "Requirement already satisfied: cffi>=1.12 in /Users/craigrupp/opt/anaconda3/lib/python3.9/site-packages (from cryptography>=3.3.2->yfinance) (1.15.1)\n",
      "Requirement already satisfied: six>=1.9 in /Users/craigrupp/opt/anaconda3/lib/python3.9/site-packages (from html5lib>=1.1->yfinance) (1.16.0)\n",
      "Requirement already satisfied: webencodings in /Users/craigrupp/opt/anaconda3/lib/python3.9/site-packages (from html5lib>=1.1->yfinance) (0.5.1)\n",
      "Requirement already satisfied: python-dateutil>=2.8.1 in /Users/craigrupp/opt/anaconda3/lib/python3.9/site-packages (from pandas>=1.3.0->yfinance) (2.8.2)\n",
      "Requirement already satisfied: idna<4,>=2.5 in /Users/craigrupp/opt/anaconda3/lib/python3.9/site-packages (from requests>=2.26->yfinance) (3.3)\n",
      "Requirement already satisfied: urllib3<1.27,>=1.21.1 in /Users/craigrupp/opt/anaconda3/lib/python3.9/site-packages (from requests>=2.26->yfinance) (1.26.11)\n",
      "Requirement already satisfied: charset-normalizer<3,>=2 in /Users/craigrupp/opt/anaconda3/lib/python3.9/site-packages (from requests>=2.26->yfinance) (2.0.4)\n",
      "Requirement already satisfied: certifi>=2017.4.17 in /Users/craigrupp/opt/anaconda3/lib/python3.9/site-packages (from requests>=2.26->yfinance) (2022.6.15)\n",
      "Requirement already satisfied: pycparser in /Users/craigrupp/opt/anaconda3/lib/python3.9/site-packages (from cffi>=1.12->cryptography>=3.3.2->yfinance) (2.21)\n",
      "[*********************100%***********************]  17 of 17 completed\n"
     ]
    }
   ],
   "source": [
    "!pip install yfinance\n",
    "from pandas_datareader import data as pdr\n",
    "from datetime import datetime,date\n",
    "\n",
    "import yfinance as yf\n",
    "yf.pdr_override()\n",
    "\n",
    "y_symbols = ['^GSPC', 'ES=F', 'NQ=F', 'YM=F', '^RUT', '^DJT', '^GDAXI', '^N225', '^SSMI', '^STOXX50E', '^FCHI', '^GSPTSE', '^HSI', '000001.SS', '^KS11', '^NSEI', '^AXJO']\n",
    "\n",
    "from datetime import datetime\n",
    "startdate = datetime(1990,1,1)\n",
    "today = date.today()\n",
    "enddate = today\n",
    "\n",
    "\n",
    "data = pdr.get_data_yahoo(y_symbols, start=startdate, end=enddate)"
   ]
  },
  {
   "cell_type": "code",
   "execution_count": 24,
   "id": "5700004d",
   "metadata": {},
   "outputs": [
    {
     "data": {
      "text/html": [
       "<div>\n",
       "<style scoped>\n",
       "    .dataframe tbody tr th:only-of-type {\n",
       "        vertical-align: middle;\n",
       "    }\n",
       "\n",
       "    .dataframe tbody tr th {\n",
       "        vertical-align: top;\n",
       "    }\n",
       "\n",
       "    .dataframe thead tr th {\n",
       "        text-align: left;\n",
       "    }\n",
       "\n",
       "    .dataframe thead tr:last-of-type th {\n",
       "        text-align: right;\n",
       "    }\n",
       "</style>\n",
       "<table border=\"1\" class=\"dataframe\">\n",
       "  <thead>\n",
       "    <tr>\n",
       "      <th></th>\n",
       "      <th colspan=\"10\" halign=\"left\">Adj Close</th>\n",
       "      <th>...</th>\n",
       "      <th colspan=\"10\" halign=\"left\">Volume</th>\n",
       "    </tr>\n",
       "    <tr>\n",
       "      <th></th>\n",
       "      <th>000001.SS</th>\n",
       "      <th>ES=F</th>\n",
       "      <th>NQ=F</th>\n",
       "      <th>YM=F</th>\n",
       "      <th>^AXJO</th>\n",
       "      <th>^DJT</th>\n",
       "      <th>^FCHI</th>\n",
       "      <th>^GDAXI</th>\n",
       "      <th>^GSPC</th>\n",
       "      <th>^GSPTSE</th>\n",
       "      <th>...</th>\n",
       "      <th>^GDAXI</th>\n",
       "      <th>^GSPC</th>\n",
       "      <th>^GSPTSE</th>\n",
       "      <th>^HSI</th>\n",
       "      <th>^KS11</th>\n",
       "      <th>^N225</th>\n",
       "      <th>^NSEI</th>\n",
       "      <th>^RUT</th>\n",
       "      <th>^SSMI</th>\n",
       "      <th>^STOXX50E</th>\n",
       "    </tr>\n",
       "    <tr>\n",
       "      <th>Date</th>\n",
       "      <th></th>\n",
       "      <th></th>\n",
       "      <th></th>\n",
       "      <th></th>\n",
       "      <th></th>\n",
       "      <th></th>\n",
       "      <th></th>\n",
       "      <th></th>\n",
       "      <th></th>\n",
       "      <th></th>\n",
       "      <th></th>\n",
       "      <th></th>\n",
       "      <th></th>\n",
       "      <th></th>\n",
       "      <th></th>\n",
       "      <th></th>\n",
       "      <th></th>\n",
       "      <th></th>\n",
       "      <th></th>\n",
       "      <th></th>\n",
       "      <th></th>\n",
       "    </tr>\n",
       "  </thead>\n",
       "  <tbody>\n",
       "    <tr>\n",
       "      <th>1990-01-02</th>\n",
       "      <td>NaN</td>\n",
       "      <td>NaN</td>\n",
       "      <td>NaN</td>\n",
       "      <td>NaN</td>\n",
       "      <td>NaN</td>\n",
       "      <td>NaN</td>\n",
       "      <td>NaN</td>\n",
       "      <td>1788.890015</td>\n",
       "      <td>359.690002</td>\n",
       "      <td>3994.230713</td>\n",
       "      <td>...</td>\n",
       "      <td>0.0</td>\n",
       "      <td>162070000.0</td>\n",
       "      <td>164600.0</td>\n",
       "      <td>0.0</td>\n",
       "      <td>NaN</td>\n",
       "      <td>NaN</td>\n",
       "      <td>NaN</td>\n",
       "      <td>162070000.0</td>\n",
       "      <td>NaN</td>\n",
       "      <td>NaN</td>\n",
       "    </tr>\n",
       "    <tr>\n",
       "      <th>1990-01-03</th>\n",
       "      <td>NaN</td>\n",
       "      <td>NaN</td>\n",
       "      <td>NaN</td>\n",
       "      <td>NaN</td>\n",
       "      <td>NaN</td>\n",
       "      <td>NaN</td>\n",
       "      <td>NaN</td>\n",
       "      <td>1867.290039</td>\n",
       "      <td>358.760010</td>\n",
       "      <td>3999.317871</td>\n",
       "      <td>...</td>\n",
       "      <td>0.0</td>\n",
       "      <td>192330000.0</td>\n",
       "      <td>147600.0</td>\n",
       "      <td>0.0</td>\n",
       "      <td>NaN</td>\n",
       "      <td>NaN</td>\n",
       "      <td>NaN</td>\n",
       "      <td>192330000.0</td>\n",
       "      <td>NaN</td>\n",
       "      <td>NaN</td>\n",
       "    </tr>\n",
       "    <tr>\n",
       "      <th>1990-01-04</th>\n",
       "      <td>NaN</td>\n",
       "      <td>NaN</td>\n",
       "      <td>NaN</td>\n",
       "      <td>NaN</td>\n",
       "      <td>NaN</td>\n",
       "      <td>NaN</td>\n",
       "      <td>NaN</td>\n",
       "      <td>1830.920044</td>\n",
       "      <td>355.670013</td>\n",
       "      <td>3990.739746</td>\n",
       "      <td>...</td>\n",
       "      <td>0.0</td>\n",
       "      <td>177000000.0</td>\n",
       "      <td>297100.0</td>\n",
       "      <td>0.0</td>\n",
       "      <td>NaN</td>\n",
       "      <td>0.0</td>\n",
       "      <td>NaN</td>\n",
       "      <td>177000000.0</td>\n",
       "      <td>NaN</td>\n",
       "      <td>NaN</td>\n",
       "    </tr>\n",
       "    <tr>\n",
       "      <th>1990-01-05</th>\n",
       "      <td>NaN</td>\n",
       "      <td>NaN</td>\n",
       "      <td>NaN</td>\n",
       "      <td>NaN</td>\n",
       "      <td>NaN</td>\n",
       "      <td>NaN</td>\n",
       "      <td>NaN</td>\n",
       "      <td>1812.900024</td>\n",
       "      <td>352.200012</td>\n",
       "      <td>3980.266602</td>\n",
       "      <td>...</td>\n",
       "      <td>0.0</td>\n",
       "      <td>158530000.0</td>\n",
       "      <td>279500.0</td>\n",
       "      <td>0.0</td>\n",
       "      <td>NaN</td>\n",
       "      <td>0.0</td>\n",
       "      <td>NaN</td>\n",
       "      <td>158530000.0</td>\n",
       "      <td>NaN</td>\n",
       "      <td>NaN</td>\n",
       "    </tr>\n",
       "    <tr>\n",
       "      <th>1990-01-08</th>\n",
       "      <td>NaN</td>\n",
       "      <td>NaN</td>\n",
       "      <td>NaN</td>\n",
       "      <td>NaN</td>\n",
       "      <td>NaN</td>\n",
       "      <td>NaN</td>\n",
       "      <td>NaN</td>\n",
       "      <td>1841.469971</td>\n",
       "      <td>353.790009</td>\n",
       "      <td>3961.015381</td>\n",
       "      <td>...</td>\n",
       "      <td>0.0</td>\n",
       "      <td>140110000.0</td>\n",
       "      <td>242800.0</td>\n",
       "      <td>0.0</td>\n",
       "      <td>NaN</td>\n",
       "      <td>0.0</td>\n",
       "      <td>NaN</td>\n",
       "      <td>140110000.0</td>\n",
       "      <td>NaN</td>\n",
       "      <td>NaN</td>\n",
       "    </tr>\n",
       "  </tbody>\n",
       "</table>\n",
       "<p>5 rows × 102 columns</p>\n",
       "</div>"
      ],
      "text/plain": [
       "           Adj Close                                                           \\\n",
       "           000001.SS ES=F NQ=F YM=F ^AXJO ^DJT ^FCHI       ^GDAXI       ^GSPC   \n",
       "Date                                                                            \n",
       "1990-01-02       NaN  NaN  NaN  NaN   NaN  NaN   NaN  1788.890015  359.690002   \n",
       "1990-01-03       NaN  NaN  NaN  NaN   NaN  NaN   NaN  1867.290039  358.760010   \n",
       "1990-01-04       NaN  NaN  NaN  NaN   NaN  NaN   NaN  1830.920044  355.670013   \n",
       "1990-01-05       NaN  NaN  NaN  NaN   NaN  NaN   NaN  1812.900024  352.200012   \n",
       "1990-01-08       NaN  NaN  NaN  NaN   NaN  NaN   NaN  1841.469971  353.790009   \n",
       "\n",
       "                         ... Volume                                          \\\n",
       "                ^GSPTSE  ... ^GDAXI        ^GSPC   ^GSPTSE ^HSI ^KS11 ^N225   \n",
       "Date                     ...                                                  \n",
       "1990-01-02  3994.230713  ...    0.0  162070000.0  164600.0  0.0   NaN   NaN   \n",
       "1990-01-03  3999.317871  ...    0.0  192330000.0  147600.0  0.0   NaN   NaN   \n",
       "1990-01-04  3990.739746  ...    0.0  177000000.0  297100.0  0.0   NaN   0.0   \n",
       "1990-01-05  3980.266602  ...    0.0  158530000.0  279500.0  0.0   NaN   0.0   \n",
       "1990-01-08  3961.015381  ...    0.0  140110000.0  242800.0  0.0   NaN   0.0   \n",
       "\n",
       "                                               \n",
       "           ^NSEI         ^RUT ^SSMI ^STOXX50E  \n",
       "Date                                           \n",
       "1990-01-02   NaN  162070000.0   NaN       NaN  \n",
       "1990-01-03   NaN  192330000.0   NaN       NaN  \n",
       "1990-01-04   NaN  177000000.0   NaN       NaN  \n",
       "1990-01-05   NaN  158530000.0   NaN       NaN  \n",
       "1990-01-08   NaN  140110000.0   NaN       NaN  \n",
       "\n",
       "[5 rows x 102 columns]"
      ]
     },
     "metadata": {},
     "output_type": "display_data"
    },
    {
     "data": {
      "text/plain": [
       "(None,\n",
       " array(['1990-01-02T00:00:00.000000000', '1990-01-03T00:00:00.000000000',\n",
       "        '1990-01-04T00:00:00.000000000', '1990-01-05T00:00:00.000000000',\n",
       "        '1990-01-08T00:00:00.000000000', '1990-01-09T00:00:00.000000000',\n",
       "        '1990-01-10T00:00:00.000000000', '1990-01-11T00:00:00.000000000',\n",
       "        '1990-01-12T00:00:00.000000000', '1990-01-15T00:00:00.000000000'],\n",
       "       dtype='datetime64[ns]'))"
      ]
     },
     "execution_count": 24,
     "metadata": {},
     "output_type": "execute_result"
    }
   ],
   "source": [
    "display(data.head()), data.index.values[:10]"
   ]
  },
  {
   "cell_type": "code",
   "execution_count": 25,
   "id": "e9667aa6",
   "metadata": {},
   "outputs": [
    {
     "name": "stdout",
     "output_type": "stream",
     "text": [
      "Requirement already satisfied: pandas-datareader in /Users/craigrupp/opt/anaconda3/lib/python3.9/site-packages (0.10.0)\n",
      "Requirement already satisfied: pandas>=0.23 in /Users/craigrupp/opt/anaconda3/lib/python3.9/site-packages (from pandas-datareader) (1.4.3)\n",
      "Requirement already satisfied: requests>=2.19.0 in /Users/craigrupp/opt/anaconda3/lib/python3.9/site-packages (from pandas-datareader) (2.28.1)\n",
      "Requirement already satisfied: lxml in /Users/craigrupp/opt/anaconda3/lib/python3.9/site-packages (from pandas-datareader) (4.9.1)\n",
      "Requirement already satisfied: python-dateutil>=2.8.1 in /Users/craigrupp/opt/anaconda3/lib/python3.9/site-packages (from pandas>=0.23->pandas-datareader) (2.8.2)\n",
      "Requirement already satisfied: pytz>=2020.1 in /Users/craigrupp/opt/anaconda3/lib/python3.9/site-packages (from pandas>=0.23->pandas-datareader) (2022.7.1)\n",
      "Requirement already satisfied: numpy>=1.18.5 in /Users/craigrupp/opt/anaconda3/lib/python3.9/site-packages (from pandas>=0.23->pandas-datareader) (1.21.5)\n",
      "Requirement already satisfied: idna<4,>=2.5 in /Users/craigrupp/opt/anaconda3/lib/python3.9/site-packages (from requests>=2.19.0->pandas-datareader) (3.3)\n",
      "Requirement already satisfied: charset-normalizer<3,>=2 in /Users/craigrupp/opt/anaconda3/lib/python3.9/site-packages (from requests>=2.19.0->pandas-datareader) (2.0.4)\n",
      "Requirement already satisfied: certifi>=2017.4.17 in /Users/craigrupp/opt/anaconda3/lib/python3.9/site-packages (from requests>=2.19.0->pandas-datareader) (2022.6.15)\n",
      "Requirement already satisfied: urllib3<1.27,>=1.21.1 in /Users/craigrupp/opt/anaconda3/lib/python3.9/site-packages (from requests>=2.19.0->pandas-datareader) (1.26.11)\n",
      "Requirement already satisfied: six>=1.5 in /Users/craigrupp/opt/anaconda3/lib/python3.9/site-packages (from python-dateutil>=2.8.1->pandas>=0.23->pandas-datareader) (1.16.0)\n"
     ]
    }
   ],
   "source": [
    "!pip install --upgrade pandas-datareader"
   ]
  },
  {
   "cell_type": "code",
   "execution_count": 26,
   "id": "c692de68",
   "metadata": {},
   "outputs": [
    {
     "name": "stdout",
     "output_type": "stream",
     "text": [
      "[*********************100%***********************]  1 of 1 completed\n"
     ]
    },
    {
     "data": {
      "text/html": [
       "<div>\n",
       "<style scoped>\n",
       "    .dataframe tbody tr th:only-of-type {\n",
       "        vertical-align: middle;\n",
       "    }\n",
       "\n",
       "    .dataframe tbody tr th {\n",
       "        vertical-align: top;\n",
       "    }\n",
       "\n",
       "    .dataframe thead th {\n",
       "        text-align: right;\n",
       "    }\n",
       "</style>\n",
       "<table border=\"1\" class=\"dataframe\">\n",
       "  <thead>\n",
       "    <tr style=\"text-align: right;\">\n",
       "      <th></th>\n",
       "      <th>Open</th>\n",
       "      <th>High</th>\n",
       "      <th>Low</th>\n",
       "      <th>Close</th>\n",
       "      <th>Adj Close</th>\n",
       "      <th>Volume</th>\n",
       "    </tr>\n",
       "    <tr>\n",
       "      <th>Date</th>\n",
       "      <th></th>\n",
       "      <th></th>\n",
       "      <th></th>\n",
       "      <th></th>\n",
       "      <th></th>\n",
       "      <th></th>\n",
       "    </tr>\n",
       "  </thead>\n",
       "  <tbody>\n",
       "    <tr>\n",
       "      <th>2023-02-01</th>\n",
       "      <td>405.209991</td>\n",
       "      <td>413.670013</td>\n",
       "      <td>402.350006</td>\n",
       "      <td>410.799988</td>\n",
       "      <td>410.799988</td>\n",
       "      <td>101459200</td>\n",
       "    </tr>\n",
       "    <tr>\n",
       "      <th>2023-02-02</th>\n",
       "      <td>414.859985</td>\n",
       "      <td>418.309998</td>\n",
       "      <td>412.880005</td>\n",
       "      <td>416.779999</td>\n",
       "      <td>416.779999</td>\n",
       "      <td>101654500</td>\n",
       "    </tr>\n",
       "    <tr>\n",
       "      <th>2023-02-03</th>\n",
       "      <td>411.589996</td>\n",
       "      <td>416.970001</td>\n",
       "      <td>411.089996</td>\n",
       "      <td>412.350006</td>\n",
       "      <td>412.350006</td>\n",
       "      <td>94736800</td>\n",
       "    </tr>\n",
       "    <tr>\n",
       "      <th>2023-02-07</th>\n",
       "      <td>408.869995</td>\n",
       "      <td>416.489990</td>\n",
       "      <td>407.570007</td>\n",
       "      <td>415.190002</td>\n",
       "      <td>415.190002</td>\n",
       "      <td>90990700</td>\n",
       "    </tr>\n",
       "    <tr>\n",
       "      <th>2023-02-08</th>\n",
       "      <td>413.130005</td>\n",
       "      <td>414.529999</td>\n",
       "      <td>409.929993</td>\n",
       "      <td>410.649994</td>\n",
       "      <td>410.649994</td>\n",
       "      <td>76227500</td>\n",
       "    </tr>\n",
       "    <tr>\n",
       "      <th>2023-02-13</th>\n",
       "      <td>408.720001</td>\n",
       "      <td>412.970001</td>\n",
       "      <td>408.239990</td>\n",
       "      <td>412.829987</td>\n",
       "      <td>412.829987</td>\n",
       "      <td>64913500</td>\n",
       "    </tr>\n",
       "    <tr>\n",
       "      <th>2023-02-14</th>\n",
       "      <td>411.239990</td>\n",
       "      <td>415.049988</td>\n",
       "      <td>408.510010</td>\n",
       "      <td>412.640015</td>\n",
       "      <td>412.640015</td>\n",
       "      <td>88389300</td>\n",
       "    </tr>\n",
       "    <tr>\n",
       "      <th>2023-02-15</th>\n",
       "      <td>410.350006</td>\n",
       "      <td>414.059998</td>\n",
       "      <td>409.470001</td>\n",
       "      <td>413.980011</td>\n",
       "      <td>413.980011</td>\n",
       "      <td>61555700</td>\n",
       "    </tr>\n",
       "  </tbody>\n",
       "</table>\n",
       "</div>"
      ],
      "text/plain": [
       "                  Open        High         Low       Close   Adj Close  \\\n",
       "Date                                                                     \n",
       "2023-02-01  405.209991  413.670013  402.350006  410.799988  410.799988   \n",
       "2023-02-02  414.859985  418.309998  412.880005  416.779999  416.779999   \n",
       "2023-02-03  411.589996  416.970001  411.089996  412.350006  412.350006   \n",
       "2023-02-07  408.869995  416.489990  407.570007  415.190002  415.190002   \n",
       "2023-02-08  413.130005  414.529999  409.929993  410.649994  410.649994   \n",
       "2023-02-13  408.720001  412.970001  408.239990  412.829987  412.829987   \n",
       "2023-02-14  411.239990  415.049988  408.510010  412.640015  412.640015   \n",
       "2023-02-15  410.350006  414.059998  409.470001  413.980011  413.980011   \n",
       "\n",
       "               Volume  \n",
       "Date                   \n",
       "2023-02-01  101459200  \n",
       "2023-02-02  101654500  \n",
       "2023-02-03   94736800  \n",
       "2023-02-07   90990700  \n",
       "2023-02-08   76227500  \n",
       "2023-02-13   64913500  \n",
       "2023-02-14   88389300  \n",
       "2023-02-15   61555700  "
      ]
     },
     "execution_count": 26,
     "metadata": {},
     "output_type": "execute_result"
    }
   ],
   "source": [
    "import pandas_datareader.data as pdr\n",
    "import yfinance as yf\n",
    "yf.pdr_override()\n",
    "spy_2023 = pdr.get_data_yahoo('SPY', datetime(2023,1,1), datetime(2023,3,16))\n",
    "spy_2023.loc[spy_2023['Close'] > 410]"
   ]
  },
  {
   "cell_type": "code",
   "execution_count": 27,
   "id": "6571dde3",
   "metadata": {},
   "outputs": [
    {
     "data": {
      "text/html": [
       "<div>\n",
       "<style scoped>\n",
       "    .dataframe tbody tr th:only-of-type {\n",
       "        vertical-align: middle;\n",
       "    }\n",
       "\n",
       "    .dataframe tbody tr th {\n",
       "        vertical-align: top;\n",
       "    }\n",
       "\n",
       "    .dataframe thead th {\n",
       "        text-align: right;\n",
       "    }\n",
       "</style>\n",
       "<table border=\"1\" class=\"dataframe\">\n",
       "  <thead>\n",
       "    <tr style=\"text-align: right;\">\n",
       "      <th></th>\n",
       "      <th>Open</th>\n",
       "      <th>High</th>\n",
       "      <th>Low</th>\n",
       "      <th>Close</th>\n",
       "      <th>Adj Close</th>\n",
       "      <th>Volume</th>\n",
       "    </tr>\n",
       "    <tr>\n",
       "      <th>Date</th>\n",
       "      <th></th>\n",
       "      <th></th>\n",
       "      <th></th>\n",
       "      <th></th>\n",
       "      <th></th>\n",
       "      <th></th>\n",
       "    </tr>\n",
       "  </thead>\n",
       "  <tbody>\n",
       "    <tr>\n",
       "      <th>2023-03-01</th>\n",
       "      <td>395.410004</td>\n",
       "      <td>396.690002</td>\n",
       "      <td>393.380005</td>\n",
       "      <td>394.739990</td>\n",
       "      <td>394.739990</td>\n",
       "      <td>99706800</td>\n",
       "    </tr>\n",
       "    <tr>\n",
       "      <th>2023-03-02</th>\n",
       "      <td>392.679993</td>\n",
       "      <td>398.690002</td>\n",
       "      <td>392.329987</td>\n",
       "      <td>397.809998</td>\n",
       "      <td>397.809998</td>\n",
       "      <td>85127800</td>\n",
       "    </tr>\n",
       "    <tr>\n",
       "      <th>2023-03-03</th>\n",
       "      <td>399.709991</td>\n",
       "      <td>404.450012</td>\n",
       "      <td>399.029999</td>\n",
       "      <td>404.190002</td>\n",
       "      <td>404.190002</td>\n",
       "      <td>90038300</td>\n",
       "    </tr>\n",
       "    <tr>\n",
       "      <th>2023-03-06</th>\n",
       "      <td>405.049988</td>\n",
       "      <td>407.450012</td>\n",
       "      <td>404.010010</td>\n",
       "      <td>404.470001</td>\n",
       "      <td>404.470001</td>\n",
       "      <td>72795900</td>\n",
       "    </tr>\n",
       "    <tr>\n",
       "      <th>2023-03-07</th>\n",
       "      <td>404.420013</td>\n",
       "      <td>404.670013</td>\n",
       "      <td>397.630005</td>\n",
       "      <td>398.269989</td>\n",
       "      <td>398.269989</td>\n",
       "      <td>108310600</td>\n",
       "    </tr>\n",
       "    <tr>\n",
       "      <th>2023-03-08</th>\n",
       "      <td>398.390015</td>\n",
       "      <td>399.709991</td>\n",
       "      <td>396.589996</td>\n",
       "      <td>398.920013</td>\n",
       "      <td>398.920013</td>\n",
       "      <td>74746600</td>\n",
       "    </tr>\n",
       "    <tr>\n",
       "      <th>2023-03-09</th>\n",
       "      <td>399.739990</td>\n",
       "      <td>401.480011</td>\n",
       "      <td>390.529999</td>\n",
       "      <td>391.559998</td>\n",
       "      <td>391.559998</td>\n",
       "      <td>111945300</td>\n",
       "    </tr>\n",
       "    <tr>\n",
       "      <th>2023-03-10</th>\n",
       "      <td>390.989990</td>\n",
       "      <td>393.160004</td>\n",
       "      <td>384.320007</td>\n",
       "      <td>385.910004</td>\n",
       "      <td>385.910004</td>\n",
       "      <td>189105300</td>\n",
       "    </tr>\n",
       "    <tr>\n",
       "      <th>2023-03-13</th>\n",
       "      <td>381.809998</td>\n",
       "      <td>390.390015</td>\n",
       "      <td>380.649994</td>\n",
       "      <td>385.359985</td>\n",
       "      <td>385.359985</td>\n",
       "      <td>157790000</td>\n",
       "    </tr>\n",
       "    <tr>\n",
       "      <th>2023-03-14</th>\n",
       "      <td>390.500000</td>\n",
       "      <td>393.450012</td>\n",
       "      <td>387.049988</td>\n",
       "      <td>391.730011</td>\n",
       "      <td>391.730011</td>\n",
       "      <td>149752400</td>\n",
       "    </tr>\n",
       "    <tr>\n",
       "      <th>2023-03-15</th>\n",
       "      <td>385.890015</td>\n",
       "      <td>389.489990</td>\n",
       "      <td>383.709991</td>\n",
       "      <td>389.279999</td>\n",
       "      <td>389.279999</td>\n",
       "      <td>172996900</td>\n",
       "    </tr>\n",
       "  </tbody>\n",
       "</table>\n",
       "</div>"
      ],
      "text/plain": [
       "                  Open        High         Low       Close   Adj Close  \\\n",
       "Date                                                                     \n",
       "2023-03-01  395.410004  396.690002  393.380005  394.739990  394.739990   \n",
       "2023-03-02  392.679993  398.690002  392.329987  397.809998  397.809998   \n",
       "2023-03-03  399.709991  404.450012  399.029999  404.190002  404.190002   \n",
       "2023-03-06  405.049988  407.450012  404.010010  404.470001  404.470001   \n",
       "2023-03-07  404.420013  404.670013  397.630005  398.269989  398.269989   \n",
       "2023-03-08  398.390015  399.709991  396.589996  398.920013  398.920013   \n",
       "2023-03-09  399.739990  401.480011  390.529999  391.559998  391.559998   \n",
       "2023-03-10  390.989990  393.160004  384.320007  385.910004  385.910004   \n",
       "2023-03-13  381.809998  390.390015  380.649994  385.359985  385.359985   \n",
       "2023-03-14  390.500000  393.450012  387.049988  391.730011  391.730011   \n",
       "2023-03-15  385.890015  389.489990  383.709991  389.279999  389.279999   \n",
       "\n",
       "               Volume  \n",
       "Date                   \n",
       "2023-03-01   99706800  \n",
       "2023-03-02   85127800  \n",
       "2023-03-03   90038300  \n",
       "2023-03-06   72795900  \n",
       "2023-03-07  108310600  \n",
       "2023-03-08   74746600  \n",
       "2023-03-09  111945300  \n",
       "2023-03-10  189105300  \n",
       "2023-03-13  157790000  \n",
       "2023-03-14  149752400  \n",
       "2023-03-15  172996900  "
      ]
     },
     "execution_count": 27,
     "metadata": {},
     "output_type": "execute_result"
    }
   ],
   "source": [
    "spy_2023.loc[spy_2023.index > '2023-02-28']"
   ]
  },
  {
   "cell_type": "code",
   "execution_count": 28,
   "id": "33ce6023",
   "metadata": {},
   "outputs": [
    {
     "data": {
      "image/png": "[encoded data removed]",
      "text/plain": [
       "<Figure size 640x480 with 1 Axes>"
      ]
     },
     "metadata": {},
     "output_type": "display_data"
    }
   ],
   "source": [
    "%matplotlib inline \n",
    "import matplotlib.pyplot as plt\n",
    "import seaborn as sns\n",
    "sns.set()\n",
    "sns.lineplot(x=spy_2023.index, y=spy_2023['Close'])\n",
    "plt.show()"
   ]
  },
  {
   "cell_type": "code",
   "execution_count": 34,
   "id": "2e6f347e",
   "metadata": {},
   "outputs": [
    {
     "name": "stdout",
     "output_type": "stream",
     "text": [
      "curl: no URL specified!\r\n",
      "curl: try 'curl --help' for more information\r\n"
     ]
    }
   ],
   "source": [
    "!curl -o https://data.seattle.gov/Transportation/Fremont-Bridge-Bicycle-Counter/65db-xm6k/data"
   ]
  },
  {
   "cell_type": "code",
   "execution_count": 35,
   "id": "bffe4794",
   "metadata": {},
   "outputs": [
    {
     "data": {
      "text/plain": [
       "(1000, 4)"
      ]
     },
     "execution_count": 35,
     "metadata": {},
     "output_type": "execute_result"
    }
   ],
   "source": [
    "f_bridge = pd.read_csv('Fremont_Bridge_Bicycle_Counter (1).csv', nrows=1000)\n",
    "f_bridge.shape"
   ]
  },
  {
   "cell_type": "code",
   "execution_count": 36,
   "id": "d1c595cb",
   "metadata": {},
   "outputs": [
    {
     "data": {
      "text/html": [
       "<div>\n",
       "<style scoped>\n",
       "    .dataframe tbody tr th:only-of-type {\n",
       "        vertical-align: middle;\n",
       "    }\n",
       "\n",
       "    .dataframe tbody tr th {\n",
       "        vertical-align: top;\n",
       "    }\n",
       "\n",
       "    .dataframe thead th {\n",
       "        text-align: right;\n",
       "    }\n",
       "</style>\n",
       "<table border=\"1\" class=\"dataframe\">\n",
       "  <thead>\n",
       "    <tr style=\"text-align: right;\">\n",
       "      <th></th>\n",
       "      <th>Date</th>\n",
       "      <th>Fremont Bridge Total</th>\n",
       "      <th>Fremont Bridge East Sidewalk</th>\n",
       "      <th>Fremont Bridge West Sidewalk</th>\n",
       "    </tr>\n",
       "  </thead>\n",
       "  <tbody>\n",
       "    <tr>\n",
       "      <th>0</th>\n",
       "      <td>08/01/2022 12:00:00 AM</td>\n",
       "      <td>23</td>\n",
       "      <td>7</td>\n",
       "      <td>16</td>\n",
       "    </tr>\n",
       "    <tr>\n",
       "      <th>1</th>\n",
       "      <td>08/01/2022 01:00:00 AM</td>\n",
       "      <td>12</td>\n",
       "      <td>5</td>\n",
       "      <td>7</td>\n",
       "    </tr>\n",
       "    <tr>\n",
       "      <th>2</th>\n",
       "      <td>08/01/2022 02:00:00 AM</td>\n",
       "      <td>3</td>\n",
       "      <td>0</td>\n",
       "      <td>3</td>\n",
       "    </tr>\n",
       "    <tr>\n",
       "      <th>3</th>\n",
       "      <td>08/01/2022 03:00:00 AM</td>\n",
       "      <td>5</td>\n",
       "      <td>2</td>\n",
       "      <td>3</td>\n",
       "    </tr>\n",
       "    <tr>\n",
       "      <th>4</th>\n",
       "      <td>08/01/2022 04:00:00 AM</td>\n",
       "      <td>10</td>\n",
       "      <td>2</td>\n",
       "      <td>8</td>\n",
       "    </tr>\n",
       "  </tbody>\n",
       "</table>\n",
       "</div>"
      ],
      "text/plain": [
       "                     Date  Fremont Bridge Total  Fremont Bridge East Sidewalk  \\\n",
       "0  08/01/2022 12:00:00 AM                    23                             7   \n",
       "1  08/01/2022 01:00:00 AM                    12                             5   \n",
       "2  08/01/2022 02:00:00 AM                     3                             0   \n",
       "3  08/01/2022 03:00:00 AM                     5                             2   \n",
       "4  08/01/2022 04:00:00 AM                    10                             2   \n",
       "\n",
       "   Fremont Bridge West Sidewalk  \n",
       "0                            16  \n",
       "1                             7  \n",
       "2                             3  \n",
       "3                             3  \n",
       "4                             8  "
      ]
     },
     "execution_count": 36,
     "metadata": {},
     "output_type": "execute_result"
    }
   ],
   "source": [
    "f_bridge.head()"
   ]
  },
  {
   "cell_type": "code",
   "execution_count": 43,
   "id": "82f1fd02",
   "metadata": {},
   "outputs": [
    {
     "data": {
      "text/plain": [
       "Date                            0\n",
       "Fremont Bridge East Sidewalk    0\n",
       "Fremont Bridge West Sidewalk    0\n",
       "dtype: int64"
      ]
     },
     "execution_count": 43,
     "metadata": {},
     "output_type": "execute_result"
    }
   ],
   "source": [
    "f_bridge_total_na = f_bridge.copy().drop(labels='Fremont Bridge Total', axis=1)\n",
    "f_bridge_total_na.isna().sum()"
   ]
  },
  {
   "cell_type": "code",
   "execution_count": 46,
   "id": "452ebbc3",
   "metadata": {},
   "outputs": [
    {
     "data": {
      "text/html": [
       "<div>\n",
       "<style scoped>\n",
       "    .dataframe tbody tr th:only-of-type {\n",
       "        vertical-align: middle;\n",
       "    }\n",
       "\n",
       "    .dataframe tbody tr th {\n",
       "        vertical-align: top;\n",
       "    }\n",
       "\n",
       "    .dataframe thead th {\n",
       "        text-align: right;\n",
       "    }\n",
       "</style>\n",
       "<table border=\"1\" class=\"dataframe\">\n",
       "  <thead>\n",
       "    <tr style=\"text-align: right;\">\n",
       "      <th></th>\n",
       "      <th>Fremont Bridge East Sidewalk</th>\n",
       "      <th>Fremont Bridge West Sidewalk</th>\n",
       "    </tr>\n",
       "    <tr>\n",
       "      <th>Date</th>\n",
       "      <th></th>\n",
       "      <th></th>\n",
       "    </tr>\n",
       "  </thead>\n",
       "  <tbody>\n",
       "    <tr>\n",
       "      <th>08/01/2022 12:00:00 AM</th>\n",
       "      <td>7</td>\n",
       "      <td>16</td>\n",
       "    </tr>\n",
       "    <tr>\n",
       "      <th>08/01/2022 01:00:00 AM</th>\n",
       "      <td>5</td>\n",
       "      <td>7</td>\n",
       "    </tr>\n",
       "    <tr>\n",
       "      <th>08/01/2022 02:00:00 AM</th>\n",
       "      <td>0</td>\n",
       "      <td>3</td>\n",
       "    </tr>\n",
       "    <tr>\n",
       "      <th>08/01/2022 03:00:00 AM</th>\n",
       "      <td>2</td>\n",
       "      <td>3</td>\n",
       "    </tr>\n",
       "    <tr>\n",
       "      <th>08/01/2022 04:00:00 AM</th>\n",
       "      <td>2</td>\n",
       "      <td>8</td>\n",
       "    </tr>\n",
       "  </tbody>\n",
       "</table>\n",
       "</div>"
      ],
      "text/plain": [
       "                        Fremont Bridge East Sidewalk  \\\n",
       "Date                                                   \n",
       "08/01/2022 12:00:00 AM                             7   \n",
       "08/01/2022 01:00:00 AM                             5   \n",
       "08/01/2022 02:00:00 AM                             0   \n",
       "08/01/2022 03:00:00 AM                             2   \n",
       "08/01/2022 04:00:00 AM                             2   \n",
       "\n",
       "                        Fremont Bridge West Sidewalk  \n",
       "Date                                                  \n",
       "08/01/2022 12:00:00 AM                            16  \n",
       "08/01/2022 01:00:00 AM                             7  \n",
       "08/01/2022 02:00:00 AM                             3  \n",
       "08/01/2022 03:00:00 AM                             3  \n",
       "08/01/2022 04:00:00 AM                             8  "
      ]
     },
     "metadata": {},
     "output_type": "display_data"
    },
    {
     "name": "stdout",
     "output_type": "stream",
     "text": [
      "\n",
      "\n"
     ]
    },
    {
     "data": {
      "text/html": [
       "<div>\n",
       "<style scoped>\n",
       "    .dataframe tbody tr th:only-of-type {\n",
       "        vertical-align: middle;\n",
       "    }\n",
       "\n",
       "    .dataframe tbody tr th {\n",
       "        vertical-align: top;\n",
       "    }\n",
       "\n",
       "    .dataframe thead th {\n",
       "        text-align: right;\n",
       "    }\n",
       "</style>\n",
       "<table border=\"1\" class=\"dataframe\">\n",
       "  <thead>\n",
       "    <tr style=\"text-align: right;\">\n",
       "      <th></th>\n",
       "      <th>East</th>\n",
       "      <th>West</th>\n",
       "    </tr>\n",
       "    <tr>\n",
       "      <th>Date</th>\n",
       "      <th></th>\n",
       "      <th></th>\n",
       "    </tr>\n",
       "  </thead>\n",
       "  <tbody>\n",
       "    <tr>\n",
       "      <th>08/01/2022 12:00:00 AM</th>\n",
       "      <td>7</td>\n",
       "      <td>16</td>\n",
       "    </tr>\n",
       "    <tr>\n",
       "      <th>08/01/2022 01:00:00 AM</th>\n",
       "      <td>5</td>\n",
       "      <td>7</td>\n",
       "    </tr>\n",
       "    <tr>\n",
       "      <th>08/01/2022 02:00:00 AM</th>\n",
       "      <td>0</td>\n",
       "      <td>3</td>\n",
       "    </tr>\n",
       "    <tr>\n",
       "      <th>08/01/2022 03:00:00 AM</th>\n",
       "      <td>2</td>\n",
       "      <td>3</td>\n",
       "    </tr>\n",
       "    <tr>\n",
       "      <th>08/01/2022 04:00:00 AM</th>\n",
       "      <td>2</td>\n",
       "      <td>8</td>\n",
       "    </tr>\n",
       "  </tbody>\n",
       "</table>\n",
       "</div>"
      ],
      "text/plain": [
       "                        East  West\n",
       "Date                              \n",
       "08/01/2022 12:00:00 AM     7    16\n",
       "08/01/2022 01:00:00 AM     5     7\n",
       "08/01/2022 02:00:00 AM     0     3\n",
       "08/01/2022 03:00:00 AM     2     3\n",
       "08/01/2022 04:00:00 AM     2     8"
      ]
     },
     "metadata": {},
     "output_type": "display_data"
    }
   ],
   "source": [
    "f_bridge_total_na.set_index('Date', inplace=True)\n",
    "display(f_bridge_total_na.head())\n",
    "f_bridge_total_na.columns = ['East', 'West']\n",
    "print('\\n')\n",
    "display(f_bridge_total_na.head())"
   ]
  },
  {
   "cell_type": "code",
   "execution_count": 47,
   "id": "8686b70d",
   "metadata": {},
   "outputs": [
    {
     "data": {
      "text/html": [
       "<div>\n",
       "<style scoped>\n",
       "    .dataframe tbody tr th:only-of-type {\n",
       "        vertical-align: middle;\n",
       "    }\n",
       "\n",
       "    .dataframe tbody tr th {\n",
       "        vertical-align: top;\n",
       "    }\n",
       "\n",
       "    .dataframe thead th {\n",
       "        text-align: right;\n",
       "    }\n",
       "</style>\n",
       "<table border=\"1\" class=\"dataframe\">\n",
       "  <thead>\n",
       "    <tr style=\"text-align: right;\">\n",
       "      <th></th>\n",
       "      <th>East</th>\n",
       "      <th>West</th>\n",
       "      <th>Total</th>\n",
       "    </tr>\n",
       "    <tr>\n",
       "      <th>Date</th>\n",
       "      <th></th>\n",
       "      <th></th>\n",
       "      <th></th>\n",
       "    </tr>\n",
       "  </thead>\n",
       "  <tbody>\n",
       "    <tr>\n",
       "      <th>08/01/2022 12:00:00 AM</th>\n",
       "      <td>7</td>\n",
       "      <td>16</td>\n",
       "      <td>23</td>\n",
       "    </tr>\n",
       "    <tr>\n",
       "      <th>08/01/2022 01:00:00 AM</th>\n",
       "      <td>5</td>\n",
       "      <td>7</td>\n",
       "      <td>12</td>\n",
       "    </tr>\n",
       "    <tr>\n",
       "      <th>08/01/2022 02:00:00 AM</th>\n",
       "      <td>0</td>\n",
       "      <td>3</td>\n",
       "      <td>3</td>\n",
       "    </tr>\n",
       "    <tr>\n",
       "      <th>08/01/2022 03:00:00 AM</th>\n",
       "      <td>2</td>\n",
       "      <td>3</td>\n",
       "      <td>5</td>\n",
       "    </tr>\n",
       "    <tr>\n",
       "      <th>08/01/2022 04:00:00 AM</th>\n",
       "      <td>2</td>\n",
       "      <td>8</td>\n",
       "      <td>10</td>\n",
       "    </tr>\n",
       "  </tbody>\n",
       "</table>\n",
       "</div>"
      ],
      "text/plain": [
       "                        East  West  Total\n",
       "Date                                     \n",
       "08/01/2022 12:00:00 AM     7    16     23\n",
       "08/01/2022 01:00:00 AM     5     7     12\n",
       "08/01/2022 02:00:00 AM     0     3      3\n",
       "08/01/2022 03:00:00 AM     2     3      5\n",
       "08/01/2022 04:00:00 AM     2     8     10"
      ]
     },
     "execution_count": 47,
     "metadata": {},
     "output_type": "execute_result"
    }
   ],
   "source": [
    "f_bridge_total_na['Total'] = f_bridge_total_na.eval('East + West')\n",
    "f_bridge_total_na.head()"
   ]
  },
  {
   "cell_type": "code",
   "execution_count": 50,
   "id": "ef48d336",
   "metadata": {},
   "outputs": [],
   "source": [
    "f_bridge_total_na.index = pd.to_datetime(f_bridge_total_na.index)"
   ]
  },
  {
   "cell_type": "code",
   "execution_count": 53,
   "id": "218b418f",
   "metadata": {},
   "outputs": [
    {
     "data": {
      "image/png": "[encoded data removed]",
      "text/plain": [
       "<Figure size 640x480 with 1 Axes>"
      ]
     },
     "metadata": {},
     "output_type": "display_data"
    }
   ],
   "source": [
    "weekly = f_bridge_total_na.loc['2022'].resample('W').sum()\n",
    "weekly.plot(style=[':', '--', '-'])\n",
    "plt.ylabel('Weekly Bicyclye Counts')\n",
    "plt.show()"
   ]
  },
  {
   "cell_type": "markdown",
   "id": "3474bcd2",
   "metadata": {},
   "source": [
    "#### Groupby Weekday value of time series index \n",
    "* https://pandas.pydata.org/pandas-docs/stable/reference/api/pandas.DatetimeIndex.html\n",
    "* See property values for type which can be leveraged to look at agg values  grouped by `year`, `day`, `week` and various other time values of interest"
   ]
  },
  {
   "cell_type": "code",
   "execution_count": 56,
   "id": "58aced94",
   "metadata": {},
   "outputs": [
    {
     "data": {
      "image/png": "[encoded data removed]",
      "text/plain": [
       "<Figure size 640x480 with 1 Axes>"
      ]
     },
     "metadata": {},
     "output_type": "display_data"
    }
   ],
   "source": [
    "by_weekday = f_bridge_total_na.groupby(f_bridge_total_na.index.dayofweek).mean()\n",
    "by_weekday.index = ['Mon', 'Tues', 'Wed', 'Thurs', 'Fri', 'Sat', 'Sun']\n",
    "by_weekday.plot(style=[':', '--', '-'])\n",
    "plt.show()"
   ]
  },
  {
   "cell_type": "code",
   "execution_count": 59,
   "id": "ab49569b",
   "metadata": {},
   "outputs": [
    {
     "data": {
      "text/plain": [
       "(dtype('<M8[ns]'),\n",
       " DatetimeIndex(['2022-08-01 00:00:00', '2022-08-01 01:00:00',\n",
       "                '2022-08-01 02:00:00', '2022-08-01 03:00:00',\n",
       "                '2022-08-01 04:00:00'],\n",
       "               dtype='datetime64[ns]', name='Date', freq=None))"
      ]
     },
     "execution_count": 59,
     "metadata": {},
     "output_type": "execute_result"
    }
   ],
   "source": [
    "f_bridge_total_na.index.dtype, f_bridge_total_na.index[:5]"
   ]
  },
  {
   "cell_type": "markdown",
   "id": "63380e8c",
   "metadata": {},
   "source": [
    "#### Compund Groupby on Values of TimeSeriesIndex "
   ]
  },
  {
   "cell_type": "code",
   "execution_count": 65,
   "id": "073c9231",
   "metadata": {},
   "outputs": [
    {
     "data": {
      "text/html": [
       "<div>\n",
       "<style scoped>\n",
       "    .dataframe tbody tr th:only-of-type {\n",
       "        vertical-align: middle;\n",
       "    }\n",
       "\n",
       "    .dataframe tbody tr th {\n",
       "        vertical-align: top;\n",
       "    }\n",
       "\n",
       "    .dataframe thead th {\n",
       "        text-align: right;\n",
       "    }\n",
       "</style>\n",
       "<table border=\"1\" class=\"dataframe\">\n",
       "  <thead>\n",
       "    <tr style=\"text-align: right;\">\n",
       "      <th></th>\n",
       "      <th>East</th>\n",
       "      <th>West</th>\n",
       "      <th>Total</th>\n",
       "    </tr>\n",
       "  </thead>\n",
       "  <tbody>\n",
       "    <tr>\n",
       "      <th>Weekday</th>\n",
       "      <td>59.588710</td>\n",
       "      <td>82.913978</td>\n",
       "      <td>142.502688</td>\n",
       "    </tr>\n",
       "    <tr>\n",
       "      <th>Weekend</th>\n",
       "      <td>48.371094</td>\n",
       "      <td>61.957031</td>\n",
       "      <td>110.328125</td>\n",
       "    </tr>\n",
       "  </tbody>\n",
       "</table>\n",
       "</div>"
      ],
      "text/plain": [
       "              East       West       Total\n",
       "Weekday  59.588710  82.913978  142.502688\n",
       "Weekend  48.371094  61.957031  110.328125"
      ]
     },
     "execution_count": 65,
     "metadata": {},
     "output_type": "execute_result"
    }
   ],
   "source": [
    "# Set weekend array value to groupby \n",
    "weekend = np.where(f_bridge_total_na.index.weekday < 5, 'Weekday', 'Weekend')\n",
    "by_time = f_bridge_total_na.groupby([weekend]).mean()\n",
    "by_time"
   ]
  },
  {
   "cell_type": "code",
   "execution_count": 66,
   "id": "2a304098",
   "metadata": {},
   "outputs": [
    {
     "data": {
      "text/html": [
       "<div>\n",
       "<style scoped>\n",
       "    .dataframe tbody tr th:only-of-type {\n",
       "        vertical-align: middle;\n",
       "    }\n",
       "\n",
       "    .dataframe tbody tr th {\n",
       "        vertical-align: top;\n",
       "    }\n",
       "\n",
       "    .dataframe thead th {\n",
       "        text-align: right;\n",
       "    }\n",
       "</style>\n",
       "<table border=\"1\" class=\"dataframe\">\n",
       "  <thead>\n",
       "    <tr style=\"text-align: right;\">\n",
       "      <th></th>\n",
       "      <th></th>\n",
       "      <th>East</th>\n",
       "      <th>West</th>\n",
       "      <th>Total</th>\n",
       "    </tr>\n",
       "  </thead>\n",
       "  <tbody>\n",
       "    <tr>\n",
       "      <th rowspan=\"24\" valign=\"top\">Weekday</th>\n",
       "      <th>00:00:00</th>\n",
       "      <td>5.903226</td>\n",
       "      <td>7.935484</td>\n",
       "      <td>13.838710</td>\n",
       "    </tr>\n",
       "    <tr>\n",
       "      <th>01:00:00</th>\n",
       "      <td>2.193548</td>\n",
       "      <td>3.645161</td>\n",
       "      <td>5.838710</td>\n",
       "    </tr>\n",
       "    <tr>\n",
       "      <th>02:00:00</th>\n",
       "      <td>2.193548</td>\n",
       "      <td>2.032258</td>\n",
       "      <td>4.225806</td>\n",
       "    </tr>\n",
       "    <tr>\n",
       "      <th>03:00:00</th>\n",
       "      <td>1.612903</td>\n",
       "      <td>2.064516</td>\n",
       "      <td>3.677419</td>\n",
       "    </tr>\n",
       "    <tr>\n",
       "      <th>04:00:00</th>\n",
       "      <td>3.451613</td>\n",
       "      <td>6.000000</td>\n",
       "      <td>9.451613</td>\n",
       "    </tr>\n",
       "    <tr>\n",
       "      <th>05:00:00</th>\n",
       "      <td>10.258065</td>\n",
       "      <td>14.387097</td>\n",
       "      <td>24.645161</td>\n",
       "    </tr>\n",
       "    <tr>\n",
       "      <th>06:00:00</th>\n",
       "      <td>52.322581</td>\n",
       "      <td>57.193548</td>\n",
       "      <td>109.516129</td>\n",
       "    </tr>\n",
       "    <tr>\n",
       "      <th>07:00:00</th>\n",
       "      <td>134.064516</td>\n",
       "      <td>130.258065</td>\n",
       "      <td>264.322581</td>\n",
       "    </tr>\n",
       "    <tr>\n",
       "      <th>08:00:00</th>\n",
       "      <td>177.064516</td>\n",
       "      <td>172.903226</td>\n",
       "      <td>349.967742</td>\n",
       "    </tr>\n",
       "    <tr>\n",
       "      <th>09:00:00</th>\n",
       "      <td>104.161290</td>\n",
       "      <td>117.903226</td>\n",
       "      <td>222.064516</td>\n",
       "    </tr>\n",
       "    <tr>\n",
       "      <th>10:00:00</th>\n",
       "      <td>55.129032</td>\n",
       "      <td>68.451613</td>\n",
       "      <td>123.580645</td>\n",
       "    </tr>\n",
       "    <tr>\n",
       "      <th>11:00:00</th>\n",
       "      <td>52.645161</td>\n",
       "      <td>58.322581</td>\n",
       "      <td>110.967742</td>\n",
       "    </tr>\n",
       "    <tr>\n",
       "      <th>12:00:00</th>\n",
       "      <td>57.677419</td>\n",
       "      <td>64.806452</td>\n",
       "      <td>122.483871</td>\n",
       "    </tr>\n",
       "    <tr>\n",
       "      <th>13:00:00</th>\n",
       "      <td>54.612903</td>\n",
       "      <td>66.838710</td>\n",
       "      <td>121.451613</td>\n",
       "    </tr>\n",
       "    <tr>\n",
       "      <th>14:00:00</th>\n",
       "      <td>56.096774</td>\n",
       "      <td>75.645161</td>\n",
       "      <td>131.741935</td>\n",
       "    </tr>\n",
       "    <tr>\n",
       "      <th>15:00:00</th>\n",
       "      <td>76.096774</td>\n",
       "      <td>109.709677</td>\n",
       "      <td>185.806452</td>\n",
       "    </tr>\n",
       "    <tr>\n",
       "      <th>16:00:00</th>\n",
       "      <td>108.064516</td>\n",
       "      <td>198.483871</td>\n",
       "      <td>306.548387</td>\n",
       "    </tr>\n",
       "    <tr>\n",
       "      <th>17:00:00</th>\n",
       "      <td>153.870968</td>\n",
       "      <td>333.870968</td>\n",
       "      <td>487.741935</td>\n",
       "    </tr>\n",
       "    <tr>\n",
       "      <th>18:00:00</th>\n",
       "      <td>122.451613</td>\n",
       "      <td>214.290323</td>\n",
       "      <td>336.741935</td>\n",
       "    </tr>\n",
       "    <tr>\n",
       "      <th>19:00:00</th>\n",
       "      <td>80.387097</td>\n",
       "      <td>118.161290</td>\n",
       "      <td>198.548387</td>\n",
       "    </tr>\n",
       "    <tr>\n",
       "      <th>20:00:00</th>\n",
       "      <td>55.064516</td>\n",
       "      <td>74.774194</td>\n",
       "      <td>129.838710</td>\n",
       "    </tr>\n",
       "    <tr>\n",
       "      <th>21:00:00</th>\n",
       "      <td>34.161290</td>\n",
       "      <td>45.451613</td>\n",
       "      <td>79.612903</td>\n",
       "    </tr>\n",
       "    <tr>\n",
       "      <th>22:00:00</th>\n",
       "      <td>18.387097</td>\n",
       "      <td>27.096774</td>\n",
       "      <td>45.483871</td>\n",
       "    </tr>\n",
       "    <tr>\n",
       "      <th>23:00:00</th>\n",
       "      <td>12.258065</td>\n",
       "      <td>19.709677</td>\n",
       "      <td>31.967742</td>\n",
       "    </tr>\n",
       "    <tr>\n",
       "      <th rowspan=\"24\" valign=\"top\">Weekend</th>\n",
       "      <th>00:00:00</th>\n",
       "      <td>10.181818</td>\n",
       "      <td>14.454545</td>\n",
       "      <td>24.636364</td>\n",
       "    </tr>\n",
       "    <tr>\n",
       "      <th>01:00:00</th>\n",
       "      <td>6.636364</td>\n",
       "      <td>8.454545</td>\n",
       "      <td>15.090909</td>\n",
       "    </tr>\n",
       "    <tr>\n",
       "      <th>02:00:00</th>\n",
       "      <td>5.000000</td>\n",
       "      <td>4.000000</td>\n",
       "      <td>9.000000</td>\n",
       "    </tr>\n",
       "    <tr>\n",
       "      <th>03:00:00</th>\n",
       "      <td>3.272727</td>\n",
       "      <td>2.090909</td>\n",
       "      <td>5.363636</td>\n",
       "    </tr>\n",
       "    <tr>\n",
       "      <th>04:00:00</th>\n",
       "      <td>1.727273</td>\n",
       "      <td>2.818182</td>\n",
       "      <td>4.545455</td>\n",
       "    </tr>\n",
       "    <tr>\n",
       "      <th>05:00:00</th>\n",
       "      <td>3.454545</td>\n",
       "      <td>4.363636</td>\n",
       "      <td>7.818182</td>\n",
       "    </tr>\n",
       "    <tr>\n",
       "      <th>06:00:00</th>\n",
       "      <td>8.909091</td>\n",
       "      <td>15.818182</td>\n",
       "      <td>24.727273</td>\n",
       "    </tr>\n",
       "    <tr>\n",
       "      <th>07:00:00</th>\n",
       "      <td>17.727273</td>\n",
       "      <td>24.454545</td>\n",
       "      <td>42.181818</td>\n",
       "    </tr>\n",
       "    <tr>\n",
       "      <th>08:00:00</th>\n",
       "      <td>39.454545</td>\n",
       "      <td>42.272727</td>\n",
       "      <td>81.727273</td>\n",
       "    </tr>\n",
       "    <tr>\n",
       "      <th>09:00:00</th>\n",
       "      <td>59.545455</td>\n",
       "      <td>63.636364</td>\n",
       "      <td>123.181818</td>\n",
       "    </tr>\n",
       "    <tr>\n",
       "      <th>10:00:00</th>\n",
       "      <td>69.636364</td>\n",
       "      <td>111.090909</td>\n",
       "      <td>180.727273</td>\n",
       "    </tr>\n",
       "    <tr>\n",
       "      <th>11:00:00</th>\n",
       "      <td>89.272727</td>\n",
       "      <td>139.454545</td>\n",
       "      <td>228.727273</td>\n",
       "    </tr>\n",
       "    <tr>\n",
       "      <th>12:00:00</th>\n",
       "      <td>98.454545</td>\n",
       "      <td>133.272727</td>\n",
       "      <td>231.727273</td>\n",
       "    </tr>\n",
       "    <tr>\n",
       "      <th>13:00:00</th>\n",
       "      <td>108.454545</td>\n",
       "      <td>115.636364</td>\n",
       "      <td>224.090909</td>\n",
       "    </tr>\n",
       "    <tr>\n",
       "      <th>14:00:00</th>\n",
       "      <td>112.272727</td>\n",
       "      <td>128.454545</td>\n",
       "      <td>240.727273</td>\n",
       "    </tr>\n",
       "    <tr>\n",
       "      <th>15:00:00</th>\n",
       "      <td>108.000000</td>\n",
       "      <td>120.909091</td>\n",
       "      <td>228.909091</td>\n",
       "    </tr>\n",
       "    <tr>\n",
       "      <th>16:00:00</th>\n",
       "      <td>111.600000</td>\n",
       "      <td>122.800000</td>\n",
       "      <td>234.400000</td>\n",
       "    </tr>\n",
       "    <tr>\n",
       "      <th>17:00:00</th>\n",
       "      <td>93.300000</td>\n",
       "      <td>104.500000</td>\n",
       "      <td>197.800000</td>\n",
       "    </tr>\n",
       "    <tr>\n",
       "      <th>18:00:00</th>\n",
       "      <td>77.000000</td>\n",
       "      <td>91.700000</td>\n",
       "      <td>168.700000</td>\n",
       "    </tr>\n",
       "    <tr>\n",
       "      <th>19:00:00</th>\n",
       "      <td>53.700000</td>\n",
       "      <td>93.200000</td>\n",
       "      <td>146.900000</td>\n",
       "    </tr>\n",
       "    <tr>\n",
       "      <th>20:00:00</th>\n",
       "      <td>39.700000</td>\n",
       "      <td>55.400000</td>\n",
       "      <td>95.100000</td>\n",
       "    </tr>\n",
       "    <tr>\n",
       "      <th>21:00:00</th>\n",
       "      <td>26.100000</td>\n",
       "      <td>49.400000</td>\n",
       "      <td>75.500000</td>\n",
       "    </tr>\n",
       "    <tr>\n",
       "      <th>22:00:00</th>\n",
       "      <td>11.000000</td>\n",
       "      <td>22.400000</td>\n",
       "      <td>33.400000</td>\n",
       "    </tr>\n",
       "    <tr>\n",
       "      <th>23:00:00</th>\n",
       "      <td>9.700000</td>\n",
       "      <td>22.400000</td>\n",
       "      <td>32.100000</td>\n",
       "    </tr>\n",
       "  </tbody>\n",
       "</table>\n",
       "</div>"
      ],
      "text/plain": [
       "                        East        West       Total\n",
       "Weekday 00:00:00    5.903226    7.935484   13.838710\n",
       "        01:00:00    2.193548    3.645161    5.838710\n",
       "        02:00:00    2.193548    2.032258    4.225806\n",
       "        03:00:00    1.612903    2.064516    3.677419\n",
       "        04:00:00    3.451613    6.000000    9.451613\n",
       "        05:00:00   10.258065   14.387097   24.645161\n",
       "        06:00:00   52.322581   57.193548  109.516129\n",
       "        07:00:00  134.064516  130.258065  264.322581\n",
       "        08:00:00  177.064516  172.903226  349.967742\n",
       "        09:00:00  104.161290  117.903226  222.064516\n",
       "        10:00:00   55.129032   68.451613  123.580645\n",
       "        11:00:00   52.645161   58.322581  110.967742\n",
       "        12:00:00   57.677419   64.806452  122.483871\n",
       "        13:00:00   54.612903   66.838710  121.451613\n",
       "        14:00:00   56.096774   75.645161  131.741935\n",
       "        15:00:00   76.096774  109.709677  185.806452\n",
       "        16:00:00  108.064516  198.483871  306.548387\n",
       "        17:00:00  153.870968  333.870968  487.741935\n",
       "        18:00:00  122.451613  214.290323  336.741935\n",
       "        19:00:00   80.387097  118.161290  198.548387\n",
       "        20:00:00   55.064516   74.774194  129.838710\n",
       "        21:00:00   34.161290   45.451613   79.612903\n",
       "        22:00:00   18.387097   27.096774   45.483871\n",
       "        23:00:00   12.258065   19.709677   31.967742\n",
       "Weekend 00:00:00   10.181818   14.454545   24.636364\n",
       "        01:00:00    6.636364    8.454545   15.090909\n",
       "        02:00:00    5.000000    4.000000    9.000000\n",
       "        03:00:00    3.272727    2.090909    5.363636\n",
       "        04:00:00    1.727273    2.818182    4.545455\n",
       "        05:00:00    3.454545    4.363636    7.818182\n",
       "        06:00:00    8.909091   15.818182   24.727273\n",
       "        07:00:00   17.727273   24.454545   42.181818\n",
       "        08:00:00   39.454545   42.272727   81.727273\n",
       "        09:00:00   59.545455   63.636364  123.181818\n",
       "        10:00:00   69.636364  111.090909  180.727273\n",
       "        11:00:00   89.272727  139.454545  228.727273\n",
       "        12:00:00   98.454545  133.272727  231.727273\n",
       "        13:00:00  108.454545  115.636364  224.090909\n",
       "        14:00:00  112.272727  128.454545  240.727273\n",
       "        15:00:00  108.000000  120.909091  228.909091\n",
       "        16:00:00  111.600000  122.800000  234.400000\n",
       "        17:00:00   93.300000  104.500000  197.800000\n",
       "        18:00:00   77.000000   91.700000  168.700000\n",
       "        19:00:00   53.700000   93.200000  146.900000\n",
       "        20:00:00   39.700000   55.400000   95.100000\n",
       "        21:00:00   26.100000   49.400000   75.500000\n",
       "        22:00:00   11.000000   22.400000   33.400000\n",
       "        23:00:00    9.700000   22.400000   32.100000"
      ]
     },
     "execution_count": 66,
     "metadata": {},
     "output_type": "execute_result"
    }
   ],
   "source": [
    "weekend_time = np.where(f_bridge_total_na.index.weekday < 5, 'Weekday', 'Weekend')\n",
    "by_time_wt = f_bridge_total_na.groupby([weekend_time, f_bridge_total_na.index.time]).mean()\n",
    "by_time_wt"
   ]
  },
  {
   "cell_type": "markdown",
   "id": "a12feba3",
   "metadata": {},
   "source": [
    "## High-Performance Pandas : eval() and query() \n",
    "\n",
    "As we’ve already seen in previous chapters, the power of the `PyData` stack is built upon the ability of `NumPy` and `Pandas` to push basic operations into `C` via an intuitive syntax: examples are **vectorized/broadcasted** operations in NumPy, and **grouping-type** operations in Pandas. While these abstractions are efficient for many commmon case, they often rely on creation of temporary intermediate objects, which can cause undue overhead in computation time and memory use\n",
    "\n",
    "#### Motivating query() and eval()\n",
    "Directly access C-speed operations without costly allocation of intermediate arrays. `Eval` and `Query` functions which rely on the Numexpr package\n",
    "\n",
    "#### pandas.eval() for Efficient Operations\n",
    "function in Pandas uses string expression to efficiently compute operations using DataFrames"
   ]
  },
  {
   "cell_type": "code",
   "execution_count": 67,
   "id": "c4ee577b",
   "metadata": {},
   "outputs": [],
   "source": [
    "nrows, ncols = 10000, 10\n",
    "rng = np.random.RandomState(42)\n",
    "df1, df2, df3, df4 = (pd.DataFrame(rng.rand(nrows, ncols)) for i in range(4))"
   ]
  },
  {
   "cell_type": "code",
   "execution_count": 68,
   "id": "0f0d8be1",
   "metadata": {},
   "outputs": [
    {
     "data": {
      "text/plain": [
       "[(10000, 10), (10000, 10), (10000, 10), (10000, 10)]"
      ]
     },
     "execution_count": 68,
     "metadata": {},
     "output_type": "execute_result"
    }
   ],
   "source": [
    "[df.shape for df in [df1,df2,df3,df4]]"
   ]
  },
  {
   "cell_type": "code",
   "execution_count": 69,
   "id": "5f0de4d0",
   "metadata": {},
   "outputs": [
    {
     "name": "stdout",
     "output_type": "stream",
     "text": [
      "1 ms ± 354 µs per loop (mean ± std. dev. of 7 runs, 100 loops each)\n"
     ]
    }
   ],
   "source": [
    "# Compute the sum of all four dataframes using typical pandas approacht\n",
    "%timeit df1 + df2 + df3 + df4"
   ]
  },
  {
   "cell_type": "code",
   "execution_count": 70,
   "id": "07bc87a6",
   "metadata": {},
   "outputs": [
    {
     "name": "stdout",
     "output_type": "stream",
     "text": [
      "2.58 ms ± 79.2 µs per loop (mean ± std. dev. of 7 runs, 100 loops each)\n"
     ]
    }
   ],
   "source": [
    "%timeit pd.eval('df1 + df2 + df3 + df4')"
   ]
  },
  {
   "cell_type": "code",
   "execution_count": 75,
   "id": "4607ddee",
   "metadata": {},
   "outputs": [
    {
     "data": {
      "text/html": [
       "<div>\n",
       "<style scoped>\n",
       "    .dataframe tbody tr th:only-of-type {\n",
       "        vertical-align: middle;\n",
       "    }\n",
       "\n",
       "    .dataframe tbody tr th {\n",
       "        vertical-align: top;\n",
       "    }\n",
       "\n",
       "    .dataframe thead th {\n",
       "        text-align: right;\n",
       "    }\n",
       "</style>\n",
       "<table border=\"1\" class=\"dataframe\">\n",
       "  <thead>\n",
       "    <tr style=\"text-align: right;\">\n",
       "      <th></th>\n",
       "      <th>0</th>\n",
       "      <th>1</th>\n",
       "      <th>2</th>\n",
       "      <th>3</th>\n",
       "      <th>4</th>\n",
       "      <th>5</th>\n",
       "      <th>6</th>\n",
       "      <th>7</th>\n",
       "      <th>8</th>\n",
       "      <th>9</th>\n",
       "    </tr>\n",
       "  </thead>\n",
       "  <tbody>\n",
       "    <tr>\n",
       "      <th>0</th>\n",
       "      <td>-0.494778</td>\n",
       "      <td>-0.904029</td>\n",
       "      <td>-1.083499</td>\n",
       "      <td>-0.320827</td>\n",
       "      <td>-0.052373</td>\n",
       "      <td>-0.174899</td>\n",
       "      <td>-0.052724</td>\n",
       "      <td>-0.741134</td>\n",
       "      <td>-0.173779</td>\n",
       "      <td>-1.009812</td>\n",
       "    </tr>\n",
       "    <tr>\n",
       "      <th>1</th>\n",
       "      <td>-0.000270</td>\n",
       "      <td>-1.329565</td>\n",
       "      <td>-0.224148</td>\n",
       "      <td>-0.083751</td>\n",
       "      <td>-0.066848</td>\n",
       "      <td>-0.128365</td>\n",
       "      <td>-0.120020</td>\n",
       "      <td>-0.151652</td>\n",
       "      <td>-0.318945</td>\n",
       "      <td>-0.038600</td>\n",
       "    </tr>\n",
       "    <tr>\n",
       "      <th>2</th>\n",
       "      <td>-0.554084</td>\n",
       "      <td>-0.068786</td>\n",
       "      <td>-0.113260</td>\n",
       "      <td>-0.478678</td>\n",
       "      <td>-0.014168</td>\n",
       "      <td>-3.256899</td>\n",
       "      <td>-0.015886</td>\n",
       "      <td>-0.557431</td>\n",
       "      <td>-0.235180</td>\n",
       "      <td>-0.013976</td>\n",
       "    </tr>\n",
       "    <tr>\n",
       "      <th>3</th>\n",
       "      <td>-0.755365</td>\n",
       "      <td>-0.126161</td>\n",
       "      <td>-0.057692</td>\n",
       "      <td>-0.589108</td>\n",
       "      <td>-1.166204</td>\n",
       "      <td>-0.054607</td>\n",
       "      <td>-0.015550</td>\n",
       "      <td>-0.135834</td>\n",
       "      <td>-0.352512</td>\n",
       "      <td>-0.200205</td>\n",
       "    </tr>\n",
       "    <tr>\n",
       "      <th>4</th>\n",
       "      <td>-0.046617</td>\n",
       "      <td>-0.153764</td>\n",
       "      <td>-0.018827</td>\n",
       "      <td>-16.837948</td>\n",
       "      <td>-0.044465</td>\n",
       "      <td>-0.145872</td>\n",
       "      <td>-0.048686</td>\n",
       "      <td>-0.017135</td>\n",
       "      <td>-0.061438</td>\n",
       "      <td>-0.018951</td>\n",
       "    </tr>\n",
       "  </tbody>\n",
       "</table>\n",
       "</div>"
      ],
      "text/plain": [
       "          0         1         2          3         4         5         6  \\\n",
       "0 -0.494778 -0.904029 -1.083499  -0.320827 -0.052373 -0.174899 -0.052724   \n",
       "1 -0.000270 -1.329565 -0.224148  -0.083751 -0.066848 -0.128365 -0.120020   \n",
       "2 -0.554084 -0.068786 -0.113260  -0.478678 -0.014168 -3.256899 -0.015886   \n",
       "3 -0.755365 -0.126161 -0.057692  -0.589108 -1.166204 -0.054607 -0.015550   \n",
       "4 -0.046617 -0.153764 -0.018827 -16.837948 -0.044465 -0.145872 -0.048686   \n",
       "\n",
       "          7         8         9  \n",
       "0 -0.741134 -0.173779 -1.009812  \n",
       "1 -0.151652 -0.318945 -0.038600  \n",
       "2 -0.557431 -0.235180 -0.013976  \n",
       "3 -0.135834 -0.352512 -0.200205  \n",
       "4 -0.017135 -0.061438 -0.018951  "
      ]
     },
     "metadata": {},
     "output_type": "display_data"
    },
    {
     "data": {
      "text/html": [
       "<div>\n",
       "<style scoped>\n",
       "    .dataframe tbody tr th:only-of-type {\n",
       "        vertical-align: middle;\n",
       "    }\n",
       "\n",
       "    .dataframe tbody tr th {\n",
       "        vertical-align: top;\n",
       "    }\n",
       "\n",
       "    .dataframe thead th {\n",
       "        text-align: right;\n",
       "    }\n",
       "</style>\n",
       "<table border=\"1\" class=\"dataframe\">\n",
       "  <thead>\n",
       "    <tr style=\"text-align: right;\">\n",
       "      <th></th>\n",
       "      <th>0</th>\n",
       "      <th>1</th>\n",
       "      <th>2</th>\n",
       "      <th>3</th>\n",
       "      <th>4</th>\n",
       "      <th>5</th>\n",
       "      <th>6</th>\n",
       "      <th>7</th>\n",
       "      <th>8</th>\n",
       "      <th>9</th>\n",
       "    </tr>\n",
       "  </thead>\n",
       "  <tbody>\n",
       "    <tr>\n",
       "      <th>0</th>\n",
       "      <td>-0.494778</td>\n",
       "      <td>-0.904029</td>\n",
       "      <td>-1.083499</td>\n",
       "      <td>-0.320827</td>\n",
       "      <td>-0.052373</td>\n",
       "      <td>-0.174899</td>\n",
       "      <td>-0.052724</td>\n",
       "      <td>-0.741134</td>\n",
       "      <td>-0.173779</td>\n",
       "      <td>-1.009812</td>\n",
       "    </tr>\n",
       "    <tr>\n",
       "      <th>1</th>\n",
       "      <td>-0.000270</td>\n",
       "      <td>-1.329565</td>\n",
       "      <td>-0.224148</td>\n",
       "      <td>-0.083751</td>\n",
       "      <td>-0.066848</td>\n",
       "      <td>-0.128365</td>\n",
       "      <td>-0.120020</td>\n",
       "      <td>-0.151652</td>\n",
       "      <td>-0.318945</td>\n",
       "      <td>-0.038600</td>\n",
       "    </tr>\n",
       "    <tr>\n",
       "      <th>2</th>\n",
       "      <td>-0.554084</td>\n",
       "      <td>-0.068786</td>\n",
       "      <td>-0.113260</td>\n",
       "      <td>-0.478678</td>\n",
       "      <td>-0.014168</td>\n",
       "      <td>-3.256899</td>\n",
       "      <td>-0.015886</td>\n",
       "      <td>-0.557431</td>\n",
       "      <td>-0.235180</td>\n",
       "      <td>-0.013976</td>\n",
       "    </tr>\n",
       "    <tr>\n",
       "      <th>3</th>\n",
       "      <td>-0.755365</td>\n",
       "      <td>-0.126161</td>\n",
       "      <td>-0.057692</td>\n",
       "      <td>-0.589108</td>\n",
       "      <td>-1.166204</td>\n",
       "      <td>-0.054607</td>\n",
       "      <td>-0.015550</td>\n",
       "      <td>-0.135834</td>\n",
       "      <td>-0.352512</td>\n",
       "      <td>-0.200205</td>\n",
       "    </tr>\n",
       "    <tr>\n",
       "      <th>4</th>\n",
       "      <td>-0.046617</td>\n",
       "      <td>-0.153764</td>\n",
       "      <td>-0.018827</td>\n",
       "      <td>-16.837948</td>\n",
       "      <td>-0.044465</td>\n",
       "      <td>-0.145872</td>\n",
       "      <td>-0.048686</td>\n",
       "      <td>-0.017135</td>\n",
       "      <td>-0.061438</td>\n",
       "      <td>-0.018951</td>\n",
       "    </tr>\n",
       "  </tbody>\n",
       "</table>\n",
       "</div>"
      ],
      "text/plain": [
       "          0         1         2          3         4         5         6  \\\n",
       "0 -0.494778 -0.904029 -1.083499  -0.320827 -0.052373 -0.174899 -0.052724   \n",
       "1 -0.000270 -1.329565 -0.224148  -0.083751 -0.066848 -0.128365 -0.120020   \n",
       "2 -0.554084 -0.068786 -0.113260  -0.478678 -0.014168 -3.256899 -0.015886   \n",
       "3 -0.755365 -0.126161 -0.057692  -0.589108 -1.166204 -0.054607 -0.015550   \n",
       "4 -0.046617 -0.153764 -0.018827 -16.837948 -0.044465 -0.145872 -0.048686   \n",
       "\n",
       "          7         8         9  \n",
       "0 -0.741134 -0.173779 -1.009812  \n",
       "1 -0.151652 -0.318945 -0.038600  \n",
       "2 -0.557431 -0.235180 -0.013976  \n",
       "3 -0.135834 -0.352512 -0.200205  \n",
       "4 -0.017135 -0.061438 -0.018951  "
      ]
     },
     "metadata": {},
     "output_type": "display_data"
    },
    {
     "data": {
      "text/plain": [
       "True"
      ]
     },
     "execution_count": 75,
     "metadata": {},
     "output_type": "execute_result"
    }
   ],
   "source": [
    "# Arithmetic operators\n",
    "result1 = -df1 * df2 / (df3 + df4)\n",
    "result2 = pd.eval('-df1 * df2 / (df3 + df4)')\n",
    "display(result1.head())\n",
    "display(result2.head())\n",
    "np.allclose(result1, result2)"
   ]
  },
  {
   "cell_type": "code",
   "execution_count": 79,
   "id": "ed42cf87",
   "metadata": {},
   "outputs": [
    {
     "data": {
      "text/html": [
       "<div>\n",
       "<style scoped>\n",
       "    .dataframe tbody tr th:only-of-type {\n",
       "        vertical-align: middle;\n",
       "    }\n",
       "\n",
       "    .dataframe tbody tr th {\n",
       "        vertical-align: top;\n",
       "    }\n",
       "\n",
       "    .dataframe thead th {\n",
       "        text-align: right;\n",
       "    }\n",
       "</style>\n",
       "<table border=\"1\" class=\"dataframe\">\n",
       "  <thead>\n",
       "    <tr style=\"text-align: right;\">\n",
       "      <th></th>\n",
       "      <th>0</th>\n",
       "      <th>1</th>\n",
       "      <th>2</th>\n",
       "      <th>3</th>\n",
       "      <th>4</th>\n",
       "      <th>5</th>\n",
       "      <th>6</th>\n",
       "      <th>7</th>\n",
       "      <th>8</th>\n",
       "      <th>9</th>\n",
       "    </tr>\n",
       "  </thead>\n",
       "  <tbody>\n",
       "    <tr>\n",
       "      <th>0</th>\n",
       "      <td>True</td>\n",
       "      <td>False</td>\n",
       "      <td>False</td>\n",
       "      <td>False</td>\n",
       "      <td>True</td>\n",
       "      <td>True</td>\n",
       "      <td>True</td>\n",
       "      <td>False</td>\n",
       "      <td>False</td>\n",
       "      <td>False</td>\n",
       "    </tr>\n",
       "    <tr>\n",
       "      <th>1</th>\n",
       "      <td>False</td>\n",
       "      <td>False</td>\n",
       "      <td>False</td>\n",
       "      <td>True</td>\n",
       "      <td>False</td>\n",
       "      <td>True</td>\n",
       "      <td>True</td>\n",
       "      <td>False</td>\n",
       "      <td>True</td>\n",
       "      <td>False</td>\n",
       "    </tr>\n",
       "    <tr>\n",
       "      <th>2</th>\n",
       "      <td>True</td>\n",
       "      <td>True</td>\n",
       "      <td>True</td>\n",
       "      <td>True</td>\n",
       "      <td>False</td>\n",
       "      <td>False</td>\n",
       "      <td>False</td>\n",
       "      <td>True</td>\n",
       "      <td>False</td>\n",
       "      <td>True</td>\n",
       "    </tr>\n",
       "    <tr>\n",
       "      <th>3</th>\n",
       "      <td>True</td>\n",
       "      <td>True</td>\n",
       "      <td>True</td>\n",
       "      <td>False</td>\n",
       "      <td>True</td>\n",
       "      <td>False</td>\n",
       "      <td>False</td>\n",
       "      <td>True</td>\n",
       "      <td>True</td>\n",
       "      <td>False</td>\n",
       "    </tr>\n",
       "    <tr>\n",
       "      <th>4</th>\n",
       "      <td>True</td>\n",
       "      <td>False</td>\n",
       "      <td>True</td>\n",
       "      <td>False</td>\n",
       "      <td>False</td>\n",
       "      <td>False</td>\n",
       "      <td>False</td>\n",
       "      <td>False</td>\n",
       "      <td>False</td>\n",
       "      <td>False</td>\n",
       "    </tr>\n",
       "    <tr>\n",
       "      <th>...</th>\n",
       "      <td>...</td>\n",
       "      <td>...</td>\n",
       "      <td>...</td>\n",
       "      <td>...</td>\n",
       "      <td>...</td>\n",
       "      <td>...</td>\n",
       "      <td>...</td>\n",
       "      <td>...</td>\n",
       "      <td>...</td>\n",
       "      <td>...</td>\n",
       "    </tr>\n",
       "    <tr>\n",
       "      <th>9995</th>\n",
       "      <td>True</td>\n",
       "      <td>True</td>\n",
       "      <td>True</td>\n",
       "      <td>False</td>\n",
       "      <td>False</td>\n",
       "      <td>True</td>\n",
       "      <td>True</td>\n",
       "      <td>True</td>\n",
       "      <td>False</td>\n",
       "      <td>False</td>\n",
       "    </tr>\n",
       "    <tr>\n",
       "      <th>9996</th>\n",
       "      <td>False</td>\n",
       "      <td>False</td>\n",
       "      <td>False</td>\n",
       "      <td>True</td>\n",
       "      <td>False</td>\n",
       "      <td>False</td>\n",
       "      <td>True</td>\n",
       "      <td>False</td>\n",
       "      <td>True</td>\n",
       "      <td>False</td>\n",
       "    </tr>\n",
       "    <tr>\n",
       "      <th>9997</th>\n",
       "      <td>False</td>\n",
       "      <td>True</td>\n",
       "      <td>True</td>\n",
       "      <td>False</td>\n",
       "      <td>True</td>\n",
       "      <td>False</td>\n",
       "      <td>False</td>\n",
       "      <td>False</td>\n",
       "      <td>True</td>\n",
       "      <td>False</td>\n",
       "    </tr>\n",
       "    <tr>\n",
       "      <th>9998</th>\n",
       "      <td>False</td>\n",
       "      <td>True</td>\n",
       "      <td>True</td>\n",
       "      <td>True</td>\n",
       "      <td>False</td>\n",
       "      <td>False</td>\n",
       "      <td>False</td>\n",
       "      <td>False</td>\n",
       "      <td>True</td>\n",
       "      <td>True</td>\n",
       "    </tr>\n",
       "    <tr>\n",
       "      <th>9999</th>\n",
       "      <td>True</td>\n",
       "      <td>True</td>\n",
       "      <td>False</td>\n",
       "      <td>False</td>\n",
       "      <td>False</td>\n",
       "      <td>False</td>\n",
       "      <td>False</td>\n",
       "      <td>False</td>\n",
       "      <td>True</td>\n",
       "      <td>False</td>\n",
       "    </tr>\n",
       "  </tbody>\n",
       "</table>\n",
       "<p>10000 rows × 10 columns</p>\n",
       "</div>"
      ],
      "text/plain": [
       "          0      1      2      3      4      5      6      7      8      9\n",
       "0      True  False  False  False   True   True   True  False  False  False\n",
       "1     False  False  False   True  False   True   True  False   True  False\n",
       "2      True   True   True   True  False  False  False   True  False   True\n",
       "3      True   True   True  False   True  False  False   True   True  False\n",
       "4      True  False   True  False  False  False  False  False  False  False\n",
       "...     ...    ...    ...    ...    ...    ...    ...    ...    ...    ...\n",
       "9995   True   True   True  False  False   True   True   True  False  False\n",
       "9996  False  False  False   True  False  False   True  False   True  False\n",
       "9997  False   True   True  False   True  False  False  False   True  False\n",
       "9998  False   True   True   True  False  False  False  False   True   True\n",
       "9999   True   True  False  False  False  False  False  False   True  False\n",
       "\n",
       "[10000 rows x 10 columns]"
      ]
     },
     "execution_count": 79,
     "metadata": {},
     "output_type": "execute_result"
    }
   ],
   "source": [
    "# Comparison operators\n",
    "df1 < df2"
   ]
  },
  {
   "cell_type": "code",
   "execution_count": 80,
   "id": "806ecf9c",
   "metadata": {},
   "outputs": [
    {
     "data": {
      "text/html": [
       "<div>\n",
       "<style scoped>\n",
       "    .dataframe tbody tr th:only-of-type {\n",
       "        vertical-align: middle;\n",
       "    }\n",
       "\n",
       "    .dataframe tbody tr th {\n",
       "        vertical-align: top;\n",
       "    }\n",
       "\n",
       "    .dataframe thead th {\n",
       "        text-align: right;\n",
       "    }\n",
       "</style>\n",
       "<table border=\"1\" class=\"dataframe\">\n",
       "  <thead>\n",
       "    <tr style=\"text-align: right;\">\n",
       "      <th></th>\n",
       "      <th>0</th>\n",
       "      <th>1</th>\n",
       "      <th>2</th>\n",
       "      <th>3</th>\n",
       "      <th>4</th>\n",
       "      <th>5</th>\n",
       "      <th>6</th>\n",
       "      <th>7</th>\n",
       "      <th>8</th>\n",
       "      <th>9</th>\n",
       "    </tr>\n",
       "  </thead>\n",
       "  <tbody>\n",
       "    <tr>\n",
       "      <th>0</th>\n",
       "      <td>False</td>\n",
       "      <td>False</td>\n",
       "      <td>False</td>\n",
       "      <td>False</td>\n",
       "      <td>False</td>\n",
       "      <td>False</td>\n",
       "      <td>False</td>\n",
       "      <td>False</td>\n",
       "      <td>False</td>\n",
       "      <td>False</td>\n",
       "    </tr>\n",
       "    <tr>\n",
       "      <th>1</th>\n",
       "      <td>False</td>\n",
       "      <td>False</td>\n",
       "      <td>False</td>\n",
       "      <td>False</td>\n",
       "      <td>False</td>\n",
       "      <td>False</td>\n",
       "      <td>True</td>\n",
       "      <td>False</td>\n",
       "      <td>False</td>\n",
       "      <td>False</td>\n",
       "    </tr>\n",
       "    <tr>\n",
       "      <th>2</th>\n",
       "      <td>False</td>\n",
       "      <td>True</td>\n",
       "      <td>True</td>\n",
       "      <td>False</td>\n",
       "      <td>False</td>\n",
       "      <td>False</td>\n",
       "      <td>False</td>\n",
       "      <td>False</td>\n",
       "      <td>False</td>\n",
       "      <td>False</td>\n",
       "    </tr>\n",
       "    <tr>\n",
       "      <th>3</th>\n",
       "      <td>False</td>\n",
       "      <td>False</td>\n",
       "      <td>False</td>\n",
       "      <td>False</td>\n",
       "      <td>False</td>\n",
       "      <td>False</td>\n",
       "      <td>False</td>\n",
       "      <td>False</td>\n",
       "      <td>False</td>\n",
       "      <td>False</td>\n",
       "    </tr>\n",
       "    <tr>\n",
       "      <th>4</th>\n",
       "      <td>True</td>\n",
       "      <td>False</td>\n",
       "      <td>False</td>\n",
       "      <td>False</td>\n",
       "      <td>False</td>\n",
       "      <td>False</td>\n",
       "      <td>False</td>\n",
       "      <td>False</td>\n",
       "      <td>False</td>\n",
       "      <td>False</td>\n",
       "    </tr>\n",
       "    <tr>\n",
       "      <th>...</th>\n",
       "      <td>...</td>\n",
       "      <td>...</td>\n",
       "      <td>...</td>\n",
       "      <td>...</td>\n",
       "      <td>...</td>\n",
       "      <td>...</td>\n",
       "      <td>...</td>\n",
       "      <td>...</td>\n",
       "      <td>...</td>\n",
       "      <td>...</td>\n",
       "    </tr>\n",
       "    <tr>\n",
       "      <th>9995</th>\n",
       "      <td>True</td>\n",
       "      <td>False</td>\n",
       "      <td>False</td>\n",
       "      <td>False</td>\n",
       "      <td>False</td>\n",
       "      <td>True</td>\n",
       "      <td>False</td>\n",
       "      <td>True</td>\n",
       "      <td>False</td>\n",
       "      <td>False</td>\n",
       "    </tr>\n",
       "    <tr>\n",
       "      <th>9996</th>\n",
       "      <td>False</td>\n",
       "      <td>False</td>\n",
       "      <td>False</td>\n",
       "      <td>False</td>\n",
       "      <td>False</td>\n",
       "      <td>False</td>\n",
       "      <td>True</td>\n",
       "      <td>False</td>\n",
       "      <td>False</td>\n",
       "      <td>False</td>\n",
       "    </tr>\n",
       "    <tr>\n",
       "      <th>9997</th>\n",
       "      <td>False</td>\n",
       "      <td>False</td>\n",
       "      <td>False</td>\n",
       "      <td>False</td>\n",
       "      <td>True</td>\n",
       "      <td>False</td>\n",
       "      <td>False</td>\n",
       "      <td>False</td>\n",
       "      <td>False</td>\n",
       "      <td>False</td>\n",
       "    </tr>\n",
       "    <tr>\n",
       "      <th>9998</th>\n",
       "      <td>False</td>\n",
       "      <td>False</td>\n",
       "      <td>False</td>\n",
       "      <td>False</td>\n",
       "      <td>False</td>\n",
       "      <td>False</td>\n",
       "      <td>False</td>\n",
       "      <td>False</td>\n",
       "      <td>True</td>\n",
       "      <td>False</td>\n",
       "    </tr>\n",
       "    <tr>\n",
       "      <th>9999</th>\n",
       "      <td>False</td>\n",
       "      <td>False</td>\n",
       "      <td>False</td>\n",
       "      <td>False</td>\n",
       "      <td>False</td>\n",
       "      <td>False</td>\n",
       "      <td>False</td>\n",
       "      <td>False</td>\n",
       "      <td>False</td>\n",
       "      <td>False</td>\n",
       "    </tr>\n",
       "  </tbody>\n",
       "</table>\n",
       "<p>10000 rows × 10 columns</p>\n",
       "</div>"
      ],
      "text/plain": [
       "          0      1      2      3      4      5      6      7      8      9\n",
       "0     False  False  False  False  False  False  False  False  False  False\n",
       "1     False  False  False  False  False  False   True  False  False  False\n",
       "2     False   True   True  False  False  False  False  False  False  False\n",
       "3     False  False  False  False  False  False  False  False  False  False\n",
       "4      True  False  False  False  False  False  False  False  False  False\n",
       "...     ...    ...    ...    ...    ...    ...    ...    ...    ...    ...\n",
       "9995   True  False  False  False  False   True  False   True  False  False\n",
       "9996  False  False  False  False  False  False   True  False  False  False\n",
       "9997  False  False  False  False   True  False  False  False  False  False\n",
       "9998  False  False  False  False  False  False  False  False   True  False\n",
       "9999  False  False  False  False  False  False  False  False  False  False\n",
       "\n",
       "[10000 rows x 10 columns]"
      ]
     },
     "execution_count": 80,
     "metadata": {},
     "output_type": "execute_result"
    }
   ],
   "source": [
    "(df1 < df2) & (df2 <= df3) & (df3 != df4)"
   ]
  },
  {
   "cell_type": "code",
   "execution_count": 81,
   "id": "e7644b47",
   "metadata": {},
   "outputs": [
    {
     "data": {
      "text/plain": [
       "True"
      ]
     },
     "execution_count": 81,
     "metadata": {},
     "output_type": "execute_result"
    }
   ],
   "source": [
    "# Object attributes and indices\n",
    "result1 = df2.T[0] + df3.iloc[1]\n",
    "result2 = pd.eval('df2.T[0] + df3.iloc[1]')\n",
    "np.allclose(result1, result2)"
   ]
  },
  {
   "cell_type": "markdown",
   "id": "74e60633",
   "metadata": {},
   "source": [
    "#### DataFrame.eval()\n",
    "* Benefit of eval() method is that columns can be referred to by name\n",
    "* Assignment in DataFrame.eval()\n",
    "    * Can assign new column with similar text"
   ]
  },
  {
   "cell_type": "code",
   "execution_count": 82,
   "id": "3560556b",
   "metadata": {},
   "outputs": [
    {
     "data": {
      "text/html": [
       "<div>\n",
       "<style scoped>\n",
       "    .dataframe tbody tr th:only-of-type {\n",
       "        vertical-align: middle;\n",
       "    }\n",
       "\n",
       "    .dataframe tbody tr th {\n",
       "        vertical-align: top;\n",
       "    }\n",
       "\n",
       "    .dataframe thead th {\n",
       "        text-align: right;\n",
       "    }\n",
       "</style>\n",
       "<table border=\"1\" class=\"dataframe\">\n",
       "  <thead>\n",
       "    <tr style=\"text-align: right;\">\n",
       "      <th></th>\n",
       "      <th>A</th>\n",
       "      <th>B</th>\n",
       "      <th>C</th>\n",
       "    </tr>\n",
       "  </thead>\n",
       "  <tbody>\n",
       "    <tr>\n",
       "      <th>0</th>\n",
       "      <td>0.888953</td>\n",
       "      <td>0.315713</td>\n",
       "      <td>0.051910</td>\n",
       "    </tr>\n",
       "    <tr>\n",
       "      <th>1</th>\n",
       "      <td>0.919744</td>\n",
       "      <td>0.436261</td>\n",
       "      <td>0.116823</td>\n",
       "    </tr>\n",
       "    <tr>\n",
       "      <th>2</th>\n",
       "      <td>0.359215</td>\n",
       "      <td>0.782169</td>\n",
       "      <td>0.579062</td>\n",
       "    </tr>\n",
       "    <tr>\n",
       "      <th>3</th>\n",
       "      <td>0.940793</td>\n",
       "      <td>0.987952</td>\n",
       "      <td>0.365920</td>\n",
       "    </tr>\n",
       "    <tr>\n",
       "      <th>4</th>\n",
       "      <td>0.882052</td>\n",
       "      <td>0.957752</td>\n",
       "      <td>0.202160</td>\n",
       "    </tr>\n",
       "  </tbody>\n",
       "</table>\n",
       "</div>"
      ],
      "text/plain": [
       "          A         B         C\n",
       "0  0.888953  0.315713  0.051910\n",
       "1  0.919744  0.436261  0.116823\n",
       "2  0.359215  0.782169  0.579062\n",
       "3  0.940793  0.987952  0.365920\n",
       "4  0.882052  0.957752  0.202160"
      ]
     },
     "execution_count": 82,
     "metadata": {},
     "output_type": "execute_result"
    }
   ],
   "source": [
    "df = pd.DataFrame(rng.rand(1000, 3), columns=['A', 'B', 'C'])\n",
    "df.head()"
   ]
  },
  {
   "cell_type": "code",
   "execution_count": 83,
   "id": "11721304",
   "metadata": {},
   "outputs": [
    {
     "data": {
      "text/plain": [
       "True"
      ]
     },
     "execution_count": 83,
     "metadata": {},
     "output_type": "execute_result"
    }
   ],
   "source": [
    "# using pd.eval\n",
    "result_1 = (df['A'] + df['B']) / (df['C'] - 1)\n",
    "result_2 = pd.eval('(df.A + df.B) / (df.C - 1)')\n",
    "np.allclose(result_1, result_2)"
   ]
  },
  {
   "cell_type": "code",
   "execution_count": 84,
   "id": "dec8ea30",
   "metadata": {},
   "outputs": [
    {
     "data": {
      "text/plain": [
       "True"
      ]
     },
     "execution_count": 84,
     "metadata": {},
     "output_type": "execute_result"
    }
   ],
   "source": [
    "# DataFrame.eval  allows more succinct evaluation of expressions w/columns\n",
    "result_3 = df.eval('(A + B) / (C -1)')\n",
    "np.allclose(result_1, result_3)"
   ]
  },
  {
   "cell_type": "code",
   "execution_count": 85,
   "id": "9a934c5f",
   "metadata": {},
   "outputs": [
    {
     "data": {
      "text/html": [
       "<div>\n",
       "<style scoped>\n",
       "    .dataframe tbody tr th:only-of-type {\n",
       "        vertical-align: middle;\n",
       "    }\n",
       "\n",
       "    .dataframe tbody tr th {\n",
       "        vertical-align: top;\n",
       "    }\n",
       "\n",
       "    .dataframe thead th {\n",
       "        text-align: right;\n",
       "    }\n",
       "</style>\n",
       "<table border=\"1\" class=\"dataframe\">\n",
       "  <thead>\n",
       "    <tr style=\"text-align: right;\">\n",
       "      <th></th>\n",
       "      <th>A</th>\n",
       "      <th>B</th>\n",
       "      <th>C</th>\n",
       "      <th>D</th>\n",
       "    </tr>\n",
       "  </thead>\n",
       "  <tbody>\n",
       "    <tr>\n",
       "      <th>0</th>\n",
       "      <td>0.888953</td>\n",
       "      <td>0.315713</td>\n",
       "      <td>0.051910</td>\n",
       "      <td>-1.270624</td>\n",
       "    </tr>\n",
       "    <tr>\n",
       "      <th>1</th>\n",
       "      <td>0.919744</td>\n",
       "      <td>0.436261</td>\n",
       "      <td>0.116823</td>\n",
       "      <td>-1.535372</td>\n",
       "    </tr>\n",
       "    <tr>\n",
       "      <th>2</th>\n",
       "      <td>0.359215</td>\n",
       "      <td>0.782169</td>\n",
       "      <td>0.579062</td>\n",
       "      <td>-2.711526</td>\n",
       "    </tr>\n",
       "    <tr>\n",
       "      <th>3</th>\n",
       "      <td>0.940793</td>\n",
       "      <td>0.987952</td>\n",
       "      <td>0.365920</td>\n",
       "      <td>-3.041799</td>\n",
       "    </tr>\n",
       "    <tr>\n",
       "      <th>4</th>\n",
       "      <td>0.882052</td>\n",
       "      <td>0.957752</td>\n",
       "      <td>0.202160</td>\n",
       "      <td>-2.305981</td>\n",
       "    </tr>\n",
       "  </tbody>\n",
       "</table>\n",
       "</div>"
      ],
      "text/plain": [
       "          A         B         C         D\n",
       "0  0.888953  0.315713  0.051910 -1.270624\n",
       "1  0.919744  0.436261  0.116823 -1.535372\n",
       "2  0.359215  0.782169  0.579062 -2.711526\n",
       "3  0.940793  0.987952  0.365920 -3.041799\n",
       "4  0.882052  0.957752  0.202160 -2.305981"
      ]
     },
     "execution_count": 85,
     "metadata": {},
     "output_type": "execute_result"
    }
   ],
   "source": [
    "# Assignemnt for new column\n",
    "df.eval('D = (A + B) / (C-1)', inplace=True)\n",
    "df.head()"
   ]
  },
  {
   "cell_type": "code",
   "execution_count": 91,
   "id": "019fea55",
   "metadata": {},
   "outputs": [
    {
     "data": {
      "text/plain": [
       "0     -0.003512\n",
       "1     -0.015636\n",
       "2     -0.247770\n",
       "3     -0.186784\n",
       "4     -0.066004\n",
       "         ...   \n",
       "995    0.009031\n",
       "996   -0.017550\n",
       "997   -0.027301\n",
       "998   -1.775792\n",
       "999   -0.396615\n",
       "Length: 1000, dtype: float64"
      ]
     },
     "metadata": {},
     "output_type": "display_data"
    },
    {
     "data": {
      "text/plain": [
       "0      0.885441\n",
       "1      0.904108\n",
       "2      0.111445\n",
       "3      0.754010\n",
       "4      0.816048\n",
       "         ...   \n",
       "995    0.084548\n",
       "996    0.495516\n",
       "997    0.450508\n",
       "998   -0.870708\n",
       "999    0.237456\n",
       "Length: 1000, dtype: float64"
      ]
     },
     "execution_count": 91,
     "metadata": {},
     "output_type": "execute_result"
    }
   ],
   "source": [
    "# Local variables in DataFrame.eval() - work with local variables with @\n",
    "column_mean = df.mean(1)\n",
    "display(column_mean)\n",
    "df.eval('A + @column_mean')"
   ]
  },
  {
   "cell_type": "markdown",
   "id": "31cd51c7",
   "metadata": {},
   "source": [
    "#### Df.query()\n",
    "* quicker filtering than an eval"
   ]
  },
  {
   "cell_type": "code",
   "execution_count": 93,
   "id": "9bf3e021",
   "metadata": {},
   "outputs": [
    {
     "data": {
      "text/html": [
       "<div>\n",
       "<style scoped>\n",
       "    .dataframe tbody tr th:only-of-type {\n",
       "        vertical-align: middle;\n",
       "    }\n",
       "\n",
       "    .dataframe tbody tr th {\n",
       "        vertical-align: top;\n",
       "    }\n",
       "\n",
       "    .dataframe thead th {\n",
       "        text-align: right;\n",
       "    }\n",
       "</style>\n",
       "<table border=\"1\" class=\"dataframe\">\n",
       "  <thead>\n",
       "    <tr style=\"text-align: right;\">\n",
       "      <th></th>\n",
       "      <th>A</th>\n",
       "      <th>B</th>\n",
       "      <th>C</th>\n",
       "      <th>D</th>\n",
       "    </tr>\n",
       "  </thead>\n",
       "  <tbody>\n",
       "    <tr>\n",
       "      <th>10</th>\n",
       "      <td>0.204350</td>\n",
       "      <td>0.002745</td>\n",
       "      <td>0.895290</td>\n",
       "      <td>-1.977787</td>\n",
       "    </tr>\n",
       "    <tr>\n",
       "      <th>18</th>\n",
       "      <td>0.311942</td>\n",
       "      <td>0.037589</td>\n",
       "      <td>0.658797</td>\n",
       "      <td>-1.024406</td>\n",
       "    </tr>\n",
       "    <tr>\n",
       "      <th>19</th>\n",
       "      <td>0.292605</td>\n",
       "      <td>0.475419</td>\n",
       "      <td>0.077713</td>\n",
       "      <td>-0.832739</td>\n",
       "    </tr>\n",
       "    <tr>\n",
       "      <th>20</th>\n",
       "      <td>0.247766</td>\n",
       "      <td>0.292544</td>\n",
       "      <td>0.101198</td>\n",
       "      <td>-0.601145</td>\n",
       "    </tr>\n",
       "    <tr>\n",
       "      <th>21</th>\n",
       "      <td>0.284910</td>\n",
       "      <td>0.257447</td>\n",
       "      <td>0.312552</td>\n",
       "      <td>-0.788944</td>\n",
       "    </tr>\n",
       "  </tbody>\n",
       "</table>\n",
       "</div>"
      ],
      "text/plain": [
       "           A         B         C         D\n",
       "10  0.204350  0.002745  0.895290 -1.977787\n",
       "18  0.311942  0.037589  0.658797 -1.024406\n",
       "19  0.292605  0.475419  0.077713 -0.832739\n",
       "20  0.247766  0.292544  0.101198 -0.601145\n",
       "21  0.284910  0.257447  0.312552 -0.788944"
      ]
     },
     "execution_count": 93,
     "metadata": {},
     "output_type": "execute_result"
    }
   ],
   "source": [
    "df.query('A < 0.5 and B < 0.5').head()"
   ]
  },
  {
   "cell_type": "code",
   "execution_count": 95,
   "id": "d94b2c39",
   "metadata": {},
   "outputs": [
    {
     "data": {
      "text/html": [
       "<div>\n",
       "<style scoped>\n",
       "    .dataframe tbody tr th:only-of-type {\n",
       "        vertical-align: middle;\n",
       "    }\n",
       "\n",
       "    .dataframe tbody tr th {\n",
       "        vertical-align: top;\n",
       "    }\n",
       "\n",
       "    .dataframe thead th {\n",
       "        text-align: right;\n",
       "    }\n",
       "</style>\n",
       "<table border=\"1\" class=\"dataframe\">\n",
       "  <thead>\n",
       "    <tr style=\"text-align: right;\">\n",
       "      <th></th>\n",
       "      <th>A</th>\n",
       "      <th>B</th>\n",
       "      <th>C</th>\n",
       "      <th>D</th>\n",
       "    </tr>\n",
       "  </thead>\n",
       "  <tbody>\n",
       "    <tr>\n",
       "      <th>10</th>\n",
       "      <td>0.204350</td>\n",
       "      <td>0.002745</td>\n",
       "      <td>0.895290</td>\n",
       "      <td>-1.977787</td>\n",
       "    </tr>\n",
       "    <tr>\n",
       "      <th>18</th>\n",
       "      <td>0.311942</td>\n",
       "      <td>0.037589</td>\n",
       "      <td>0.658797</td>\n",
       "      <td>-1.024406</td>\n",
       "    </tr>\n",
       "    <tr>\n",
       "      <th>19</th>\n",
       "      <td>0.292605</td>\n",
       "      <td>0.475419</td>\n",
       "      <td>0.077713</td>\n",
       "      <td>-0.832739</td>\n",
       "    </tr>\n",
       "    <tr>\n",
       "      <th>20</th>\n",
       "      <td>0.247766</td>\n",
       "      <td>0.292544</td>\n",
       "      <td>0.101198</td>\n",
       "      <td>-0.601145</td>\n",
       "    </tr>\n",
       "    <tr>\n",
       "      <th>21</th>\n",
       "      <td>0.284910</td>\n",
       "      <td>0.257447</td>\n",
       "      <td>0.312552</td>\n",
       "      <td>-0.788944</td>\n",
       "    </tr>\n",
       "  </tbody>\n",
       "</table>\n",
       "</div>"
      ],
      "text/plain": [
       "           A         B         C         D\n",
       "10  0.204350  0.002745  0.895290 -1.977787\n",
       "18  0.311942  0.037589  0.658797 -1.024406\n",
       "19  0.292605  0.475419  0.077713 -0.832739\n",
       "20  0.247766  0.292544  0.101198 -0.601145\n",
       "21  0.284910  0.257447  0.312552 -0.788944"
      ]
     },
     "execution_count": 95,
     "metadata": {},
     "output_type": "execute_result"
    }
   ],
   "source": [
    "CMean = df['C'].mean()\n",
    "df.query('A < @CMean and B < @CMean').head()"
   ]
  },
  {
   "cell_type": "markdown",
   "id": "77e6db3e",
   "metadata": {},
   "source": [
    "* When considering whether to use these functions, the two considerations are `computation time` & `memory use`"
   ]
  },
  {
   "cell_type": "code",
   "execution_count": 96,
   "id": "a2879e23",
   "metadata": {},
   "outputs": [],
   "source": [
    "x = df[(df.A < 0.5) & (df.B < 0.5)]\n",
    "\n",
    "# Roughly equivalent to \n",
    "tmp1 = df.A < 0.5\n",
    "tmp2 = df.B < 0.5\n",
    "tmp3 = tmp1 & tmp2\n",
    "x = df[tmp3]"
   ]
  },
  {
   "cell_type": "code",
   "execution_count": 98,
   "id": "4d87462d",
   "metadata": {},
   "outputs": [
    {
     "data": {
      "text/plain": [
       "32000"
      ]
     },
     "execution_count": 98,
     "metadata": {},
     "output_type": "execute_result"
    }
   ],
   "source": [
    "df.values.nbytes"
   ]
  },
  {
   "cell_type": "markdown",
   "id": "d63d60c3",
   "metadata": {},
   "source": [
    "* Beneifit of eval/query is mainly in the saved memory, and the sometimes cleaner syntax they offer"
   ]
  },
  {
   "cell_type": "code",
   "execution_count": null,
   "id": "4eaa520c",
   "metadata": {},
   "outputs": [],
   "source": []
  }
 ],
 "metadata": {
  "kernelspec": {
   "display_name": "Python 3 (ipykernel)",
   "language": "python",
   "name": "python3"
  },
  "language_info": {
   "codemirror_mode": {
    "name": "ipython",
    "version": 3
   },
   "file_extension": ".py",
   "mimetype": "text/x-python",
   "name": "python",
   "nbconvert_exporter": "python",
   "pygments_lexer": "ipython3",
   "version": "3.9.12"
  }
 },
 "nbformat": 4,
 "nbformat_minor": 5
}
