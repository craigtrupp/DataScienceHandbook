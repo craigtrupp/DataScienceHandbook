{
 "cells": [
  {
   "cell_type": "code",
   "execution_count": 82,
   "id": "6cfc131b",
   "metadata": {},
   "outputs": [],
   "source": [
    "import numpy as np"
   ]
  },
  {
   "cell_type": "code",
   "execution_count": 83,
   "id": "1bc3b213",
   "metadata": {},
   "outputs": [
    {
     "data": {
      "text/plain": [
       "array([[3.14, 3.14, 3.14, 3.14, 3.14],\n",
       "       [3.14, 3.14, 3.14, 3.14, 3.14],\n",
       "       [3.14, 3.14, 3.14, 3.14, 3.14]])"
      ]
     },
     "execution_count": 83,
     "metadata": {},
     "output_type": "execute_result"
    }
   ],
   "source": [
    "# Create a 3x5 array filled with Pi ~3.14\n",
    "np.full((3,5), 3.14)"
   ]
  },
  {
   "cell_type": "code",
   "execution_count": 84,
   "id": "2e6ea0e1",
   "metadata": {},
   "outputs": [
    {
     "data": {
      "text/plain": [
       "array([ 0,  2,  4,  6,  8, 10, 12, 14, 16, 18])"
      ]
     },
     "execution_count": 84,
     "metadata": {},
     "output_type": "execute_result"
    }
   ],
   "source": [
    "# Array filled w/linear sequence\n",
    "np.arange(0, 20, 2)"
   ]
  },
  {
   "cell_type": "code",
   "execution_count": 85,
   "id": "95d37da3",
   "metadata": {},
   "outputs": [
    {
     "data": {
      "text/plain": [
       "array([0.  , 0.25, 0.5 , 0.75, 1.  ])"
      ]
     },
     "execution_count": 85,
     "metadata": {},
     "output_type": "execute_result"
    }
   ],
   "source": [
    "# Create array of five values evenly space\n",
    "np.linspace(0, 1, 5) # Good use for quantiles "
   ]
  },
  {
   "cell_type": "code",
   "execution_count": 86,
   "id": "faf221a5",
   "metadata": {},
   "outputs": [
    {
     "data": {
      "text/plain": [
       "array([[0.45674792, 0.26828131, 0.8370528 ],\n",
       "       [0.27051466, 0.53006201, 0.17537266],\n",
       "       [0.31496645, 0.8911091 , 0.18033628]])"
      ]
     },
     "execution_count": 86,
     "metadata": {},
     "output_type": "execute_result"
    }
   ],
   "source": [
    "# random values\n",
    "np.random.random((3,3))"
   ]
  },
  {
   "cell_type": "code",
   "execution_count": 87,
   "id": "438dae58",
   "metadata": {},
   "outputs": [
    {
     "data": {
      "text/plain": [
       "array([[-1.48630088, -0.02936315, -1.23714237],\n",
       "       [ 0.07598604, -1.94519772, -0.23484041],\n",
       "       [-1.81456729,  0.05963647, -0.39763149]])"
      ]
     },
     "execution_count": 87,
     "metadata": {},
     "output_type": "execute_result"
    }
   ],
   "source": [
    "# 3 x 3 array of normally distributed random values : mean 0 and standard deviation 1\n",
    "np.random.normal(0, 1, (3, 3))"
   ]
  },
  {
   "cell_type": "code",
   "execution_count": 88,
   "id": "5ef00ad0",
   "metadata": {},
   "outputs": [
    {
     "data": {
      "text/plain": [
       "array([[1., 0., 0.],\n",
       "       [0., 1., 0.],\n",
       "       [0., 0., 1.]])"
      ]
     },
     "execution_count": 88,
     "metadata": {},
     "output_type": "execute_result"
    }
   ],
   "source": [
    "# 3x3 identity matrix\n",
    "np.eye(3)"
   ]
  },
  {
   "cell_type": "markdown",
   "id": "90f900ed",
   "metadata": {},
   "source": [
    "### Set DType with Numpy Arrays (Numpy Standard Types of Note)\n",
    "* bool_ \n",
    "* int_ : Default integer type (normally either int64 or int32)\n",
    "* intc : Identical to C (int32 || int64) generally\n",
    "* int8 : Byte (-128 to 127)\n",
    "* int16: Integer(-32768 to 32767)\n",
    "* int32 : Integer (-2,147,483,648 to 2,147,483,648)\n",
    "* uint8 : Unsigned integer (0 to 255)\n",
    "* uint16 : Unsigned integer (0 to 65535)\n",
    "* uint32 : Unsigned Integer (0 to 4294967295)\n",
    "\n",
    "You get the picture"
   ]
  },
  {
   "cell_type": "code",
   "execution_count": 89,
   "id": "b3bc8d98",
   "metadata": {},
   "outputs": [
    {
     "name": "stdout",
     "output_type": "stream",
     "text": [
      "[2 2 6 1 3 9] \n",
      "\n",
      " [[6 1 0 1]\n",
      " [9 0 0 9]\n",
      " [3 4 0 0]] \n",
      "\n",
      " [[[4 1 7 3 2]\n",
      "  [4 7 2 4 8]\n",
      "  [0 7 9 3 4]\n",
      "  [6 1 5 6 2]]\n",
      "\n",
      " [[1 8 3 5 0]\n",
      "  [2 6 2 4 4]\n",
      "  [6 3 0 6 4]\n",
      "  [7 6 7 1 5]]\n",
      "\n",
      " [[7 9 2 4 8]\n",
      "  [1 2 1 1 3]\n",
      "  [5 9 0 8 1]\n",
      "  [6 3 3 5 9]]] \n",
      "\n",
      "x3 ndim:  3\n",
      "x3shape:  (3, 4, 5)\n",
      "x3size:  60\n"
     ]
    }
   ],
   "source": [
    "np.random.seed(123) # seed for reproducibility\n",
    "x1 = np.random.randint(10, size=6)\n",
    "x2 = np.random.randint(10, size=(3,4))\n",
    "x3 = np.random.randint(10, size=(3,4, 5))\n",
    "print(x1, '\\n\\n', x2, '\\n\\n', x3, '\\n')\n",
    "print(\"x3 ndim: \", x3.ndim)\n",
    "print(\"x3shape: \", x3.shape)\n",
    "print(\"x3size: \", x3.size)"
   ]
  },
  {
   "cell_type": "code",
   "execution_count": 90,
   "id": "b9a74a34",
   "metadata": {},
   "outputs": [
    {
     "name": "stdout",
     "output_type": "stream",
     "text": [
      "[[6 1 0 1]\n",
      " [9 0 0 9]\n",
      " [3 4 0 0]]\n",
      "\n",
      "\n"
     ]
    },
    {
     "data": {
      "text/plain": [
       "array([[12,  1,  0,  1],\n",
       "       [14,  0,  0,  9],\n",
       "       [ 3,  4,  0,  0]])"
      ]
     },
     "execution_count": 90,
     "metadata": {},
     "output_type": "execute_result"
    }
   ],
   "source": [
    "print(x2)\n",
    "print('\\n')\n",
    "x2[0, 0] = 12 # change first column in first row\n",
    "x2[1, 0] = x2[1, 0] + 5 # reassign existing value to new value with existing value included\n",
    "x2"
   ]
  },
  {
   "cell_type": "code",
   "execution_count": 91,
   "id": "4a356a3f",
   "metadata": {},
   "outputs": [
    {
     "data": {
      "text/plain": [
       "array([6, 3, 0, 6, 4])"
      ]
     },
     "execution_count": 91,
     "metadata": {},
     "output_type": "execute_result"
    }
   ],
   "source": [
    "# Acccess Three Dimension\n",
    "x3[1, 2, :] # Second Set, Third Row, All Values "
   ]
  },
  {
   "cell_type": "code",
   "execution_count": 92,
   "id": "69baec6e",
   "metadata": {},
   "outputs": [
    {
     "name": "stdout",
     "output_type": "stream",
     "text": [
      "[2 2 6 1 3 9]\n"
     ]
    },
    {
     "data": {
      "text/plain": [
       "array([2, 1, 9])"
      ]
     },
     "execution_count": 92,
     "metadata": {},
     "output_type": "execute_result"
    }
   ],
   "source": [
    "print(x1)\n",
    "x1[1::2] # step to use select elements by slicing and using the step parameter for indexing"
   ]
  },
  {
   "cell_type": "code",
   "execution_count": 93,
   "id": "11c31639",
   "metadata": {},
   "outputs": [
    {
     "data": {
      "text/plain": [
       "array([9, 1, 2])"
      ]
     },
     "execution_count": 93,
     "metadata": {},
     "output_type": "execute_result"
    }
   ],
   "source": [
    "# can reverse too\n",
    "x1[-1::-2]"
   ]
  },
  {
   "cell_type": "code",
   "execution_count": 94,
   "id": "54fa007c",
   "metadata": {},
   "outputs": [
    {
     "name": "stdout",
     "output_type": "stream",
     "text": [
      "[[12  1  0  1]\n",
      " [14  0  0  9]\n",
      " [ 3  4  0  0]]\n"
     ]
    },
    {
     "data": {
      "text/plain": [
       "array([[12,  1,  0],\n",
       "       [14,  0,  0]])"
      ]
     },
     "execution_count": 94,
     "metadata": {},
     "output_type": "execute_result"
    }
   ],
   "source": [
    "print(x2)\n",
    "# Multidimensional subarrays\n",
    "x2[:2, :3] # two rows, three columns"
   ]
  },
  {
   "cell_type": "code",
   "execution_count": 95,
   "id": "ea6cea33",
   "metadata": {},
   "outputs": [
    {
     "data": {
      "text/plain": [
       "array([[12,  0],\n",
       "       [14,  0],\n",
       "       [ 3,  0]])"
      ]
     },
     "execution_count": 95,
     "metadata": {},
     "output_type": "execute_result"
    }
   ],
   "source": [
    "x2[:, ::2] # all rows, every other column"
   ]
  },
  {
   "cell_type": "code",
   "execution_count": 96,
   "id": "c66ee35f",
   "metadata": {},
   "outputs": [
    {
     "data": {
      "text/plain": [
       "array([[ 0,  0,  4,  3],\n",
       "       [ 9,  0,  0, 14],\n",
       "       [ 1,  0,  1, 12]])"
      ]
     },
     "execution_count": 96,
     "metadata": {},
     "output_type": "execute_result"
    }
   ],
   "source": [
    "x2[::-1, ::-1] # reversed all together"
   ]
  },
  {
   "cell_type": "code",
   "execution_count": 97,
   "id": "1588b0e2",
   "metadata": {},
   "outputs": [
    {
     "data": {
      "text/plain": [
       "array([[12,  1],\n",
       "       [14,  0]])"
      ]
     },
     "execution_count": 97,
     "metadata": {},
     "output_type": "execute_result"
    }
   ],
   "source": [
    "# Subarrays as no-copy views\n",
    "x2_sub = x2[:2, :2]\n",
    "x2_sub"
   ]
  },
  {
   "cell_type": "code",
   "execution_count": 98,
   "id": "d6854a53",
   "metadata": {},
   "outputs": [
    {
     "data": {
      "text/plain": [
       "array([[24, 24],\n",
       "       [14,  0]])"
      ]
     },
     "execution_count": 98,
     "metadata": {},
     "output_type": "execute_result"
    }
   ],
   "source": [
    "x2_sub[0, :] = 24\n",
    "x2_sub"
   ]
  },
  {
   "cell_type": "code",
   "execution_count": 99,
   "id": "da1e8463",
   "metadata": {},
   "outputs": [
    {
     "data": {
      "text/plain": [
       "array([[24, 24,  0,  1],\n",
       "       [14,  0,  0,  9],\n",
       "       [ 3,  4,  0,  0]])"
      ]
     },
     "execution_count": 99,
     "metadata": {},
     "output_type": "execute_result"
    }
   ],
   "source": [
    "x2 # original array subbed section is also updated in the parent array we created a sub array from"
   ]
  },
  {
   "cell_type": "markdown",
   "id": "adc1feb8",
   "metadata": {},
   "source": [
    "* Creating a copy of the array won't influence the parent should the child be updated\n",
    "```python\n",
    "x2_sub_copy = x2[:2, :2].copy()\n",
    "print(x2_sub_copy)\n",
    "[[24 24]\n",
    "[14  0]]\n",
    "```\n",
    "```python\n",
    "x2_sub_copy[0, :] = 48\n",
    "print(x2_sub_copy)\n",
    "[[48 48]\n",
    "[14  0]]\n",
    "```\n",
    "```python\n",
    "print(x2)\n",
    "[[24 24  0  1]\n",
    "[14  0  0  9]\n",
    "[ 3  4  0  0]]\n",
    "```\n",
    "* After modifying our subset we can see that the original array is not altered from the copied subset updates"
   ]
  },
  {
   "cell_type": "code",
   "execution_count": 100,
   "id": "97dc8216",
   "metadata": {},
   "outputs": [
    {
     "data": {
      "text/plain": [
       "array([[1, 2, 3],\n",
       "       [4, 5, 6],\n",
       "       [7, 8, 9]])"
      ]
     },
     "execution_count": 100,
     "metadata": {},
     "output_type": "execute_result"
    }
   ],
   "source": [
    "# Reshape Arrays\n",
    "grid = np.arange(1,10).reshape((3,3))\n",
    "grid"
   ]
  },
  {
   "cell_type": "code",
   "execution_count": 101,
   "id": "7c9fdef4",
   "metadata": {},
   "outputs": [
    {
     "data": {
      "text/plain": [
       "array([1, 2, 3])"
      ]
     },
     "execution_count": 101,
     "metadata": {},
     "output_type": "execute_result"
    }
   ],
   "source": [
    "x = np.array([1,2,3])\n",
    "x"
   ]
  },
  {
   "cell_type": "code",
   "execution_count": 102,
   "id": "e231c98f",
   "metadata": {},
   "outputs": [
    {
     "data": {
      "text/plain": [
       "array([[1, 2, 3]])"
      ]
     },
     "execution_count": 102,
     "metadata": {},
     "output_type": "execute_result"
    }
   ],
   "source": [
    "x.reshape((1,3)) # row vector via reshape"
   ]
  },
  {
   "cell_type": "code",
   "execution_count": 103,
   "id": "90c51847",
   "metadata": {},
   "outputs": [
    {
     "data": {
      "text/plain": [
       "array([[1],\n",
       "       [2],\n",
       "       [3]])"
      ]
     },
     "execution_count": 103,
     "metadata": {},
     "output_type": "execute_result"
    }
   ],
   "source": [
    "x.reshape(3,1)"
   ]
  },
  {
   "cell_type": "markdown",
   "id": "de7c0727",
   "metadata": {},
   "source": [
    "### Array Concatenation & Splitting"
   ]
  },
  {
   "cell_type": "code",
   "execution_count": 104,
   "id": "1b8c860f",
   "metadata": {},
   "outputs": [
    {
     "data": {
      "text/plain": [
       "array([1, 2, 3, 4, 5, 6])"
      ]
     },
     "execution_count": 104,
     "metadata": {},
     "output_type": "execute_result"
    }
   ],
   "source": [
    "x = np.array([1,2,3])\n",
    "y = np.array([4,5,6])\n",
    "np.concatenate([x,y])"
   ]
  },
  {
   "cell_type": "code",
   "execution_count": 105,
   "id": "c9ae893a",
   "metadata": {},
   "outputs": [
    {
     "data": {
      "text/plain": [
       "array([[1, 2, 3],\n",
       "       [4, 5, 6]])"
      ]
     },
     "execution_count": 105,
     "metadata": {},
     "output_type": "execute_result"
    }
   ],
   "source": [
    "grid = np.concatenate([x, y]).reshape((2,3))\n",
    "grid"
   ]
  },
  {
   "cell_type": "code",
   "execution_count": 106,
   "id": "3bcbdefb",
   "metadata": {},
   "outputs": [
    {
     "name": "stdout",
     "output_type": "stream",
     "text": [
      "[[1 2 3]\n",
      " [4 5 6]\n",
      " [1 2 3]\n",
      " [4 5 6]]\n",
      "\n",
      " Flipped Second Grid : Row order and Element Order flipped for use of second grid\n",
      "[[1 2 3]\n",
      " [4 5 6]\n",
      " [6 5 4]\n",
      " [3 2 1]]\n",
      "\n",
      " Array rows flipped in order but element order in list maintained\n",
      "[[1 2 3]\n",
      " [4 5 6]\n",
      " [4 5 6]\n",
      " [1 2 3]]\n"
     ]
    }
   ],
   "source": [
    "## concatenate two-dimensional arrays\n",
    "print(np.concatenate([grid, grid]))\n",
    "print('\\n', 'Flipped Second Grid : Row order and Element Order flipped for use of second grid')\n",
    "print(np.concatenate([grid, np.flip(grid)]))\n",
    "print('\\n', 'Array rows flipped in order but element order in list maintained')\n",
    "print(np.concatenate([grid, grid[::-1]]))"
   ]
  },
  {
   "cell_type": "code",
   "execution_count": 107,
   "id": "611a7558",
   "metadata": {},
   "outputs": [
    {
     "data": {
      "text/plain": [
       "array([[1, 2, 3, 1, 2, 3],\n",
       "       [4, 5, 6, 4, 5, 6]])"
      ]
     },
     "execution_count": 107,
     "metadata": {},
     "output_type": "execute_result"
    }
   ],
   "source": [
    "# concatenate along the second axis (zero-indexed) (joins same indexed rows together into single row)\n",
    "np.concatenate([grid, grid], axis=1)"
   ]
  },
  {
   "cell_type": "code",
   "execution_count": 108,
   "id": "6f10874a",
   "metadata": {},
   "outputs": [
    {
     "name": "stdout",
     "output_type": "stream",
     "text": [
      "[[1 2 3]\n",
      " [9 8 7]\n",
      " [6 5 4]]\n",
      "\n",
      "\n",
      "[[ 9  8  7 24]\n",
      " [ 6  5  4  8]]\n"
     ]
    }
   ],
   "source": [
    "# Vertical and Horizontal Stack (More Likely you'll be using the Vertical Stack)\n",
    "grid_2 = np.array([[9,8,7], [6,5,4]])\n",
    "print(np.vstack([x, grid_2]))\n",
    "print('\\n') # Horizontal stack a bit trickier as the total rows in each numpy array would need to match unlike a vertical stack looking at columns\n",
    "print(np.hstack([grid_2, [[24], [8]]]))"
   ]
  },
  {
   "cell_type": "code",
   "execution_count": 109,
   "id": "d324cccc",
   "metadata": {},
   "outputs": [
    {
     "name": "stdout",
     "output_type": "stream",
     "text": [
      "[1 2 3] [99 99] [3 2 1]\n"
     ]
    }
   ],
   "source": [
    "## Splitting of arrays\n",
    "x = [1,2,3,99,99,3,2,1]\n",
    "x1, x2, x3 = np.split(x, [3, 5]) # split the passed list at indexes 3 = 99, and 5 = 3 (two splits needed for three value unpacking into tuples)\n",
    "print(x1, x2, x3) # N split points lead to N + 1 subarrays"
   ]
  },
  {
   "cell_type": "code",
   "execution_count": 110,
   "id": "7d855a7a",
   "metadata": {},
   "outputs": [
    {
     "data": {
      "text/plain": [
       "array([[ 1,  2,  3,  4],\n",
       "       [ 5,  6,  7,  8],\n",
       "       [ 9, 10, 11, 12],\n",
       "       [13, 14, 15, 16]])"
      ]
     },
     "execution_count": 110,
     "metadata": {},
     "output_type": "execute_result"
    }
   ],
   "source": [
    "grid = np.arange(1, 17).reshape(4, 4)\n",
    "grid"
   ]
  },
  {
   "cell_type": "code",
   "execution_count": 111,
   "id": "cc888445",
   "metadata": {},
   "outputs": [
    {
     "name": "stdout",
     "output_type": "stream",
     "text": [
      "[[1 2 3 4]\n",
      " [5 6 7 8]]\n",
      "\n",
      "\n",
      "[[ 9 10 11 12]\n",
      " [13 14 15 16]]\n"
     ]
    }
   ],
   "source": [
    "# vertical split\n",
    "upper, lower = np.vsplit(grid, [2])\n",
    "print(upper)\n",
    "print('\\n')\n",
    "print(lower)"
   ]
  },
  {
   "cell_type": "code",
   "execution_count": 112,
   "id": "a2771cef",
   "metadata": {},
   "outputs": [
    {
     "name": "stdout",
     "output_type": "stream",
     "text": [
      "[[ 1  2]\n",
      " [ 5  6]\n",
      " [ 9 10]\n",
      " [13 14]]\n",
      "\n",
      "\n",
      "[[ 3  4]\n",
      " [ 7  8]\n",
      " [11 12]\n",
      " [15 16]]\n"
     ]
    }
   ],
   "source": [
    "# horizontal split\n",
    "left, right = np.hsplit(grid, [2])\n",
    "print(left)\n",
    "print('\\n')\n",
    "print(right)"
   ]
  }
 ],
 "metadata": {
  "kernelspec": {
   "display_name": "Python 3 (ipykernel)",
   "language": "python",
   "name": "python3"
  },
  "language_info": {
   "codemirror_mode": {
    "name": "ipython",
    "version": 3
   },
   "file_extension": ".py",
   "mimetype": "text/x-python",
   "name": "python",
   "nbconvert_exporter": "python",
   "pygments_lexer": "ipython3",
   "version": "3.9.12"
  }
 },
 "nbformat": 4,
 "nbformat_minor": 5
}
