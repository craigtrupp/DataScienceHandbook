{
 "cells": [
  {
   "cell_type": "code",
   "execution_count": 2,
   "id": "b70141e2",
   "metadata": {},
   "outputs": [],
   "source": [
    "import numpy as np"
   ]
  },
  {
   "cell_type": "code",
   "execution_count": 3,
   "id": "7f74221a",
   "metadata": {},
   "outputs": [],
   "source": [
    "def compute_reciprocals(values):\n",
    "    output = np.empty(len(values))\n",
    "    for i in range(len(values)):\n",
    "        output[i] = 1.0 / values[i]\n",
    "    return output"
   ]
  },
  {
   "cell_type": "code",
   "execution_count": 4,
   "id": "c97c5f7c",
   "metadata": {},
   "outputs": [
    {
     "name": "stdout",
     "output_type": "stream",
     "text": [
      "2.66 s ± 395 ms per loop (mean ± std. dev. of 7 runs, 1 loop each)\n"
     ]
    }
   ],
   "source": [
    "## Timing & Profiling \n",
    "big_array = np.random.randint(1, 100, size=1000000)\n",
    "%timeit compute_reciprocals(big_array)"
   ]
  },
  {
   "cell_type": "markdown",
   "id": "2407c535",
   "metadata": {},
   "source": [
    "* The bottleneck here is not the operations themselves, but the type=checking and function dispatches that CPython must do at each cylce of the loop. "
   ]
  },
  {
   "cell_type": "markdown",
   "id": "b76e4d64",
   "metadata": {},
   "source": [
    "### Introducing UFuncs\n",
    "\n",
    "* vectorized operation\n",
    "* Quickly execute repeated operations on values in NumPy arrays\n",
    "* ufuncs are nearly always more efficient than their counterpart implemented through Python loops"
   ]
  },
  {
   "cell_type": "code",
   "execution_count": 5,
   "id": "9134f190",
   "metadata": {},
   "outputs": [
    {
     "name": "stdout",
     "output_type": "stream",
     "text": [
      "3.98 ms ± 583 µs per loop (mean ± std. dev. of 7 runs, 100 loops each)\n"
     ]
    }
   ],
   "source": [
    "%timeit (1.0 / big_array)"
   ]
  },
  {
   "cell_type": "code",
   "execution_count": 6,
   "id": "e03464ff",
   "metadata": {},
   "outputs": [
    {
     "name": "stdout",
     "output_type": "stream",
     "text": [
      "[[1 2]\n",
      " [3 4]] \n",
      "\n"
     ]
    },
    {
     "data": {
      "text/plain": [
       "array([[ 2,  4],\n",
       "       [ 8, 16]])"
      ]
     },
     "execution_count": 6,
     "metadata": {},
     "output_type": "execute_result"
    }
   ],
   "source": [
    "x = np.arange(1,5).reshape((2,2))\n",
    "print(x, '\\n')\n",
    "2 ** x"
   ]
  },
  {
   "cell_type": "code",
   "execution_count": 7,
   "id": "64488bd8",
   "metadata": {},
   "outputs": [
    {
     "name": "stdout",
     "output_type": "stream",
     "text": [
      "x  = [[1 2]\n",
      " [3 4]] \n",
      "\n",
      "x + 5 =  [[6 7]\n",
      " [8 9]] \n",
      "\n",
      "x - 5 =  [[-4 -3]\n",
      " [-2 -1]] \n",
      "\n",
      "x ^ 2 =  [[ 1  4]\n",
      " [ 9 16]] \n",
      "\n"
     ]
    }
   ],
   "source": [
    "## Array arithmetic\n",
    "x_1 = np.arange(1,5)\n",
    "print(\"x  =\", x, '\\n')\n",
    "print(\"x + 5 = \", x + 5, '\\n')\n",
    "print(\"x - 5 = \", x - 5, '\\n')\n",
    "print(\"x ^ 2 = \", x ** 2, '\\n')"
   ]
  },
  {
   "cell_type": "code",
   "execution_count": 8,
   "id": "97616b7b",
   "metadata": {},
   "outputs": [
    {
     "name": "stdout",
     "output_type": "stream",
     "text": [
      "[[1 2]\n",
      " [3 4]] \n",
      "\n",
      "Floor Division : x // 2 =  [[0 1]\n",
      " [1 2]] \n",
      "\n",
      "Regular division : x / 2 =  [[0.5 1. ]\n",
      " [1.5 2. ]]\n",
      "Remainder or Modulus : x % 2 =  [[1 0]\n",
      " [1 0]]\n"
     ]
    }
   ],
   "source": [
    "print(x, '\\n')\n",
    "print(\"Floor Division : x // 2 = \", x // 2, '\\n')\n",
    "print(\"Regular division : x / 2 = \", x / 2)\n",
    "print(\"Remainder or Modulus : x % 2 = \", x % 2) # Equates to Even or Odd more or less "
   ]
  },
  {
   "cell_type": "code",
   "execution_count": 9,
   "id": "d8cff992",
   "metadata": {},
   "outputs": [
    {
     "name": "stdout",
     "output_type": "stream",
     "text": [
      "[[1 2]\n",
      " [3 4]] \n",
      "\n",
      "Strung together operation : x ** 2 + 5 =  [[ 6  9]\n",
      " [14 21]]\n"
     ]
    }
   ],
   "source": [
    "print(x, '\\n')\n",
    "print(\"Strung together operation : x ** 2 + 5 = \", x ** 2 + 5)"
   ]
  },
  {
   "cell_type": "code",
   "execution_count": 10,
   "id": "1636bcf6",
   "metadata": {},
   "outputs": [
    {
     "name": "stdout",
     "output_type": "stream",
     "text": [
      "The + operator is a wrapper for the add function :  [[3 4]\n",
      " [5 6]]\n"
     ]
    }
   ],
   "source": [
    "print('The + operator is a wrapper for the add function : ', np.add(x, 2))"
   ]
  },
  {
   "cell_type": "code",
   "execution_count": 11,
   "id": "a228a1b1",
   "metadata": {},
   "outputs": [
    {
     "name": "stdout",
     "output_type": "stream",
     "text": [
      "[2 1 0 1 2]\n",
      "[2 1 0 1 2]\n"
     ]
    }
   ],
   "source": [
    "## Absolute Value : How Far from Zero (Positive)\n",
    "x_2 = np.array([-2, -1, 0, 1, 2])\n",
    "print(np.absolute(x_2))\n",
    "print(abs(x_2))\n",
    "## Either Works just the same"
   ]
  },
  {
   "cell_type": "markdown",
   "id": "a33767c8",
   "metadata": {},
   "source": [
    "### Trigonometric functions\n",
    "\n",
    "Numpy provides a large number of useful ufuncs, and some of the most useful are the trigonometric functions."
   ]
  },
  {
   "cell_type": "code",
   "execution_count": 12,
   "id": "5d2ebf70",
   "metadata": {},
   "outputs": [
    {
     "data": {
      "text/plain": [
       "array([0.        , 1.57079633, 3.14159265])"
      ]
     },
     "execution_count": 12,
     "metadata": {},
     "output_type": "execute_result"
    }
   ],
   "source": [
    "## Array of Angles\n",
    "theta = np.linspace(0, np.pi, 3)\n",
    "theta"
   ]
  },
  {
   "cell_type": "code",
   "execution_count": 13,
   "id": "de847051",
   "metadata": {},
   "outputs": [
    {
     "name": "stdout",
     "output_type": "stream",
     "text": [
      "theta =  [0.         1.57079633 3.14159265] \n",
      "\n",
      "sin(theta) =  [0.0000000e+00 1.0000000e+00 1.2246468e-16] \n",
      "\n",
      "cos(theata) =  [ 1.000000e+00  6.123234e-17 -1.000000e+00] \n",
      "\n",
      "tan(theta) =  [ 0.00000000e+00  1.63312394e+16 -1.22464680e-16]\n"
     ]
    }
   ],
   "source": [
    "print(\"theta = \", theta, '\\n')\n",
    "print(\"sin(theta) = \", np.sin(theta), '\\n')\n",
    "print(\"cos(theata) = \", np.cos(theta), '\\n')\n",
    "print(\"tan(theta) = \", np.tan(theta))"
   ]
  },
  {
   "cell_type": "code",
   "execution_count": 14,
   "id": "164fb355",
   "metadata": {},
   "outputs": [
    {
     "name": "stdout",
     "output_type": "stream",
     "text": [
      "x =  [-1, 0, 1] \n",
      "\n",
      "arcsin(x_inverse_trig) =  [-1.57079633  0.          1.57079633] \n",
      "\n",
      "arccos(x_inverse_trig) =  [3.14159265 1.57079633 0.        ] \n",
      "\n",
      "arctan(x_inverse_trig) =  [-0.78539816  0.          0.78539816]\n"
     ]
    }
   ],
   "source": [
    "x_inverse_trig = [-1, 0, 1]\n",
    "print(\"x = \", x_inverse_trig, '\\n')\n",
    "print(\"arcsin(x_inverse_trig) = \", np.arcsin(x_inverse_trig), '\\n')\n",
    "print(\"arccos(x_inverse_trig) = \", np.arccos(x_inverse_trig), '\\n')\n",
    "print(\"arctan(x_inverse_trig) = \", np.arctan(x_inverse_trig))"
   ]
  },
  {
   "cell_type": "markdown",
   "id": "4958201c",
   "metadata": {},
   "source": [
    "### Exponents and logarithms"
   ]
  },
  {
   "cell_type": "code",
   "execution_count": 15,
   "id": "f6bcf405",
   "metadata": {},
   "outputs": [
    {
     "name": "stdout",
     "output_type": "stream",
     "text": [
      "x =  [[1 2]\n",
      " [3 4]] \n",
      "\n",
      "e^x =  [ 2.71828183  7.3890561  20.08553692] \n",
      "\n",
      "2^x =  [2. 4. 8.] \n",
      "\n",
      "3^x =  [ 3  9 27]\n"
     ]
    }
   ],
   "source": [
    "x_exp = [1,2,3]\n",
    "print(\"x = \", x, '\\n')\n",
    "print(\"e^x = \", np.exp(x_exp), '\\n')\n",
    "print(\"2^x = \", np.exp2(x_exp), '\\n')\n",
    "print(\"3^x = \", np.power(3, x_exp))"
   ]
  },
  {
   "cell_type": "code",
   "execution_count": 16,
   "id": "6f2f398a",
   "metadata": {},
   "outputs": [
    {
     "name": "stdout",
     "output_type": "stream",
     "text": [
      "x_log =  [1, 2, 4, 10] \n",
      "\n",
      "ln(x_log) =  [0.         0.69314718 1.38629436 2.30258509]\n",
      "log2(x_log) =  [0.         1.         2.         3.32192809]\n",
      "log10(x_log) =  [0.         0.30103    0.60205999 1.        ]\n"
     ]
    }
   ],
   "source": [
    "x_log = [1,2,4,10]\n",
    "print(\"x_log = \", x_log, '\\n')\n",
    "print(\"ln(x_log) = \", np.log(x_log))\n",
    "print(\"log2(x_log) = \", np.log2(x_log)) # base-2 logarithm\n",
    "print(\"log10(x_log) = \", np.log10(x_log)) # base-10 logarithm"
   ]
  },
  {
   "cell_type": "code",
   "execution_count": 17,
   "id": "8fba9336",
   "metadata": {},
   "outputs": [
    {
     "name": "stdout",
     "output_type": "stream",
     "text": [
      "exp(x) - 1 = [0.         0.0010005  0.01005017 0.10517092]\n",
      "log(1 + x) = [0.         0.0009995  0.00995033 0.09531018]\n"
     ]
    }
   ],
   "source": [
    "## for precision with very small input\n",
    "x = [0, 0.001, 0.01, 0.1]\n",
    "print(\"exp(x) - 1 =\", np.expm1(x))\n",
    "print(\"log(1 + x) =\", np.log1p(x))\n"
   ]
  },
  {
   "cell_type": "code",
   "execution_count": 18,
   "id": "052e11a1",
   "metadata": {},
   "outputs": [
    {
     "name": "stdout",
     "output_type": "stream",
     "text": [
      "erf(x)  = [0.         0.32862676 0.67780119 0.84270079]\n",
      "erfc(x) = [1.         0.67137324 0.32219881 0.15729921]\n",
      "erfinv(x) = [0.         0.27246271 0.73286908        inf]\n"
     ]
    }
   ],
   "source": [
    "# Error function (integral of Gaussian)\n",
    "# its complement, and its inverse\n",
    "from scipy import special\n",
    "x = np.array([0, 0.3, 0.7, 1.0])\n",
    "print(\"erf(x)  =\", special.erf(x))\n",
    "print(\"erfc(x) =\", special.erfc(x))\n",
    "print(\"erfinv(x) =\", special.erfinv(x))"
   ]
  },
  {
   "cell_type": "markdown",
   "id": "4f6b83ff",
   "metadata": {},
   "source": [
    "### Specifying Output, Advanced Ufunc Features"
   ]
  },
  {
   "cell_type": "code",
   "execution_count": 19,
   "id": "36729946",
   "metadata": {},
   "outputs": [
    {
     "name": "stdout",
     "output_type": "stream",
     "text": [
      "[0 1 2 3 4] \n",
      " [ 1.    2.75  6.   10.75 17.  ] \n",
      "\n",
      "[ 0. 10. 20. 30. 40.]\n"
     ]
    }
   ],
   "source": [
    "x = np.arange(5)\n",
    "y = np.empty(5)\n",
    "print(x, '\\n', y, '\\n')\n",
    "\n",
    "np.multiply(x, 10, out=y)\n",
    "print(y)"
   ]
  },
  {
   "cell_type": "code",
   "execution_count": 20,
   "id": "efc702c0",
   "metadata": {},
   "outputs": [
    {
     "data": {
      "text/plain": [
       "array([ 1.,  0.,  2.,  0.,  4.,  0.,  8.,  0., 16.,  0.])"
      ]
     },
     "execution_count": 20,
     "metadata": {},
     "output_type": "execute_result"
    }
   ],
   "source": [
    "# Here we can write the result of a computation to every other element of a specified array\n",
    "# Here we are replacing every other zero with each element in x [0, 1, 2, 3, 4] raised to the power of 2\n",
    "y = np.zeros(10)\n",
    "np.power(2, x, out=y[::2])\n",
    "y"
   ]
  },
  {
   "cell_type": "code",
   "execution_count": 21,
   "id": "fb6de89e",
   "metadata": {},
   "outputs": [
    {
     "name": "stdout",
     "output_type": "stream",
     "text": [
      "1 2 4 8 16\n"
     ]
    }
   ],
   "source": [
    "print(np.power(2, 0), np.power(2,1), np.power(2,2), np.power(2, 3), np.power(2,4))"
   ]
  },
  {
   "cell_type": "markdown",
   "id": "8e5dc56b",
   "metadata": {},
   "source": [
    "### Aggregates"
   ]
  },
  {
   "cell_type": "code",
   "execution_count": 22,
   "id": "c87b9793",
   "metadata": {},
   "outputs": [
    {
     "data": {
      "text/plain": [
       "array([1, 2, 3, 4, 5])"
      ]
     },
     "execution_count": 22,
     "metadata": {},
     "output_type": "execute_result"
    }
   ],
   "source": [
    "x_a = np.arange(1,6)\n",
    "x_a"
   ]
  },
  {
   "cell_type": "code",
   "execution_count": 23,
   "id": "6ac9c4f2",
   "metadata": {},
   "outputs": [
    {
     "data": {
      "text/plain": [
       "15"
      ]
     },
     "execution_count": 23,
     "metadata": {},
     "output_type": "execute_result"
    }
   ],
   "source": [
    "np.add.reduce(x_a) # reduce on the add ufunc return the sum of all elements in the array"
   ]
  },
  {
   "cell_type": "code",
   "execution_count": 24,
   "id": "947ad4d5",
   "metadata": {},
   "outputs": [
    {
     "data": {
      "text/plain": [
       "120"
      ]
     },
     "execution_count": 24,
     "metadata": {},
     "output_type": "execute_result"
    }
   ],
   "source": [
    "np.multiply.reduce(x_a) # reduce on the multiply ufunc return the product of all array elements"
   ]
  },
  {
   "cell_type": "code",
   "execution_count": 25,
   "id": "70bad902",
   "metadata": {},
   "outputs": [
    {
     "data": {
      "text/plain": [
       "array([ 1,  3,  6, 10, 15])"
      ]
     },
     "execution_count": 25,
     "metadata": {},
     "output_type": "execute_result"
    }
   ],
   "source": [
    "## store intermediate results of reduction call above\n",
    "np.add.accumulate(x_a)"
   ]
  },
  {
   "cell_type": "code",
   "execution_count": 27,
   "id": "0b5b879e",
   "metadata": {},
   "outputs": [
    {
     "data": {
      "text/plain": [
       "array([[ 1,  2,  3,  4,  5],\n",
       "       [ 2,  4,  6,  8, 10],\n",
       "       [ 3,  6,  9, 12, 15],\n",
       "       [ 4,  8, 12, 16, 20],\n",
       "       [ 5, 10, 15, 20, 25]])"
      ]
     },
     "execution_count": 27,
     "metadata": {},
     "output_type": "execute_result"
    }
   ],
   "source": [
    "np.multiply.outer(x_a, x_a) # all pairs of two different inputs (Outer Products)"
   ]
  },
  {
   "cell_type": "code",
   "execution_count": null,
   "id": "1cab4df5",
   "metadata": {},
   "outputs": [],
   "source": []
  }
 ],
 "metadata": {
  "kernelspec": {
   "display_name": "Python 3 (ipykernel)",
   "language": "python",
   "name": "python3"
  },
  "language_info": {
   "codemirror_mode": {
    "name": "ipython",
    "version": 3
   },
   "file_extension": ".py",
   "mimetype": "text/x-python",
   "name": "python",
   "nbconvert_exporter": "python",
   "pygments_lexer": "ipython3",
   "version": "3.9.12"
  }
 },
 "nbformat": 4,
 "nbformat_minor": 5
}
