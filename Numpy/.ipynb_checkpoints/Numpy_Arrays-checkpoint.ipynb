{
 "cells": [
  {
   "cell_type": "code",
   "execution_count": 1,
   "id": "c27b7815",
   "metadata": {},
   "outputs": [],
   "source": [
    "import numpy as np"
   ]
  },
  {
   "cell_type": "code",
   "execution_count": 2,
   "id": "427056e4",
   "metadata": {},
   "outputs": [
    {
     "data": {
      "text/plain": [
       "array([[3.14, 3.14, 3.14, 3.14, 3.14],\n",
       "       [3.14, 3.14, 3.14, 3.14, 3.14],\n",
       "       [3.14, 3.14, 3.14, 3.14, 3.14]])"
      ]
     },
     "execution_count": 2,
     "metadata": {},
     "output_type": "execute_result"
    }
   ],
   "source": [
    "# Create a 3x5 array filled with Pi ~3.14\n",
    "np.full((3,5), 3.14)"
   ]
  },
  {
   "cell_type": "code",
   "execution_count": 4,
   "id": "2d6d8722",
   "metadata": {},
   "outputs": [
    {
     "data": {
      "text/plain": [
       "array([ 0,  2,  4,  6,  8, 10, 12, 14, 16, 18])"
      ]
     },
     "execution_count": 4,
     "metadata": {},
     "output_type": "execute_result"
    }
   ],
   "source": [
    "# Array filled w/linear sequence\n",
    "np.arange(0, 20, 2)"
   ]
  },
  {
   "cell_type": "code",
   "execution_count": 5,
   "id": "f0890180",
   "metadata": {},
   "outputs": [
    {
     "data": {
      "text/plain": [
       "array([0.  , 0.25, 0.5 , 0.75, 1.  ])"
      ]
     },
     "execution_count": 5,
     "metadata": {},
     "output_type": "execute_result"
    }
   ],
   "source": [
    "# Create array of five values evenly space\n",
    "np.linspace(0, 1, 5) # Good use for quantiles "
   ]
  },
  {
   "cell_type": "code",
   "execution_count": 6,
   "id": "3a200f25",
   "metadata": {},
   "outputs": [
    {
     "data": {
      "text/plain": [
       "array([[0.93420459, 0.50248619, 0.14155484],\n",
       "       [0.52876466, 0.24854318, 0.68862541],\n",
       "       [0.14703272, 0.34855432, 0.28195106]])"
      ]
     },
     "execution_count": 6,
     "metadata": {},
     "output_type": "execute_result"
    }
   ],
   "source": [
    "# random values\n",
    "np.random.random((3,3))"
   ]
  },
  {
   "cell_type": "code",
   "execution_count": 7,
   "id": "184b8baa",
   "metadata": {},
   "outputs": [
    {
     "data": {
      "text/plain": [
       "array([[ 2.22310035, -0.50418435,  0.04231982],\n",
       "       [ 0.43464736,  1.96842558,  0.46186256],\n",
       "       [-1.38597195,  1.50497831, -0.49426855]])"
      ]
     },
     "execution_count": 7,
     "metadata": {},
     "output_type": "execute_result"
    }
   ],
   "source": [
    "# 3 x 3 array of normally distributed random values : mean 0 and standard deviation 1\n",
    "np.random.normal(0, 1, (3, 3))"
   ]
  },
  {
   "cell_type": "code",
   "execution_count": 8,
   "id": "9d49b75b",
   "metadata": {},
   "outputs": [
    {
     "data": {
      "text/plain": [
       "array([[1., 0., 0.],\n",
       "       [0., 1., 0.],\n",
       "       [0., 0., 1.]])"
      ]
     },
     "execution_count": 8,
     "metadata": {},
     "output_type": "execute_result"
    }
   ],
   "source": [
    "# 3x3 identity matrix\n",
    "np.eye(3)"
   ]
  },
  {
   "cell_type": "markdown",
   "id": "d5a1050c",
   "metadata": {},
   "source": [
    "### Set DType with Numpy Arrays (Numpy Standard Types of Note)\n",
    "* bool_ \n",
    "* int_ : Default integer type (normally either int64 or int32)\n",
    "* intc : Identical to C (int32 || int64) generally\n",
    "* int8 : Byte (-128 to 127)\n",
    "* int16: Integer(-32768 to 32767)\n",
    "* int32 : Integer (-2,147,483,648 to 2,147,483,648)\n",
    "* uint8 : Unsigned integer (0 to 255)\n",
    "* uint16 : Unsigned integer (0 to 65535)\n",
    "* uint32 : Unsigned Integer (0 to 4294967295)\n",
    "\n",
    "You get the picture"
   ]
  },
  {
   "cell_type": "code",
   "execution_count": 15,
   "id": "fe652000",
   "metadata": {},
   "outputs": [
    {
     "name": "stdout",
     "output_type": "stream",
     "text": [
      "[2 2 6 1 3 9] \n",
      "\n",
      " [[6 1 0 1]\n",
      " [9 0 0 9]\n",
      " [3 4 0 0]] \n",
      "\n",
      " [[[4 1 7 3 2]\n",
      "  [4 7 2 4 8]\n",
      "  [0 7 9 3 4]\n",
      "  [6 1 5 6 2]]\n",
      "\n",
      " [[1 8 3 5 0]\n",
      "  [2 6 2 4 4]\n",
      "  [6 3 0 6 4]\n",
      "  [7 6 7 1 5]]\n",
      "\n",
      " [[7 9 2 4 8]\n",
      "  [1 2 1 1 3]\n",
      "  [5 9 0 8 1]\n",
      "  [6 3 3 5 9]]] \n",
      "\n",
      "x3 ndim:  3\n",
      "x3shape:  (3, 4, 5)\n",
      "x3size:  60\n"
     ]
    }
   ],
   "source": [
    "np.random.seed(123) # seed for reproducibility\n",
    "x1 = np.random.randint(10, size=6)\n",
    "x2 = np.random.randint(10, size=(3,4))\n",
    "x3 = np.random.randint(10, size=(3,4, 5))\n",
    "print(x1, '\\n\\n', x2, '\\n\\n', x3, '\\n')\n",
    "print(\"x3 ndim: \", x3.ndim)\n",
    "print(\"x3shape: \", x3.shape)\n",
    "print(\"x3size: \", x3.size)"
   ]
  },
  {
   "cell_type": "code",
   "execution_count": 16,
   "id": "cb0bd18d",
   "metadata": {},
   "outputs": [
    {
     "name": "stdout",
     "output_type": "stream",
     "text": [
      "[[6 1 0 1]\n",
      " [9 0 0 9]\n",
      " [3 4 0 0]]\n",
      "\n",
      "\n"
     ]
    },
    {
     "data": {
      "text/plain": [
       "array([[12,  1,  0,  1],\n",
       "       [14,  0,  0,  9],\n",
       "       [ 3,  4,  0,  0]])"
      ]
     },
     "execution_count": 16,
     "metadata": {},
     "output_type": "execute_result"
    }
   ],
   "source": [
    "print(x2)\n",
    "print('\\n')\n",
    "x2[0, 0] = 12 # change first column in first row\n",
    "x2[1, 0] = x2[1, 0] + 5 # reassign existing value to new value with existing value included\n",
    "x2"
   ]
  },
  {
   "cell_type": "code",
   "execution_count": 18,
   "id": "337b4148",
   "metadata": {},
   "outputs": [
    {
     "data": {
      "text/plain": [
       "array([6, 3, 0, 6, 4])"
      ]
     },
     "execution_count": 18,
     "metadata": {},
     "output_type": "execute_result"
    }
   ],
   "source": [
    "# Acccess Three Dimension\n",
    "x3[1, 2, :] # Second Set, Third Row, All Values "
   ]
  },
  {
   "cell_type": "code",
   "execution_count": 20,
   "id": "9f4b6dbb",
   "metadata": {},
   "outputs": [
    {
     "name": "stdout",
     "output_type": "stream",
     "text": [
      "[2 2 6 1 3 9]\n"
     ]
    },
    {
     "data": {
      "text/plain": [
       "array([2, 1, 9])"
      ]
     },
     "execution_count": 20,
     "metadata": {},
     "output_type": "execute_result"
    }
   ],
   "source": [
    "print(x1)\n",
    "x1[1::2] # step to use select elements by slicing and using the step parameter for indexing"
   ]
  },
  {
   "cell_type": "code",
   "execution_count": 21,
   "id": "adab6b3e",
   "metadata": {},
   "outputs": [
    {
     "data": {
      "text/plain": [
       "array([9, 1, 2])"
      ]
     },
     "execution_count": 21,
     "metadata": {},
     "output_type": "execute_result"
    }
   ],
   "source": [
    "# can reverse too\n",
    "x1[-1::-2]"
   ]
  },
  {
   "cell_type": "code",
   "execution_count": 24,
   "id": "d2d2172f",
   "metadata": {},
   "outputs": [
    {
     "name": "stdout",
     "output_type": "stream",
     "text": [
      "[[12  1  0  1]\n",
      " [14  0  0  9]\n",
      " [ 3  4  0  0]]\n"
     ]
    },
    {
     "data": {
      "text/plain": [
       "array([[12,  1,  0],\n",
       "       [14,  0,  0]])"
      ]
     },
     "execution_count": 24,
     "metadata": {},
     "output_type": "execute_result"
    }
   ],
   "source": [
    "print(x2)\n",
    "# Multidimensional subarrays\n",
    "x2[:2, :3] # two rows, three columns"
   ]
  },
  {
   "cell_type": "code",
   "execution_count": 23,
   "id": "42f0c9d0",
   "metadata": {},
   "outputs": [
    {
     "data": {
      "text/plain": [
       "array([[12,  0],\n",
       "       [14,  0],\n",
       "       [ 3,  0]])"
      ]
     },
     "execution_count": 23,
     "metadata": {},
     "output_type": "execute_result"
    }
   ],
   "source": [
    "x2[:, ::2] # all rows, every other column"
   ]
  },
  {
   "cell_type": "code",
   "execution_count": 25,
   "id": "df169d66",
   "metadata": {},
   "outputs": [
    {
     "data": {
      "text/plain": [
       "array([[ 0,  0,  4,  3],\n",
       "       [ 9,  0,  0, 14],\n",
       "       [ 1,  0,  1, 12]])"
      ]
     },
     "execution_count": 25,
     "metadata": {},
     "output_type": "execute_result"
    }
   ],
   "source": [
    "x2[::-1, ::-1] # reversed all together"
   ]
  },
  {
   "cell_type": "code",
   "execution_count": 26,
   "id": "fd7554b7",
   "metadata": {},
   "outputs": [
    {
     "data": {
      "text/plain": [
       "array([[12,  1],\n",
       "       [14,  0]])"
      ]
     },
     "execution_count": 26,
     "metadata": {},
     "output_type": "execute_result"
    }
   ],
   "source": [
    "# Subarrays as no-copy views\n",
    "x2_sub = x2[:2, :2]\n",
    "x2_sub"
   ]
  },
  {
   "cell_type": "code",
   "execution_count": 27,
   "id": "a0de8193",
   "metadata": {},
   "outputs": [
    {
     "data": {
      "text/plain": [
       "array([[24, 24],\n",
       "       [14,  0]])"
      ]
     },
     "execution_count": 27,
     "metadata": {},
     "output_type": "execute_result"
    }
   ],
   "source": [
    "x2_sub[0, :] = 24\n",
    "x2_sub"
   ]
  },
  {
   "cell_type": "code",
   "execution_count": 28,
   "id": "78597c46",
   "metadata": {},
   "outputs": [
    {
     "data": {
      "text/plain": [
       "array([[24, 24,  0,  1],\n",
       "       [14,  0,  0,  9],\n",
       "       [ 3,  4,  0,  0]])"
      ]
     },
     "execution_count": 28,
     "metadata": {},
     "output_type": "execute_result"
    }
   ],
   "source": [
    "x2 # original array subbed section is also updated in the parent array we created a sub array from"
   ]
  },
  {
   "cell_type": "markdown",
   "id": "37f27f37",
   "metadata": {},
   "source": [
    "* Creating a copy of the array won't influence the parent should the child be updated\n",
    "```python\n",
    "x2_sub_copy = x2[:2, :2].copy()\n",
    "print(x2_sub_copy)\n",
    "[[24 24]\n",
    "[14  0]]\n",
    "```\n",
    "```python\n",
    "x2_sub_copy[0, :] = 48\n",
    "print(x2_sub_copy)\n",
    "[[48 48]\n",
    "[14  0]]\n",
    "```\n",
    "```python\n",
    "print(x2)\n",
    "[[24 24  0  1]\n",
    "[14  0  0  9]\n",
    "[ 3  4  0  0]]\n",
    "```\n",
    "* After modifying our subset we can see that the original array is not altered from the copied subset updates"
   ]
  },
  {
   "cell_type": "code",
   "execution_count": 30,
   "id": "af86049d",
   "metadata": {},
   "outputs": [
    {
     "data": {
      "text/plain": [
       "array([[1, 2, 3],\n",
       "       [4, 5, 6],\n",
       "       [7, 8, 9]])"
      ]
     },
     "execution_count": 30,
     "metadata": {},
     "output_type": "execute_result"
    }
   ],
   "source": [
    "# Reshape Arrays\n",
    "grid = np.arange(1,10).reshape((3,3))\n",
    "grid"
   ]
  },
  {
   "cell_type": "code",
   "execution_count": 31,
   "id": "1d1f75d7",
   "metadata": {},
   "outputs": [
    {
     "data": {
      "text/plain": [
       "array([1, 2, 3])"
      ]
     },
     "execution_count": 31,
     "metadata": {},
     "output_type": "execute_result"
    }
   ],
   "source": [
    "x = np.array([1,2,3])\n",
    "x"
   ]
  },
  {
   "cell_type": "code",
   "execution_count": 32,
   "id": "2ed5fa30",
   "metadata": {},
   "outputs": [
    {
     "data": {
      "text/plain": [
       "array([[1, 2, 3]])"
      ]
     },
     "execution_count": 32,
     "metadata": {},
     "output_type": "execute_result"
    }
   ],
   "source": [
    "x.reshape((1,3)) # row vector via reshape"
   ]
  },
  {
   "cell_type": "code",
   "execution_count": 33,
   "id": "8b07d988",
   "metadata": {},
   "outputs": [
    {
     "data": {
      "text/plain": [
       "array([[1],\n",
       "       [2],\n",
       "       [3]])"
      ]
     },
     "execution_count": 33,
     "metadata": {},
     "output_type": "execute_result"
    }
   ],
   "source": [
    "x.reshape(3,1)"
   ]
  },
  {
   "cell_type": "markdown",
   "id": "50a84fa8",
   "metadata": {},
   "source": [
    "### Array Concatenation & Splitting"
   ]
  },
  {
   "cell_type": "code",
   "execution_count": 64,
   "id": "d05bd816",
   "metadata": {},
   "outputs": [
    {
     "data": {
      "text/plain": [
       "array([1, 2, 3, 4, 5, 6])"
      ]
     },
     "execution_count": 64,
     "metadata": {},
     "output_type": "execute_result"
    }
   ],
   "source": [
    "x = np.array([1,2,3])\n",
    "y = np.array([4,5,6])\n",
    "np.concatenate([x,y])"
   ]
  },
  {
   "cell_type": "code",
   "execution_count": 67,
   "id": "13fc4dba",
   "metadata": {},
   "outputs": [
    {
     "data": {
      "text/plain": [
       "array([[1, 2, 3],\n",
       "       [4, 5, 6]])"
      ]
     },
     "execution_count": 67,
     "metadata": {},
     "output_type": "execute_result"
    }
   ],
   "source": [
    "grid = np.concatenate([x, y]).reshape((2,3))\n",
    "grid"
   ]
  },
  {
   "cell_type": "code",
   "execution_count": 68,
   "id": "24abd5fd",
   "metadata": {},
   "outputs": [
    {
     "name": "stdout",
     "output_type": "stream",
     "text": [
      "[[1 2 3]\n",
      " [4 5 6]\n",
      " [1 2 3]\n",
      " [4 5 6]]\n",
      "\n",
      " Flipped Second Grid : Row order and Element Order flipped for use of second grid\n",
      "[[1 2 3]\n",
      " [4 5 6]\n",
      " [6 5 4]\n",
      " [3 2 1]]\n",
      "\n",
      " Array rows flipped in order but element order in list maintained\n",
      "[[1 2 3]\n",
      " [4 5 6]\n",
      " [4 5 6]\n",
      " [1 2 3]]\n"
     ]
    }
   ],
   "source": [
    "## concatenate two-dimensional arrays\n",
    "print(np.concatenate([grid, grid]))\n",
    "print('\\n', 'Flipped Second Grid : Row order and Element Order flipped for use of second grid')\n",
    "print(np.concatenate([grid, np.flip(grid)]))\n",
    "print('\\n', 'Array rows flipped in order but element order in list maintained')\n",
    "print(np.concatenate([grid, grid[::-1]]))"
   ]
  },
  {
   "cell_type": "code",
   "execution_count": 70,
   "id": "6758448a",
   "metadata": {},
   "outputs": [
    {
     "data": {
      "text/plain": [
       "array([[1, 2, 3, 1, 2, 3],\n",
       "       [4, 5, 6, 4, 5, 6]])"
      ]
     },
     "execution_count": 70,
     "metadata": {},
     "output_type": "execute_result"
    }
   ],
   "source": [
    "# concatenate along the second axis (zero-indexed) (joins same indexed rows together into single row)\n",
    "np.concatenate([grid, grid], axis=1)"
   ]
  },
  {
   "cell_type": "code",
   "execution_count": 75,
   "id": "6a5cdf59",
   "metadata": {},
   "outputs": [
    {
     "name": "stdout",
     "output_type": "stream",
     "text": [
      "[[1 2 3]\n",
      " [9 8 7]\n",
      " [6 5 4]]\n",
      "\n",
      "\n",
      "[[ 9  8  7 24]\n",
      " [ 6  5  4  8]]\n"
     ]
    }
   ],
   "source": [
    "# Vertical and Horizontal Stack (More Likely you'll be using the Vertical Stack)\n",
    "grid_2 = np.array([[9,8,7], [6,5,4]])\n",
    "print(np.vstack([x, grid_2]))\n",
    "print('\\n') # Horizontal stack a bit trickier as the total rows in each numpy array would need to match unlike a vertical stack looking at columns\n",
    "print(np.hstack([grid_2, [[24], [8]]]))"
   ]
  },
  {
   "cell_type": "code",
   "execution_count": 76,
   "id": "9c17ebae",
   "metadata": {},
   "outputs": [
    {
     "name": "stdout",
     "output_type": "stream",
     "text": [
      "[1 2 3] [99 99] [3 2 1]\n"
     ]
    }
   ],
   "source": [
    "## Splitting of arrays\n",
    "x = [1,2,3,99,99,3,2,1]\n",
    "x1, x2, x3 = np.split(x, [3, 5]) # split the passed list at indexes 3 = 99, and 5 = 3 (two splits needed for three value unpacking into tuples)\n",
    "print(x1, x2, x3) # N split points lead to N + 1 subarrays"
   ]
  },
  {
   "cell_type": "code",
   "execution_count": 78,
   "id": "a984f360",
   "metadata": {},
   "outputs": [
    {
     "data": {
      "text/plain": [
       "array([[ 1,  2,  3,  4],\n",
       "       [ 5,  6,  7,  8],\n",
       "       [ 9, 10, 11, 12],\n",
       "       [13, 14, 15, 16]])"
      ]
     },
     "execution_count": 78,
     "metadata": {},
     "output_type": "execute_result"
    }
   ],
   "source": [
    "grid = np.arange(1, 17).reshape(4, 4)\n",
    "grid"
   ]
  },
  {
   "cell_type": "code",
   "execution_count": 79,
   "id": "f26b10a5",
   "metadata": {},
   "outputs": [
    {
     "name": "stdout",
     "output_type": "stream",
     "text": [
      "[[1 2 3 4]\n",
      " [5 6 7 8]]\n",
      "\n",
      "\n",
      "[[ 9 10 11 12]\n",
      " [13 14 15 16]]\n"
     ]
    }
   ],
   "source": [
    "# vertical split\n",
    "upper, lower = np.vsplit(grid, [2])\n",
    "print(upper)\n",
    "print('\\n')\n",
    "print(lower)"
   ]
  },
  {
   "cell_type": "code",
   "execution_count": 81,
   "id": "25ac3e12",
   "metadata": {},
   "outputs": [
    {
     "name": "stdout",
     "output_type": "stream",
     "text": [
      "[[ 1  2]\n",
      " [ 5  6]\n",
      " [ 9 10]\n",
      " [13 14]]\n",
      "\n",
      "\n",
      "[[ 3  4]\n",
      " [ 7  8]\n",
      " [11 12]\n",
      " [15 16]]\n"
     ]
    }
   ],
   "source": [
    "# horizontal split\n",
    "left, right = np.hsplit(grid, [2])\n",
    "print(left)\n",
    "print('\\n')\n",
    "print(right)"
   ]
  }
 ],
 "metadata": {
  "kernelspec": {
   "display_name": "Python 3 (ipykernel)",
   "language": "python",
   "name": "python3"
  },
  "language_info": {
   "codemirror_mode": {
    "name": "ipython",
    "version": 3
   },
   "file_extension": ".py",
   "mimetype": "text/x-python",
   "name": "python",
   "nbconvert_exporter": "python",
   "pygments_lexer": "ipython3",
   "version": "3.9.12"
  }
 },
 "nbformat": 4,
 "nbformat_minor": 5
}
