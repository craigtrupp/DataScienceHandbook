{
 "cells": [
  {
   "cell_type": "markdown",
   "id": "3f0d0f75",
   "metadata": {},
   "source": [
    "### Fancy Indexing"
   ]
  },
  {
   "cell_type": "code",
   "execution_count": 2,
   "id": "e910fd59",
   "metadata": {},
   "outputs": [],
   "source": [
    "import numpy as np"
   ]
  },
  {
   "cell_type": "code",
   "execution_count": 9,
   "id": "e04b1908",
   "metadata": {},
   "outputs": [],
   "source": [
    "rand = np.random.RandomState(42)"
   ]
  },
  {
   "cell_type": "code",
   "execution_count": 10,
   "id": "dcef510c",
   "metadata": {},
   "outputs": [
    {
     "data": {
      "text/plain": [
       "array([51, 92, 14, 71, 60, 20, 82, 86, 74, 74])"
      ]
     },
     "execution_count": 10,
     "metadata": {},
     "output_type": "execute_result"
    }
   ],
   "source": [
    "x = rand.randint(100, size=10)\n",
    "x"
   ]
  },
  {
   "cell_type": "code",
   "execution_count": 11,
   "id": "45e2f953",
   "metadata": {},
   "outputs": [
    {
     "data": {
      "text/plain": [
       "[71, 86, 14]"
      ]
     },
     "execution_count": 11,
     "metadata": {},
     "output_type": "execute_result"
    }
   ],
   "source": [
    "# Common Indexing\n",
    "[x[3], x[7], x[2]]"
   ]
  },
  {
   "cell_type": "code",
   "execution_count": 13,
   "id": "2eb51553",
   "metadata": {},
   "outputs": [
    {
     "data": {
      "text/plain": [
       "array([71, 86, 14])"
      ]
     },
     "execution_count": 13,
     "metadata": {},
     "output_type": "execute_result"
    }
   ],
   "source": [
    "ind = [3, 7, 2]\n",
    "x[ind]"
   ]
  },
  {
   "cell_type": "code",
   "execution_count": 14,
   "id": "495091cd",
   "metadata": {},
   "outputs": [
    {
     "data": {
      "text/plain": [
       "array([[71, 86],\n",
       "       [60, 20]])"
      ]
     },
     "execution_count": 14,
     "metadata": {},
     "output_type": "execute_result"
    }
   ],
   "source": [
    "# fanciny indexing, shape of the result reflects the shape of the index arrays\n",
    "ind = np.array([[3,7], [4,5]])\n",
    "x[ind]"
   ]
  },
  {
   "cell_type": "code",
   "execution_count": 15,
   "id": "f02f8cf5",
   "metadata": {},
   "outputs": [
    {
     "data": {
      "text/plain": [
       "array([[ 0,  1,  2,  3],\n",
       "       [ 4,  5,  6,  7],\n",
       "       [ 8,  9, 10, 11]])"
      ]
     },
     "execution_count": 15,
     "metadata": {},
     "output_type": "execute_result"
    }
   ],
   "source": [
    "# With multi-dimensions\n",
    "X = np.arange(12).reshape(3,4)\n",
    "X"
   ]
  },
  {
   "cell_type": "code",
   "execution_count": 18,
   "id": "3f3168ba",
   "metadata": {},
   "outputs": [
    {
     "data": {
      "text/plain": [
       "array([ 2,  5, 11])"
      ]
     },
     "metadata": {},
     "output_type": "display_data"
    },
    {
     "name": "stdout",
     "output_type": "stream",
     "text": [
      "[2, 5, 11]\n"
     ]
    }
   ],
   "source": [
    "row = np.array([0,1,2])\n",
    "col = np.array([2,1,3])\n",
    "display(X[row,col])\n",
    "print([X[0,2], X[1,1], X[2,3]])"
   ]
  },
  {
   "cell_type": "markdown",
   "id": "675aca78",
   "metadata": {},
   "source": [
    "* Note the similar shape and how the index at each similar shape is combined for the row/col pull "
   ]
  },
  {
   "cell_type": "code",
   "execution_count": 19,
   "id": "7dd7a70e",
   "metadata": {},
   "outputs": [
    {
     "data": {
      "text/plain": [
       "array([[ 2,  1,  3],\n",
       "       [ 6,  5,  7],\n",
       "       [10,  9, 11]])"
      ]
     },
     "execution_count": 19,
     "metadata": {},
     "output_type": "execute_result"
    }
   ],
   "source": [
    "X[row[:, np.newaxis], col]"
   ]
  },
  {
   "cell_type": "markdown",
   "id": "fd5dd17c",
   "metadata": {},
   "source": [
    "* Here, each row value is matched with each column vector"
   ]
  },
  {
   "cell_type": "markdown",
   "id": "7cdfe12d",
   "metadata": {},
   "source": [
    "### Combined Indexing"
   ]
  },
  {
   "cell_type": "code",
   "execution_count": 22,
   "id": "ee136d88",
   "metadata": {},
   "outputs": [
    {
     "data": {
      "text/plain": [
       "array([[ 0,  1,  2,  3],\n",
       "       [ 4,  5,  6,  7],\n",
       "       [ 8,  9, 10, 11]])"
      ]
     },
     "execution_count": 22,
     "metadata": {},
     "output_type": "execute_result"
    }
   ],
   "source": [
    "X"
   ]
  },
  {
   "cell_type": "code",
   "execution_count": 24,
   "id": "ca9e094d",
   "metadata": {},
   "outputs": [
    {
     "data": {
      "text/plain": [
       "array([10,  8,  9])"
      ]
     },
     "execution_count": 24,
     "metadata": {},
     "output_type": "execute_result"
    }
   ],
   "source": [
    "X[2, [2,0,1]] # Last Row (2nd of [0,1,2] and the columns in a different order)"
   ]
  },
  {
   "cell_type": "code",
   "execution_count": 25,
   "id": "d5b5ff9b",
   "metadata": {},
   "outputs": [
    {
     "data": {
      "text/plain": [
       "array([[ 6,  4,  5],\n",
       "       [10,  8,  9]])"
      ]
     },
     "execution_count": 25,
     "metadata": {},
     "output_type": "execute_result"
    }
   ],
   "source": [
    "X[1:, [2,0,1]] # Let's get the same values just a row above"
   ]
  },
  {
   "cell_type": "code",
   "execution_count": 26,
   "id": "e7ed4387",
   "metadata": {},
   "outputs": [
    {
     "data": {
      "text/plain": [
       "array([ True, False,  True, False])"
      ]
     },
     "execution_count": 26,
     "metadata": {},
     "output_type": "execute_result"
    }
   ],
   "source": [
    "mask = np.array([1,0,1,0], dtype=bool)\n",
    "mask"
   ]
  },
  {
   "cell_type": "code",
   "execution_count": 27,
   "id": "5abe4ba1",
   "metadata": {},
   "outputs": [
    {
     "data": {
      "text/plain": [
       "array([[ 0,  2],\n",
       "       [ 4,  6],\n",
       "       [ 8, 10]])"
      ]
     },
     "execution_count": 27,
     "metadata": {},
     "output_type": "execute_result"
    }
   ],
   "source": [
    "X[row[:, np.newaxis], mask]"
   ]
  },
  {
   "cell_type": "code",
   "execution_count": 29,
   "id": "7a10b0b4",
   "metadata": {},
   "outputs": [
    {
     "data": {
      "text/plain": [
       "array([[0],\n",
       "       [1],\n",
       "       [2]])"
      ]
     },
     "execution_count": 29,
     "metadata": {},
     "output_type": "execute_result"
    }
   ],
   "source": [
    "row[:, np.newaxis]"
   ]
  },
  {
   "cell_type": "markdown",
   "id": "b16d1bd7",
   "metadata": {},
   "source": [
    "* row[:, np.newaxis] transform our one dimensional array into a 2D array\n",
    "* combined with the maxk, the combined indexing will look at the value in each column and if True in the mask (shares same would be col singular true/false value) so (mask[0] & mask[2]) will use the stretched row mask to pull each column value should the Mask index be True"
   ]
  },
  {
   "cell_type": "code",
   "execution_count": 31,
   "id": "d75bf603",
   "metadata": {},
   "outputs": [
    {
     "data": {
      "text/plain": [
       "array([[ 0.35713769,  2.35807765],\n",
       "       [-0.60511946, -2.11454898],\n",
       "       [-0.37970336, -0.63828561],\n",
       "       [-0.35577715,  0.08483088],\n",
       "       [-1.33074012, -3.20478249],\n",
       "       [-1.60774279, -2.81181164],\n",
       "       [-0.28203519, -0.49019632],\n",
       "       [ 1.63915076,  2.33283998],\n",
       "       [ 0.17508863, -0.50374944],\n",
       "       [ 0.24122559,  0.00365532]])"
      ]
     },
     "metadata": {},
     "output_type": "display_data"
    },
    {
     "data": {
      "text/plain": [
       "(100, 2)"
      ]
     },
     "metadata": {},
     "output_type": "display_data"
    }
   ],
   "source": [
    "# Selecting Random Points\n",
    "# Fancy indexing commonly used in selection of subsets of rows from a matrix\n",
    "# We might have an N by D matrix representing N points in D dimensions (two-dimensional normal distribution)\n",
    "mean = [0, 0]\n",
    "cov = [[1,2], [2,5]]\n",
    "X = rand.multivariate_normal(mean, cov, 100)\n",
    "display(X[:10, :], X.shape)"
   ]
  },
  {
   "cell_type": "code",
   "execution_count": 32,
   "id": "3610a62e",
   "metadata": {},
   "outputs": [
    {
     "data": {
      "image/png": "[encoded data removed]",
      "text/plain": [
       "<Figure size 640x480 with 1 Axes>"
      ]
     },
     "metadata": {},
     "output_type": "display_data"
    }
   ],
   "source": [
    "%matplotlib inline\n",
    "import matplotlib.pyplot as plt\n",
    "import seaborn as sns\n",
    "sns.set()\n",
    "plt.scatter(X[:, 0], X[:, 1])\n",
    "plt.show()"
   ]
  },
  {
   "cell_type": "markdown",
   "id": "6c7a93cf",
   "metadata": {},
   "source": [
    "* Let’s use fancy indexing to select 20 random points. We’ll do this by first choosing 20 random indices with no repeats, and use these indices to select a portion of the original array:"
   ]
  },
  {
   "cell_type": "code",
   "execution_count": 35,
   "id": "689e39e5",
   "metadata": {},
   "outputs": [
    {
     "data": {
      "text/plain": [
       "array([ 6, 29, 49, 28,  9, 33, 15, 31, 99, 74, 78, 80, 66, 48, 68,  2, 67,\n",
       "       98, 46, 26])"
      ]
     },
     "execution_count": 35,
     "metadata": {},
     "output_type": "execute_result"
    }
   ],
   "source": [
    "# choice(...) method of numpy.random.mtrand.RandomState instance\n",
    "#     choice(a, size=None, replace=True, p=None)\n",
    "    \n",
    "# Generates a random sample from a given 1-D array\n",
    "# X.shape[0] is just 100 or our total rows, from 100, select 20 at random w/o replacement to not get any matching indices\n",
    "indices = np.random.choice(X.shape[0], 20, replace=False)\n",
    "indices"
   ]
  },
  {
   "cell_type": "code",
   "execution_count": 36,
   "id": "f851e594",
   "metadata": {},
   "outputs": [
    {
     "data": {
      "text/plain": [
       "100"
      ]
     },
     "execution_count": 36,
     "metadata": {},
     "output_type": "execute_result"
    }
   ],
   "source": [
    "X.shape[0]"
   ]
  },
  {
   "cell_type": "code",
   "execution_count": 41,
   "id": "769092d9",
   "metadata": {},
   "outputs": [
    {
     "name": "stdout",
     "output_type": "stream",
     "text": [
      "20 \n",
      " [[-0.28203519 -0.49019632]\n",
      " [ 1.23659796  2.87163211]\n",
      " [ 0.17360854  1.67679999]\n",
      " [ 0.37484957 -0.10446301]\n",
      " [ 0.24122559  0.00365532]] \n",
      "\n",
      "[[-0.28203519 -0.49019632]\n",
      " [ 1.23659796  2.87163211]\n",
      " [ 0.17360854  1.67679999]\n",
      " [ 0.37484957 -0.10446301]\n",
      " [ 0.24122559  0.00365532]]\n"
     ]
    }
   ],
   "source": [
    "selection = X[indices]\n",
    "print(len(selection), '\\n', selection[:5, :], '\\n')\n",
    "print(X[indices[:5]])"
   ]
  },
  {
   "cell_type": "code",
   "execution_count": 47,
   "id": "da0e3073",
   "metadata": {},
   "outputs": [
    {
     "data": {
      "image/png": "[encoded data removed]",
      "text/plain": [
       "<Figure size 640x480 with 1 Axes>"
      ]
     },
     "metadata": {},
     "output_type": "display_data"
    }
   ],
   "source": [
    "plt.scatter(X[:, 0], X[:, 1], alpha=0.15)\n",
    "plt.scatter(selection[:, 0], selection[:, 1], s=50)\n",
    "plt.show()"
   ]
  },
  {
   "cell_type": "markdown",
   "id": "7f377f36",
   "metadata": {},
   "source": [
    "### Modifying Values w/Fancy Indexing"
   ]
  },
  {
   "cell_type": "code",
   "execution_count": 52,
   "id": "b42cb452",
   "metadata": {},
   "outputs": [
    {
     "data": {
      "text/plain": [
       "array([0, 1, 2, 3, 4, 5, 6, 7, 8, 9])"
      ]
     },
     "execution_count": 52,
     "metadata": {},
     "output_type": "execute_result"
    }
   ],
   "source": [
    "x = np.arange(10)\n",
    "x"
   ]
  },
  {
   "cell_type": "code",
   "execution_count": 53,
   "id": "09fb8eaa",
   "metadata": {},
   "outputs": [
    {
     "data": {
      "text/plain": [
       "array([2, 1, 8, 4])"
      ]
     },
     "metadata": {},
     "output_type": "display_data"
    },
    {
     "data": {
      "text/plain": [
       "array([ 0, 99, 99,  3, 99,  5,  6,  7, 99,  9])"
      ]
     },
     "execution_count": 53,
     "metadata": {},
     "output_type": "execute_result"
    }
   ],
   "source": [
    "i = np.array([2,1,8,4])\n",
    "display(x[i]) # prior to modification\n",
    "x[i] = 99\n",
    "x"
   ]
  },
  {
   "cell_type": "code",
   "execution_count": 54,
   "id": "21ee9e9a",
   "metadata": {},
   "outputs": [
    {
     "data": {
      "text/plain": [
       "array([ 0, 89, 89,  3, 89,  5,  6,  7, 89,  9])"
      ]
     },
     "execution_count": 54,
     "metadata": {},
     "output_type": "execute_result"
    }
   ],
   "source": [
    "x[i] -= 10\n",
    "x"
   ]
  },
  {
   "cell_type": "code",
   "execution_count": 55,
   "id": "77396871",
   "metadata": {},
   "outputs": [
    {
     "data": {
      "text/plain": [
       "array([0., 1., 1., 0., 1., 0., 0., 0., 1., 0.])"
      ]
     },
     "execution_count": 55,
     "metadata": {},
     "output_type": "execute_result"
    }
   ],
   "source": [
    "x = np.zeros(10)\n",
    "np.add.at(x, i, 1) # translates to take the input sequence, mask, value to add to sequence at indices provided in mask\n",
    "x "
   ]
  },
  {
   "cell_type": "code",
   "execution_count": 58,
   "id": "4e02379d",
   "metadata": {},
   "outputs": [
    {
     "data": {
      "image/png": "[encoded data removed]",
      "text/plain": [
       "<Figure size 640x480 with 1 Axes>"
      ]
     },
     "metadata": {},
     "output_type": "display_data"
    }
   ],
   "source": [
    "# Binning Data\n",
    "np.random.seed(42)\n",
    "x = np.random.randn(100)\n",
    "bins = np.linspace(-5, 5, 20)\n",
    "counts = np.zeros_like(bins)\n",
    "\n",
    "# find appropriate bin for each x\n",
    "i = np.searchsorted(bins, x)\n",
    "\n",
    "# add 1 to each of these bins\n",
    "np.add.at(counts, i, 1)\n",
    "\n",
    "plt.plot(bins, counts, linestyle='--')\n",
    "plt.show()"
   ]
  },
  {
   "cell_type": "code",
   "execution_count": 60,
   "id": "dc91aa04",
   "metadata": {},
   "outputs": [
    {
     "data": {
      "image/png": "[encoded data removed]",
      "text/plain": [
       "<Figure size 640x480 with 1 Axes>"
      ]
     },
     "metadata": {},
     "output_type": "display_data"
    }
   ],
   "source": [
    "plt.hist(x, bins, histtype='step')\n",
    "plt.show()"
   ]
  },
  {
   "cell_type": "code",
   "execution_count": 61,
   "id": "4395fa5e",
   "metadata": {},
   "outputs": [],
   "source": [
    "# To compute the binning, Matplotlib uses the np.histogram function"
   ]
  },
  {
   "cell_type": "markdown",
   "id": "980adbce",
   "metadata": {},
   "source": [
    "### Sorting Arrays\n",
    "* Types [insertion sorts, selection sorts, merge sorts, quick sorts, bubble sorts]"
   ]
  },
  {
   "cell_type": "code",
   "execution_count": 74,
   "id": "ad8c5e10",
   "metadata": {},
   "outputs": [],
   "source": [
    "def selection_sort(x):\n",
    "    for i in range(len(x)):\n",
    "        swap = i + np.argmin(x[i:])\n",
    "        print(x, swap, i, np.argmin(x[i:]), x[i:]) # returns the index of the minimum value from the subset list passed\n",
    "        (x[i], x[swap]) = (x[swap], x[i]) \n",
    "        print(x[i], i, x[swap], swap, x, '\\n')\n",
    "    return x"
   ]
  },
  {
   "cell_type": "code",
   "execution_count": 75,
   "id": "ea2a4eb0",
   "metadata": {},
   "outputs": [
    {
     "name": "stdout",
     "output_type": "stream",
     "text": [
      "[2 1 4 3 5] 1 0 1 [2 1 4 3 5]\n",
      "1 0 2 1 [1 2 4 3 5] \n",
      "\n",
      "[1 2 4 3 5] 1 1 0 [2 4 3 5]\n",
      "2 1 2 1 [1 2 4 3 5] \n",
      "\n",
      "[1 2 4 3 5] 3 2 1 [4 3 5]\n",
      "3 2 4 3 [1 2 3 4 5] \n",
      "\n",
      "[1 2 3 4 5] 3 3 0 [4 5]\n",
      "4 3 4 3 [1 2 3 4 5] \n",
      "\n",
      "[1 2 3 4 5] 4 4 0 [5]\n",
      "5 4 5 4 [1 2 3 4 5] \n",
      "\n"
     ]
    },
    {
     "data": {
      "text/plain": [
       "array([1, 2, 3, 4, 5])"
      ]
     },
     "execution_count": 75,
     "metadata": {},
     "output_type": "execute_result"
    }
   ],
   "source": [
    "x = np.array([2,1,4,3,5])\n",
    "selection_sort(x)"
   ]
  },
  {
   "cell_type": "markdown",
   "id": "5bbbe393",
   "metadata": {},
   "source": [
    "#### Let's Break That Down\n",
    "* First Iteration where i == 0\n",
    "    * swap = 0 + np.argmin(x[i:]) == 1 (np.argmin returns the indices of the minimum values (not the index value)\n",
    "    * x[0] = x[swap == 1] == x[0] is now equal to 1 x[1] (x[swap]) in original list is 1 as seen above\n",
    "    * x[swap == 1] == x[i] where i is 0 so x[1] is now equalt to 2\n",
    "    * Note here that the assignment of x[i] initially in our tuple does not change the value prior to the swap\n",
    "    * So x is now [1,2,4,3,5] heading to our second iteration\n",
    "* Second Iteration where i == 1\n",
    "    * x = [1,2,4,3,5] \n",
    "    * swap = i + np.argmin(x[i:]) of  [2,4,3,5]]) == 0 which is the index of the lowest value (swap is again 1 here)\n",
    "    * x[1] = x[swap == 1] == 2 (we keep the same value as what x is \n",
    "    * x[1] = x[i == 1] where i is 1 so we just keep the same value here (no new assignment)\n",
    "    * x is now equal to == [1,2,4,3,5]\n",
    "* Third Iteration where i == 2\n",
    "    * x = [1, 2, 4, 3, 5]\n",
    "    * swap = i + np.argmin(x[2:]) of [4, 3, 5] == 1 which is the index of the lowest value) so swap == 3\n",
    "    * x[i == 2] == x[swap == 3] (x[2] == 3)\n",
    "    * x[swap == 3] == x[i == 2)] (x[3] == 4)\n",
    "    * we can see that in this iteration we have swapped positions 2 & 3 in our x array when the loop started on this iteration\n",
    "* Fourth iteration where i == 3\n",
    "    * x = [1,2,3,4,5]\n",
    "    * swap = i == 3 + np.argmin(x[3:]) of [4, 5] == 0 which is the index of the lowest value) so swap == 3\n",
    "    * x[i == 3] = x[swap == 3] (x[3] == 4)\n",
    "    * x[swap == 3] = x[i ==3] (x[3] == 4)\n",
    "    * No new assignment needed\n",
    "* Fifth iteration where i == 4\n",
    "    * swap = i == 4 + np.argmin(x[4:]) of [5] == 0 as this is our last and only index (4 + 0 == 0) swap == 4\n",
    "    * x[i == 4] = x[swap == 4] (x[4] == 5)\n",
    "    * x[swap == 4] = x[i == 4] (x[4] == 5)\n",
    "    * No new assignment needed for last iteration\n",
    "    \n",
    "#### Here the sorting algorithm is using a condensed way of swapping any found lower index from nop.argmin(x[i:]) to the current index iteration for x\n",
    "* The third iteration above shows a good instance in which the found lowest index for the subsets [4,3,5] == 1 has its value x[swap] or x[3] (which is concidentally the value 3) move to x[2] (zero index and we're on the third loop iteration).\n",
    "* i is always a reprsentation of the current value for the index at that spot and thus why we swap in this instance\n",
    "    * x[i == 2] is set to swap's index or i + the index of the min value\n",
    "    * if the min value is not the current index counter than we swap it with where its found"
   ]
  },
  {
   "cell_type": "code",
   "execution_count": 69,
   "id": "bfe89093",
   "metadata": {},
   "outputs": [
    {
     "data": {
      "text/plain": [
       "0"
      ]
     },
     "execution_count": 69,
     "metadata": {},
     "output_type": "execute_result"
    }
   ],
   "source": [
    "np.argmin([2, 4, 3, 5])"
   ]
  },
  {
   "cell_type": "markdown",
   "id": "2f6237d7",
   "metadata": {},
   "source": [
    "* selection sort like above is useful for it's (quote on quote simplicity - once walking it out by step you can see its iterative and swapping nature if found)\n",
    "* However, this is quite slow for larger arrays/lists\n",
    "* For a list of N values, it requires N loops"
   ]
  },
  {
   "cell_type": "markdown",
   "id": "eb7f29aa",
   "metadata": {},
   "source": [
    "### Fast Sorting in Numpy: np.sort & np.argsort"
   ]
  },
  {
   "cell_type": "code",
   "execution_count": 77,
   "id": "cfe94918",
   "metadata": {},
   "outputs": [
    {
     "data": {
      "text/plain": [
       "array([2, 1, 4, 3, 5])"
      ]
     },
     "execution_count": 77,
     "metadata": {},
     "output_type": "execute_result"
    }
   ],
   "source": [
    "# default quicksort generally efficient and returns desired sorted values \n",
    "x_1_np = np.array([2,1,4,3,5])\n",
    "x_1_np"
   ]
  },
  {
   "cell_type": "code",
   "execution_count": 78,
   "id": "dbd8e82a",
   "metadata": {},
   "outputs": [
    {
     "data": {
      "text/plain": [
       "array([1, 2, 3, 4, 5])"
      ]
     },
     "execution_count": 78,
     "metadata": {},
     "output_type": "execute_result"
    }
   ],
   "source": [
    "np.sort(x_1_np) # return a sorted version of the array without modifying the input"
   ]
  },
  {
   "cell_type": "code",
   "execution_count": 79,
   "id": "804c064e",
   "metadata": {},
   "outputs": [
    {
     "data": {
      "text/plain": [
       "array([2, 1, 4, 3, 5])"
      ]
     },
     "execution_count": 79,
     "metadata": {},
     "output_type": "execute_result"
    }
   ],
   "source": [
    "x_1_np"
   ]
  },
  {
   "cell_type": "code",
   "execution_count": 80,
   "id": "eeb25676",
   "metadata": {},
   "outputs": [],
   "source": [
    "x_1_np.sort() # Sort the array in place"
   ]
  },
  {
   "cell_type": "code",
   "execution_count": 81,
   "id": "5d3dd862",
   "metadata": {},
   "outputs": [
    {
     "data": {
      "text/plain": [
       "array([1, 2, 3, 4, 5])"
      ]
     },
     "execution_count": 81,
     "metadata": {},
     "output_type": "execute_result"
    }
   ],
   "source": [
    "x_1_np"
   ]
  },
  {
   "cell_type": "code",
   "execution_count": 83,
   "id": "6ab2345a",
   "metadata": {},
   "outputs": [
    {
     "data": {
      "text/plain": [
       "array([1, 0, 3, 2, 4])"
      ]
     },
     "metadata": {},
     "output_type": "display_data"
    },
    {
     "data": {
      "text/plain": [
       "array([1, 2, 3, 4, 5])"
      ]
     },
     "metadata": {},
     "output_type": "display_data"
    }
   ],
   "source": [
    "x_2_np = np.array([2, 1, 4, 3, 5])\n",
    "i = np.argsort(x_2_np) # argsort returns the indices of the sorted elements\n",
    "display(i)\n",
    "display(x_2_np[i])"
   ]
  },
  {
   "cell_type": "markdown",
   "id": "61f5f89b",
   "metadata": {},
   "source": [
    "#### Sorting along rows or columns"
   ]
  },
  {
   "cell_type": "code",
   "execution_count": 85,
   "id": "f20c90c6",
   "metadata": {},
   "outputs": [
    {
     "data": {
      "text/plain": [
       "array([[6, 3, 7, 4, 6, 9],\n",
       "       [2, 6, 7, 4, 3, 7],\n",
       "       [7, 2, 5, 4, 1, 7],\n",
       "       [5, 1, 4, 0, 9, 5]])"
      ]
     },
     "execution_count": 85,
     "metadata": {},
     "output_type": "execute_result"
    }
   ],
   "source": [
    "rand = np.random.RandomState(42)\n",
    "X = rand.randint(0, 10, (4,6))\n",
    "X"
   ]
  },
  {
   "cell_type": "code",
   "execution_count": 86,
   "id": "582144d8",
   "metadata": {},
   "outputs": [
    {
     "data": {
      "text/plain": [
       "array([[2, 1, 4, 0, 1, 5],\n",
       "       [5, 2, 5, 4, 3, 7],\n",
       "       [6, 3, 7, 4, 6, 7],\n",
       "       [7, 6, 7, 4, 9, 9]])"
      ]
     },
     "execution_count": 86,
     "metadata": {},
     "output_type": "execute_result"
    }
   ],
   "source": [
    "np.sort(X, axis = 0) # sort each column of X"
   ]
  },
  {
   "cell_type": "markdown",
   "id": "c51fbc02",
   "metadata": {},
   "source": [
    "* Note that original rows will be changed in place so row[1] where 2 is the first value in the first column sort does not have it's value of 6 at row[1][1] with it "
   ]
  },
  {
   "cell_type": "code",
   "execution_count": 87,
   "id": "2a2261aa",
   "metadata": {},
   "outputs": [
    {
     "data": {
      "text/plain": [
       "array([[3, 4, 6, 6, 7, 9],\n",
       "       [2, 3, 4, 6, 7, 7],\n",
       "       [1, 2, 4, 5, 7, 7],\n",
       "       [0, 1, 4, 5, 5, 9]])"
      ]
     },
     "execution_count": 87,
     "metadata": {},
     "output_type": "execute_result"
    }
   ],
   "source": [
    "np.sort(X, axis = 1) # sort each row of X"
   ]
  },
  {
   "cell_type": "markdown",
   "id": "4c2c8e2b",
   "metadata": {},
   "source": [
    "#### Partial Sorts : Partitioning\n",
    "\n",
    "* Sometimes we're not interested in sorting the entire array, but simply want to find the K smallest-values in the array. \n",
    "* np.partition function takes an array and a number K\n",
    "* result is a new array with the smallest K values to the left of the partition with the reamining values to the right, in arbitrary order:"
   ]
  },
  {
   "cell_type": "code",
   "execution_count": 88,
   "id": "f83953f0",
   "metadata": {},
   "outputs": [
    {
     "data": {
      "text/plain": [
       "array([2, 1, 3, 4, 6, 5, 7])"
      ]
     },
     "execution_count": 88,
     "metadata": {},
     "output_type": "execute_result"
    }
   ],
   "source": [
    "x = np.array([7,2,3,1,6,5,4])\n",
    "np.partition(x, 3)"
   ]
  },
  {
   "cell_type": "markdown",
   "id": "195cee83",
   "metadata": {},
   "source": [
    "* Note that the first three values in the resulting array are the three smallest in the array, and the remaining array positions contain the remaining values. Within the two partitions, the elements have arbitrary order.\n"
   ]
  },
  {
   "cell_type": "code",
   "execution_count": 91,
   "id": "d5369b43",
   "metadata": {},
   "outputs": [
    {
     "data": {
      "text/plain": [
       "array([[6, 3, 7, 4, 6, 9],\n",
       "       [2, 6, 7, 4, 3, 7],\n",
       "       [7, 2, 5, 4, 1, 7],\n",
       "       [5, 1, 4, 0, 9, 5]])"
      ]
     },
     "metadata": {},
     "output_type": "display_data"
    },
    {
     "data": {
      "text/plain": [
       "array([[3, 4, 6, 7, 6, 9],\n",
       "       [2, 3, 4, 7, 6, 7],\n",
       "       [1, 2, 4, 5, 7, 7],\n",
       "       [0, 1, 4, 5, 9, 5]])"
      ]
     },
     "execution_count": 91,
     "metadata": {},
     "output_type": "execute_result"
    }
   ],
   "source": [
    "# We can partition along an arbitrary axis of a multi-dimensional array\n",
    "display(X)\n",
    "np.partition(X, 2, axis=1)"
   ]
  },
  {
   "cell_type": "markdown",
   "id": "45d81c4f",
   "metadata": {},
   "source": [
    "* Above partition for the row would take the K value of 2 and find the two smallest values in the row (each list within the 2D X numpy array)\n",
    "* Values to the right or starting at the second index in the row (zero-index) would then be in arbitrary order\n",
    "* The result is an array where the first two slots in each row contain the smallest values from that row, with the remaining values filling the remaining slots."
   ]
  },
  {
   "cell_type": "code",
   "execution_count": 110,
   "id": "949acab7",
   "metadata": {},
   "outputs": [
    {
     "data": {
      "text/plain": [
       "array([[0.23089383, 0.24102547],\n",
       "       [0.68326352, 0.60999666],\n",
       "       [0.83319491, 0.17336465],\n",
       "       [0.39106061, 0.18223609],\n",
       "       [0.75536141, 0.42515587],\n",
       "       [0.20794166, 0.56770033],\n",
       "       [0.03131329, 0.84228477],\n",
       "       [0.44975413, 0.39515024],\n",
       "       [0.92665887, 0.727272  ],\n",
       "       [0.32654077, 0.57044397]])"
      ]
     },
     "execution_count": 110,
     "metadata": {},
     "output_type": "execute_result"
    }
   ],
   "source": [
    "## k-Nearest Neighbors\n",
    "X_k = rand.rand(10, 2)\n",
    "X_k"
   ]
  },
  {
   "cell_type": "code",
   "execution_count": 111,
   "id": "b2416611",
   "metadata": {},
   "outputs": [
    {
     "data": {
      "image/png": "[encoded data removed]",
      "text/plain": [
       "<Figure size 640x480 with 1 Axes>"
      ]
     },
     "metadata": {},
     "output_type": "display_data"
    }
   ],
   "source": [
    "plt.scatter(X_k[:, 0], X_k[:, 1])\n",
    "plt.show()"
   ]
  },
  {
   "cell_type": "code",
   "execution_count": 112,
   "id": "3255efb1",
   "metadata": {},
   "outputs": [
    {
     "data": {
      "text/plain": [
       "array([[ 0, 38, 35, 55],\n",
       "       [38,  0, 49, 99],\n",
       "       [35, 49,  0, 90],\n",
       "       [55, 99, 90,  0]])"
      ]
     },
     "execution_count": 112,
     "metadata": {},
     "output_type": "execute_result"
    }
   ],
   "source": [
    "# Now we'll compute the distance between each pair of points\n",
    "# This is the squared-distance\n",
    "dist_sq = np.sum((X[:, np.newaxis, :] - X[np.newaxis, :, :]) ** 2, axis=-1)\n",
    "dist_sq"
   ]
  },
  {
   "cell_type": "code",
   "execution_count": 113,
   "id": "c299b0b6",
   "metadata": {},
   "outputs": [
    {
     "data": {
      "text/plain": [
       "array([[[ 0.        ,  0.        ],\n",
       "        [-0.45236969, -0.36897119],\n",
       "        [-0.60230109,  0.06766081],\n",
       "        [-0.16016678,  0.05878938],\n",
       "        [-0.52446758, -0.18413041],\n",
       "        [ 0.02295216, -0.32667486],\n",
       "        [ 0.19958053, -0.60125931],\n",
       "        [-0.21886031, -0.15412477],\n",
       "        [-0.69576504, -0.48624653],\n",
       "        [-0.09564694, -0.32941851]],\n",
       "\n",
       "       [[ 0.45236969,  0.36897119],\n",
       "        [ 0.        ,  0.        ],\n",
       "        [-0.14993139,  0.436632  ],\n",
       "        [ 0.29220291,  0.42776057],\n",
       "        [-0.07209789,  0.18484078],\n",
       "        [ 0.47532186,  0.04229633],\n",
       "        [ 0.65195023, -0.23228812],\n",
       "        [ 0.23350939,  0.21484642],\n",
       "        [-0.24339535, -0.11727534],\n",
       "        [ 0.35672275,  0.03955268]],\n",
       "\n",
       "       [[ 0.60230109, -0.06766081],\n",
       "        [ 0.14993139, -0.436632  ],\n",
       "        [ 0.        ,  0.        ],\n",
       "        [ 0.4421343 , -0.00887143],\n",
       "        [ 0.0778335 , -0.25179122],\n",
       "        [ 0.62525325, -0.39433567],\n",
       "        [ 0.80188162, -0.66892012],\n",
       "        [ 0.38344078, -0.22178558],\n",
       "        [-0.09346395, -0.55390734],\n",
       "        [ 0.50665414, -0.39707932]],\n",
       "\n",
       "       [[ 0.16016678, -0.05878938],\n",
       "        [-0.29220291, -0.42776057],\n",
       "        [-0.4421343 ,  0.00887143],\n",
       "        [ 0.        ,  0.        ],\n",
       "        [-0.3643008 , -0.24291979],\n",
       "        [ 0.18311894, -0.38546424],\n",
       "        [ 0.35974732, -0.66004869],\n",
       "        [-0.05869353, -0.21291415],\n",
       "        [-0.53559826, -0.54503591],\n",
       "        [ 0.06451984, -0.38820789]],\n",
       "\n",
       "       [[ 0.52446758,  0.18413041],\n",
       "        [ 0.07209789, -0.18484078],\n",
       "        [-0.0778335 ,  0.25179122],\n",
       "        [ 0.3643008 ,  0.24291979],\n",
       "        [ 0.        ,  0.        ],\n",
       "        [ 0.54741975, -0.14254445],\n",
       "        [ 0.72404812, -0.4171289 ],\n",
       "        [ 0.30560728,  0.03000564],\n",
       "        [-0.17129746, -0.30211612],\n",
       "        [ 0.42882064, -0.1452881 ]],\n",
       "\n",
       "       [[-0.02295216,  0.32667486],\n",
       "        [-0.47532186, -0.04229633],\n",
       "        [-0.62525325,  0.39433567],\n",
       "        [-0.18311894,  0.38546424],\n",
       "        [-0.54741975,  0.14254445],\n",
       "        [ 0.        ,  0.        ],\n",
       "        [ 0.17662837, -0.27458445],\n",
       "        [-0.24181247,  0.17255009],\n",
       "        [-0.7187172 , -0.15957167],\n",
       "        [-0.11859911, -0.00274365]],\n",
       "\n",
       "       [[-0.19958053,  0.60125931],\n",
       "        [-0.65195023,  0.23228812],\n",
       "        [-0.80188162,  0.66892012],\n",
       "        [-0.35974732,  0.66004869],\n",
       "        [-0.72404812,  0.4171289 ],\n",
       "        [-0.17662837,  0.27458445],\n",
       "        [ 0.        ,  0.        ],\n",
       "        [-0.41844084,  0.44713454],\n",
       "        [-0.89534557,  0.11501278],\n",
       "        [-0.29522748,  0.2718408 ]],\n",
       "\n",
       "       [[ 0.21886031,  0.15412477],\n",
       "        [-0.23350939, -0.21484642],\n",
       "        [-0.38344078,  0.22178558],\n",
       "        [ 0.05869353,  0.21291415],\n",
       "        [-0.30560728, -0.03000564],\n",
       "        [ 0.24181247, -0.17255009],\n",
       "        [ 0.41844084, -0.44713454],\n",
       "        [ 0.        ,  0.        ],\n",
       "        [-0.47690473, -0.33212176],\n",
       "        [ 0.12321336, -0.17529374]],\n",
       "\n",
       "       [[ 0.69576504,  0.48624653],\n",
       "        [ 0.24339535,  0.11727534],\n",
       "        [ 0.09346395,  0.55390734],\n",
       "        [ 0.53559826,  0.54503591],\n",
       "        [ 0.17129746,  0.30211612],\n",
       "        [ 0.7187172 ,  0.15957167],\n",
       "        [ 0.89534557, -0.11501278],\n",
       "        [ 0.47690473,  0.33212176],\n",
       "        [ 0.        ,  0.        ],\n",
       "        [ 0.6001181 ,  0.15682802]],\n",
       "\n",
       "       [[ 0.09564694,  0.32941851],\n",
       "        [-0.35672275, -0.03955268],\n",
       "        [-0.50665414,  0.39707932],\n",
       "        [-0.06451984,  0.38820789],\n",
       "        [-0.42882064,  0.1452881 ],\n",
       "        [ 0.11859911,  0.00274365],\n",
       "        [ 0.29522748, -0.2718408 ],\n",
       "        [-0.12321336,  0.17529374],\n",
       "        [-0.6001181 , -0.15682802],\n",
       "        [ 0.        ,  0.        ]]])"
      ]
     },
     "execution_count": 113,
     "metadata": {},
     "output_type": "execute_result"
    }
   ],
   "source": [
    "# Let's break that down into steps\n",
    "# for each pair of points, compute differences in their coordinates\n",
    "differences = X_k[:, np.newaxis, :] - X_k[np.newaxis, :, :]\n",
    "differences"
   ]
  },
  {
   "cell_type": "code",
   "execution_count": 97,
   "id": "c29441b7",
   "metadata": {},
   "outputs": [
    {
     "data": {
      "text/plain": [
       "array([[[ 0,  0,  0,  0,  0,  0],\n",
       "        [16,  9,  0,  0,  9,  4],\n",
       "        [ 1,  1,  4,  0, 25,  4],\n",
       "        [ 1,  4,  9, 16,  9, 16]],\n",
       "\n",
       "       [[16,  9,  0,  0,  9,  4],\n",
       "        [ 0,  0,  0,  0,  0,  0],\n",
       "        [25, 16,  4,  0,  4,  0],\n",
       "        [ 9, 25,  9, 16, 36,  4]],\n",
       "\n",
       "       [[ 1,  1,  4,  0, 25,  4],\n",
       "        [25, 16,  4,  0,  4,  0],\n",
       "        [ 0,  0,  0,  0,  0,  0],\n",
       "        [ 4,  1,  1, 16, 64,  4]],\n",
       "\n",
       "       [[ 1,  4,  9, 16,  9, 16],\n",
       "        [ 9, 25,  9, 16, 36,  4],\n",
       "        [ 4,  1,  1, 16, 64,  4],\n",
       "        [ 0,  0,  0,  0,  0,  0]]])"
      ]
     },
     "execution_count": 97,
     "metadata": {},
     "output_type": "execute_result"
    }
   ],
   "source": [
    "# square coordinate differences\n",
    "sq_differences = differences ** 2\n",
    "sq_differences"
   ]
  },
  {
   "cell_type": "code",
   "execution_count": 114,
   "id": "5cdd932b",
   "metadata": {},
   "outputs": [
    {
     "data": {
      "text/plain": [
       "array([[ 0, 38, 35, 55],\n",
       "       [38,  0, 49, 99],\n",
       "       [35, 49,  0, 90],\n",
       "       [55, 99, 90,  0]])"
      ]
     },
     "execution_count": 114,
     "metadata": {},
     "output_type": "execute_result"
    }
   ],
   "source": [
    "# sum the coordinate differences to get the squared distance\n",
    "dist_sq = sq_differences.sum(-1)\n",
    "dist_sq"
   ]
  },
  {
   "cell_type": "code",
   "execution_count": 115,
   "id": "b6b5b6a9",
   "metadata": {},
   "outputs": [
    {
     "data": {
      "text/plain": [
       "array([0, 0, 0, 0])"
      ]
     },
     "execution_count": 115,
     "metadata": {},
     "output_type": "execute_result"
    }
   ],
   "source": [
    "# Just to double-check what we are doing, we should see that the diagonal of this matrix \n",
    "# (i.e., the set of distances between each point and itself) is all zero:\n",
    "\n",
    "dist_sq.diagonal()"
   ]
  },
  {
   "cell_type": "code",
   "execution_count": 116,
   "id": "fb3290f3",
   "metadata": {},
   "outputs": [
    {
     "data": {
      "text/plain": [
       "array([[0, 2, 1, 3],\n",
       "       [1, 0, 2, 3],\n",
       "       [2, 0, 1, 3],\n",
       "       [3, 0, 2, 1]])"
      ]
     },
     "execution_count": 116,
     "metadata": {},
     "output_type": "execute_result"
    }
   ],
   "source": [
    "# use np.argsort to sort along each row\n",
    "nearest = np.argsort(dist_sq, axis=1)\n",
    "nearest"
   ]
  },
  {
   "cell_type": "code",
   "execution_count": 117,
   "id": "7d16b509",
   "metadata": {},
   "outputs": [],
   "source": [
    "K = 2\n",
    "nearest_partition = np.argpartition(dist_sq, K + 1, axis = 1)"
   ]
  },
  {
   "cell_type": "code",
   "execution_count": 118,
   "id": "2592e9ea",
   "metadata": {},
   "outputs": [
    {
     "data": {
      "image/png": "[encoded data removed]",
      "text/plain": [
       "<Figure size 640x480 with 1 Axes>"
      ]
     },
     "metadata": {},
     "output_type": "display_data"
    }
   ],
   "source": [
    "plt.scatter(X[:, 0], X[:, 1], s=100)\n",
    "K = 2\n",
    "for i in range(X.shape[0]):\n",
    "    for j in nearest_partition[i, :K+1]:\n",
    "        plt.plot(*zip(X[j], X[i]), color='orange')\n",
    "plt.show()"
   ]
  },
  {
   "cell_type": "markdown",
   "id": "929978f6",
   "metadata": {},
   "source": [
    "### Numpy Structured Array"
   ]
  },
  {
   "cell_type": "code",
   "execution_count": 5,
   "id": "c51d28a3",
   "metadata": {},
   "outputs": [
    {
     "data": {
      "text/plain": [
       "dtype([('name', '<U10'), ('age', '<i4'), ('weight', '<f8')])"
      ]
     },
     "execution_count": 5,
     "metadata": {},
     "output_type": "execute_result"
    }
   ],
   "source": [
    "data = np.zeros(4, dtype={'names':('name', 'age', 'weight'), 'formats':('U10', 'i4', 'f8')})\n",
    "data.dtype"
   ]
  },
  {
   "cell_type": "code",
   "execution_count": 6,
   "id": "24cadce2",
   "metadata": {},
   "outputs": [],
   "source": [
    "name = ['Alice', 'Bob', 'Cathy', 'Doug']\n",
    "age = [25,45,37, 19]\n",
    "weight = [55.0, 85.5, 68.0, 61.5]"
   ]
  },
  {
   "cell_type": "code",
   "execution_count": 7,
   "id": "82f95126",
   "metadata": {},
   "outputs": [
    {
     "data": {
      "text/plain": [
       "array([('Alice', 25, 55. ), ('Bob', 45, 85.5), ('Cathy', 37, 68. ),\n",
       "       ('Doug', 19, 61.5)],\n",
       "      dtype=[('name', '<U10'), ('age', '<i4'), ('weight', '<f8')])"
      ]
     },
     "execution_count": 7,
     "metadata": {},
     "output_type": "execute_result"
    }
   ],
   "source": [
    "data['name'] = name\n",
    "data['age'] = age\n",
    "data['weight'] = weight\n",
    "data"
   ]
  },
  {
   "cell_type": "code",
   "execution_count": 8,
   "id": "e1f8767d",
   "metadata": {},
   "outputs": [
    {
     "data": {
      "text/plain": [
       "array(['Alice', 'Bob', 'Cathy', 'Doug'], dtype='<U10')"
      ]
     },
     "execution_count": 8,
     "metadata": {},
     "output_type": "execute_result"
    }
   ],
   "source": [
    "data['name']"
   ]
  },
  {
   "cell_type": "code",
   "execution_count": 10,
   "id": "f6b8c4b2",
   "metadata": {},
   "outputs": [
    {
     "data": {
      "text/plain": [
       "[('Alice', 25), ('Bob', 45), ('Cathy', 37), ('Doug', 19)]"
      ]
     },
     "execution_count": 10,
     "metadata": {},
     "output_type": "execute_result"
    }
   ],
   "source": [
    "list(zip(data['name'], data['age']))"
   ]
  },
  {
   "cell_type": "code",
   "execution_count": 11,
   "id": "b108b387",
   "metadata": {},
   "outputs": [
    {
     "data": {
      "text/plain": [
       "'Doug'"
      ]
     },
     "execution_count": 11,
     "metadata": {},
     "output_type": "execute_result"
    }
   ],
   "source": [
    "# name from last row\n",
    "data[-1]['name']"
   ]
  },
  {
   "cell_type": "code",
   "execution_count": 13,
   "id": "11f692a1",
   "metadata": {},
   "outputs": [
    {
     "data": {
      "text/plain": [
       "array(['Alice', 'Doug'], dtype='<U10')"
      ]
     },
     "execution_count": 13,
     "metadata": {},
     "output_type": "execute_result"
    }
   ],
   "source": [
    "# Similar to loc for indexing/subsetting\n",
    "data[data['age'] <= 25]['name']"
   ]
  },
  {
   "cell_type": "code",
   "execution_count": 14,
   "id": "c8eafd5c",
   "metadata": {},
   "outputs": [
    {
     "data": {
      "text/plain": [
       "array([25, 45, 37, 19], dtype=int32)"
      ]
     },
     "execution_count": 14,
     "metadata": {},
     "output_type": "execute_result"
    }
   ],
   "source": [
    "## Record Array\n",
    "data_rec = data.view(np.recarray)\n",
    "data_rec.age"
   ]
  },
  {
   "cell_type": "code",
   "execution_count": 15,
   "id": "ef627e94",
   "metadata": {},
   "outputs": [
    {
     "data": {
      "text/plain": [
       "rec.array([('Alice', 25, 55. ), ('Bob', 45, 85.5), ('Cathy', 37, 68. ),\n",
       "           ('Doug', 19, 61.5)],\n",
       "          dtype=[('name', '<U10'), ('age', '<i4'), ('weight', '<f8')])"
      ]
     },
     "execution_count": 15,
     "metadata": {},
     "output_type": "execute_result"
    }
   ],
   "source": [
    "data_rec"
   ]
  },
  {
   "cell_type": "code",
   "execution_count": 16,
   "id": "4e12e94f",
   "metadata": {},
   "outputs": [
    {
     "data": {
      "text/plain": [
       "rec.array([('Alice', 25, 55. ), ('Doug', 19, 61.5)],\n",
       "          dtype=[('name', '<U10'), ('age', '<i4'), ('weight', '<f8')])"
      ]
     },
     "execution_count": 16,
     "metadata": {},
     "output_type": "execute_result"
    }
   ],
   "source": [
    "data_rec[data_rec.age <= 25]"
   ]
  },
  {
   "cell_type": "code",
   "execution_count": 17,
   "id": "430847bd",
   "metadata": {},
   "outputs": [
    {
     "data": {
      "text/plain": [
       "array(['Alice', 'Doug'], dtype='<U10')"
      ]
     },
     "execution_count": 17,
     "metadata": {},
     "output_type": "execute_result"
    }
   ],
   "source": [
    "data_rec[data_rec.age <= 25]['name']"
   ]
  }
 ],
 "metadata": {
  "kernelspec": {
   "display_name": "Python 3 (ipykernel)",
   "language": "python",
   "name": "python3"
  },
  "language_info": {
   "codemirror_mode": {
    "name": "ipython",
    "version": 3
   },
   "file_extension": ".py",
   "mimetype": "text/x-python",
   "name": "python",
   "nbconvert_exporter": "python",
   "pygments_lexer": "ipython3",
   "version": "3.9.12"
  }
 },
 "nbformat": 4,
 "nbformat_minor": 5
}
