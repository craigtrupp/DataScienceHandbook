{
 "cells": [
  {
   "cell_type": "markdown",
   "id": "ddf52f38",
   "metadata": {},
   "source": [
    "### Fancy Indexing"
   ]
  },
  {
   "cell_type": "code",
   "execution_count": 1,
   "id": "5bd4b3a3",
   "metadata": {},
   "outputs": [],
   "source": [
    "import numpy as np"
   ]
  },
  {
   "cell_type": "code",
   "execution_count": 9,
   "id": "b3a5b8dd",
   "metadata": {},
   "outputs": [],
   "source": [
    "rand = np.random.RandomState(42)"
   ]
  },
  {
   "cell_type": "code",
   "execution_count": 10,
   "id": "e7100ebd",
   "metadata": {},
   "outputs": [
    {
     "data": {
      "text/plain": [
       "array([51, 92, 14, 71, 60, 20, 82, 86, 74, 74])"
      ]
     },
     "execution_count": 10,
     "metadata": {},
     "output_type": "execute_result"
    }
   ],
   "source": [
    "x = rand.randint(100, size=10)\n",
    "x"
   ]
  },
  {
   "cell_type": "code",
   "execution_count": 11,
   "id": "081ac81a",
   "metadata": {},
   "outputs": [
    {
     "data": {
      "text/plain": [
       "[71, 86, 14]"
      ]
     },
     "execution_count": 11,
     "metadata": {},
     "output_type": "execute_result"
    }
   ],
   "source": [
    "# Common Indexing\n",
    "[x[3], x[7], x[2]]"
   ]
  },
  {
   "cell_type": "code",
   "execution_count": 13,
   "id": "b9541588",
   "metadata": {},
   "outputs": [
    {
     "data": {
      "text/plain": [
       "array([71, 86, 14])"
      ]
     },
     "execution_count": 13,
     "metadata": {},
     "output_type": "execute_result"
    }
   ],
   "source": [
    "ind = [3, 7, 2]\n",
    "x[ind]"
   ]
  },
  {
   "cell_type": "code",
   "execution_count": 14,
   "id": "fc70b6fa",
   "metadata": {},
   "outputs": [
    {
     "data": {
      "text/plain": [
       "array([[71, 86],\n",
       "       [60, 20]])"
      ]
     },
     "execution_count": 14,
     "metadata": {},
     "output_type": "execute_result"
    }
   ],
   "source": [
    "# fanciny indexing, shape of the result reflects the shape of the index arrays\n",
    "ind = np.array([[3,7], [4,5]])\n",
    "x[ind]"
   ]
  },
  {
   "cell_type": "code",
   "execution_count": 15,
   "id": "416ee5bd",
   "metadata": {},
   "outputs": [
    {
     "data": {
      "text/plain": [
       "array([[ 0,  1,  2,  3],\n",
       "       [ 4,  5,  6,  7],\n",
       "       [ 8,  9, 10, 11]])"
      ]
     },
     "execution_count": 15,
     "metadata": {},
     "output_type": "execute_result"
    }
   ],
   "source": [
    "# With multi-dimensions\n",
    "X = np.arange(12).reshape(3,4)\n",
    "X"
   ]
  },
  {
   "cell_type": "code",
   "execution_count": 18,
   "id": "e4d9df1e",
   "metadata": {},
   "outputs": [
    {
     "data": {
      "text/plain": [
       "array([ 2,  5, 11])"
      ]
     },
     "metadata": {},
     "output_type": "display_data"
    },
    {
     "name": "stdout",
     "output_type": "stream",
     "text": [
      "[2, 5, 11]\n"
     ]
    }
   ],
   "source": [
    "row = np.array([0,1,2])\n",
    "col = np.array([2,1,3])\n",
    "display(X[row,col])\n",
    "print([X[0,2], X[1,1], X[2,3]])"
   ]
  },
  {
   "cell_type": "markdown",
   "id": "213d9d6a",
   "metadata": {},
   "source": [
    "* Note the similar shape and how the index at each similar shape is combined for the row/col pull "
   ]
  },
  {
   "cell_type": "code",
   "execution_count": 19,
   "id": "2a844134",
   "metadata": {},
   "outputs": [
    {
     "data": {
      "text/plain": [
       "array([[ 2,  1,  3],\n",
       "       [ 6,  5,  7],\n",
       "       [10,  9, 11]])"
      ]
     },
     "execution_count": 19,
     "metadata": {},
     "output_type": "execute_result"
    }
   ],
   "source": [
    "X[row[:, np.newaxis], col]"
   ]
  },
  {
   "cell_type": "markdown",
   "id": "fe2dfd07",
   "metadata": {},
   "source": [
    "* Here, each row value is matched with each column vector"
   ]
  },
  {
   "cell_type": "markdown",
   "id": "721c1967",
   "metadata": {},
   "source": [
    "### Combined Indexing"
   ]
  },
  {
   "cell_type": "code",
   "execution_count": 22,
   "id": "33dc2f84",
   "metadata": {},
   "outputs": [
    {
     "data": {
      "text/plain": [
       "array([[ 0,  1,  2,  3],\n",
       "       [ 4,  5,  6,  7],\n",
       "       [ 8,  9, 10, 11]])"
      ]
     },
     "execution_count": 22,
     "metadata": {},
     "output_type": "execute_result"
    }
   ],
   "source": [
    "X"
   ]
  },
  {
   "cell_type": "code",
   "execution_count": 24,
   "id": "9d8e8511",
   "metadata": {},
   "outputs": [
    {
     "data": {
      "text/plain": [
       "array([10,  8,  9])"
      ]
     },
     "execution_count": 24,
     "metadata": {},
     "output_type": "execute_result"
    }
   ],
   "source": [
    "X[2, [2,0,1]] # Last Row (2nd of [0,1,2] and the columns in a different order)"
   ]
  },
  {
   "cell_type": "code",
   "execution_count": 25,
   "id": "816bd4f4",
   "metadata": {},
   "outputs": [
    {
     "data": {
      "text/plain": [
       "array([[ 6,  4,  5],\n",
       "       [10,  8,  9]])"
      ]
     },
     "execution_count": 25,
     "metadata": {},
     "output_type": "execute_result"
    }
   ],
   "source": [
    "X[1:, [2,0,1]] # Let's get the same values just a row above"
   ]
  },
  {
   "cell_type": "code",
   "execution_count": 26,
   "id": "0fcc0f69",
   "metadata": {},
   "outputs": [
    {
     "data": {
      "text/plain": [
       "array([ True, False,  True, False])"
      ]
     },
     "execution_count": 26,
     "metadata": {},
     "output_type": "execute_result"
    }
   ],
   "source": [
    "mask = np.array([1,0,1,0], dtype=bool)\n",
    "mask"
   ]
  },
  {
   "cell_type": "code",
   "execution_count": 27,
   "id": "2bc2c0fc",
   "metadata": {},
   "outputs": [
    {
     "data": {
      "text/plain": [
       "array([[ 0,  2],\n",
       "       [ 4,  6],\n",
       "       [ 8, 10]])"
      ]
     },
     "execution_count": 27,
     "metadata": {},
     "output_type": "execute_result"
    }
   ],
   "source": [
    "X[row[:, np.newaxis], mask]"
   ]
  },
  {
   "cell_type": "code",
   "execution_count": 29,
   "id": "f4830320",
   "metadata": {},
   "outputs": [
    {
     "data": {
      "text/plain": [
       "array([[0],\n",
       "       [1],\n",
       "       [2]])"
      ]
     },
     "execution_count": 29,
     "metadata": {},
     "output_type": "execute_result"
    }
   ],
   "source": [
    "row[:, np.newaxis]"
   ]
  },
  {
   "cell_type": "markdown",
   "id": "5179ecac",
   "metadata": {},
   "source": [
    "* row[:, np.newaxis] transform our one dimensional array into a 2D array\n",
    "* combined with the maxk, the combined indexing will look at the value in each column and if True in the mask (shares same would be col singular true/false value) so (mask[0] & mask[2]) will use the stretched row mask to pull each column value should the Mask index be True"
   ]
  },
  {
   "cell_type": "code",
   "execution_count": 31,
   "id": "01cdca3a",
   "metadata": {},
   "outputs": [
    {
     "data": {
      "text/plain": [
       "array([[ 0.35713769,  2.35807765],\n",
       "       [-0.60511946, -2.11454898],\n",
       "       [-0.37970336, -0.63828561],\n",
       "       [-0.35577715,  0.08483088],\n",
       "       [-1.33074012, -3.20478249],\n",
       "       [-1.60774279, -2.81181164],\n",
       "       [-0.28203519, -0.49019632],\n",
       "       [ 1.63915076,  2.33283998],\n",
       "       [ 0.17508863, -0.50374944],\n",
       "       [ 0.24122559,  0.00365532]])"
      ]
     },
     "metadata": {},
     "output_type": "display_data"
    },
    {
     "data": {
      "text/plain": [
       "(100, 2)"
      ]
     },
     "metadata": {},
     "output_type": "display_data"
    }
   ],
   "source": [
    "# Selecting Random Points\n",
    "# Fancy indexing commonly used in selection of subsets of rows from a matrix\n",
    "# We might have an N by D matrix representing N points in D dimensions (two-dimensional normal distribution)\n",
    "mean = [0, 0]\n",
    "cov = [[1,2], [2,5]]\n",
    "X = rand.multivariate_normal(mean, cov, 100)\n",
    "display(X[:10, :], X.shape)"
   ]
  },
  {
   "cell_type": "code",
   "execution_count": 32,
   "id": "42b85cf8",
   "metadata": {},
   "outputs": [
    {
     "data": {
      "image/png": "[encoded data removed]",
      "text/plain": [
       "<Figure size 640x480 with 1 Axes>"
      ]
     },
     "metadata": {},
     "output_type": "display_data"
    }
   ],
   "source": [
    "%matplotlib inline\n",
    "import matplotlib.pyplot as plt\n",
    "import seaborn as sns\n",
    "sns.set()\n",
    "plt.scatter(X[:, 0], X[:, 1])\n",
    "plt.show()"
   ]
  },
  {
   "cell_type": "markdown",
   "id": "0a108437",
   "metadata": {},
   "source": [
    "* Let’s use fancy indexing to select 20 random points. We’ll do this by first choosing 20 random indices with no repeats, and use these indices to select a portion of the original array:"
   ]
  },
  {
   "cell_type": "code",
   "execution_count": 35,
   "id": "4664dc35",
   "metadata": {},
   "outputs": [
    {
     "data": {
      "text/plain": [
       "array([ 6, 29, 49, 28,  9, 33, 15, 31, 99, 74, 78, 80, 66, 48, 68,  2, 67,\n",
       "       98, 46, 26])"
      ]
     },
     "execution_count": 35,
     "metadata": {},
     "output_type": "execute_result"
    }
   ],
   "source": [
    "# choice(...) method of numpy.random.mtrand.RandomState instance\n",
    "#     choice(a, size=None, replace=True, p=None)\n",
    "    \n",
    "# Generates a random sample from a given 1-D array\n",
    "# X.shape[0] is just 100 or our total rows, from 100, select 20 at random w/o replacement to not get any matching indices\n",
    "indices = np.random.choice(X.shape[0], 20, replace=False)\n",
    "indices"
   ]
  },
  {
   "cell_type": "code",
   "execution_count": 36,
   "id": "d9fa95e0",
   "metadata": {},
   "outputs": [
    {
     "data": {
      "text/plain": [
       "100"
      ]
     },
     "execution_count": 36,
     "metadata": {},
     "output_type": "execute_result"
    }
   ],
   "source": [
    "X.shape[0]"
   ]
  },
  {
   "cell_type": "code",
   "execution_count": 41,
   "id": "47a2938f",
   "metadata": {},
   "outputs": [
    {
     "name": "stdout",
     "output_type": "stream",
     "text": [
      "20 \n",
      " [[-0.28203519 -0.49019632]\n",
      " [ 1.23659796  2.87163211]\n",
      " [ 0.17360854  1.67679999]\n",
      " [ 0.37484957 -0.10446301]\n",
      " [ 0.24122559  0.00365532]] \n",
      "\n",
      "[[-0.28203519 -0.49019632]\n",
      " [ 1.23659796  2.87163211]\n",
      " [ 0.17360854  1.67679999]\n",
      " [ 0.37484957 -0.10446301]\n",
      " [ 0.24122559  0.00365532]]\n"
     ]
    }
   ],
   "source": [
    "selection = X[indices]\n",
    "print(len(selection), '\\n', selection[:5, :], '\\n')\n",
    "print(X[indices[:5]])"
   ]
  },
  {
   "cell_type": "code",
   "execution_count": 47,
   "id": "cc8213ab",
   "metadata": {},
   "outputs": [
    {
     "data": {
      "image/png": "[encoded data removed]",
      "text/plain": [
       "<Figure size 640x480 with 1 Axes>"
      ]
     },
     "metadata": {},
     "output_type": "display_data"
    }
   ],
   "source": [
    "plt.scatter(X[:, 0], X[:, 1], alpha=0.15)\n",
    "plt.scatter(selection[:, 0], selection[:, 1], s=50)\n",
    "plt.show()"
   ]
  },
  {
   "cell_type": "markdown",
   "id": "3a1cf82e",
   "metadata": {},
   "source": [
    "### Modifying Values w/Fancy Indexing"
   ]
  },
  {
   "cell_type": "code",
   "execution_count": 52,
   "id": "74d19be7",
   "metadata": {},
   "outputs": [
    {
     "data": {
      "text/plain": [
       "array([0, 1, 2, 3, 4, 5, 6, 7, 8, 9])"
      ]
     },
     "execution_count": 52,
     "metadata": {},
     "output_type": "execute_result"
    }
   ],
   "source": [
    "x = np.arange(10)\n",
    "x"
   ]
  },
  {
   "cell_type": "code",
   "execution_count": 53,
   "id": "79dc8980",
   "metadata": {},
   "outputs": [
    {
     "data": {
      "text/plain": [
       "array([2, 1, 8, 4])"
      ]
     },
     "metadata": {},
     "output_type": "display_data"
    },
    {
     "data": {
      "text/plain": [
       "array([ 0, 99, 99,  3, 99,  5,  6,  7, 99,  9])"
      ]
     },
     "execution_count": 53,
     "metadata": {},
     "output_type": "execute_result"
    }
   ],
   "source": [
    "i = np.array([2,1,8,4])\n",
    "display(x[i]) # prior to modification\n",
    "x[i] = 99\n",
    "x"
   ]
  },
  {
   "cell_type": "code",
   "execution_count": 54,
   "id": "2b88d32b",
   "metadata": {},
   "outputs": [
    {
     "data": {
      "text/plain": [
       "array([ 0, 89, 89,  3, 89,  5,  6,  7, 89,  9])"
      ]
     },
     "execution_count": 54,
     "metadata": {},
     "output_type": "execute_result"
    }
   ],
   "source": [
    "x[i] -= 10\n",
    "x"
   ]
  },
  {
   "cell_type": "code",
   "execution_count": 55,
   "id": "fc68b7b3",
   "metadata": {},
   "outputs": [
    {
     "data": {
      "text/plain": [
       "array([0., 1., 1., 0., 1., 0., 0., 0., 1., 0.])"
      ]
     },
     "execution_count": 55,
     "metadata": {},
     "output_type": "execute_result"
    }
   ],
   "source": [
    "x = np.zeros(10)\n",
    "np.add.at(x, i, 1) # translates to take the input sequence, mask, value to add to sequence at indices provided in mask\n",
    "x "
   ]
  },
  {
   "cell_type": "code",
   "execution_count": 58,
   "id": "e095e36f",
   "metadata": {},
   "outputs": [
    {
     "data": {
      "image/png": "[encoded data removed]",
      "text/plain": [
       "<Figure size 640x480 with 1 Axes>"
      ]
     },
     "metadata": {},
     "output_type": "display_data"
    }
   ],
   "source": [
    "# Binning Data\n",
    "np.random.seed(42)\n",
    "x = np.random.randn(100)\n",
    "bins = np.linspace(-5, 5, 20)\n",
    "counts = np.zeros_like(bins)\n",
    "\n",
    "# find appropriate bin for each x\n",
    "i = np.searchsorted(bins, x)\n",
    "\n",
    "# add 1 to each of these bins\n",
    "np.add.at(counts, i, 1)\n",
    "\n",
    "plt.plot(bins, counts, linestyle='--')\n",
    "plt.show()"
   ]
  },
  {
   "cell_type": "code",
   "execution_count": 60,
   "id": "1695c47d",
   "metadata": {},
   "outputs": [
    {
     "data": {
      "image/png": "[encoded data removed]",
      "text/plain": [
       "<Figure size 640x480 with 1 Axes>"
      ]
     },
     "metadata": {},
     "output_type": "display_data"
    }
   ],
   "source": [
    "plt.hist(x, bins, histtype='step')\n",
    "plt.show()"
   ]
  },
  {
   "cell_type": "code",
   "execution_count": 61,
   "id": "82124876",
   "metadata": {},
   "outputs": [],
   "source": [
    "# To compute the binning, Matplotlib uses the np.histogram function"
   ]
  },
  {
   "cell_type": "markdown",
   "id": "9d162a0f",
   "metadata": {},
   "source": [
    "### Sorting Arrays\n",
    "* Types [insertion sorts, selection sorts, merge sorts, quick sorts, bubble sorts]"
   ]
  },
  {
   "cell_type": "code",
   "execution_count": 74,
   "id": "3f73b9f3",
   "metadata": {},
   "outputs": [],
   "source": [
    "def selection_sort(x):\n",
    "    for i in range(len(x)):\n",
    "        swap = i + np.argmin(x[i:])\n",
    "        print(x, swap, i, np.argmin(x[i:]), x[i:]) # returns the index of the minimum value from the subset list passed\n",
    "        (x[i], x[swap]) = (x[swap], x[i]) \n",
    "        print(x[i], i, x[swap], swap, x, '\\n')\n",
    "    return x"
   ]
  },
  {
   "cell_type": "code",
   "execution_count": 75,
   "id": "a912b369",
   "metadata": {},
   "outputs": [
    {
     "name": "stdout",
     "output_type": "stream",
     "text": [
      "[2 1 4 3 5] 1 0 1 [2 1 4 3 5]\n",
      "1 0 2 1 [1 2 4 3 5] \n",
      "\n",
      "[1 2 4 3 5] 1 1 0 [2 4 3 5]\n",
      "2 1 2 1 [1 2 4 3 5] \n",
      "\n",
      "[1 2 4 3 5] 3 2 1 [4 3 5]\n",
      "3 2 4 3 [1 2 3 4 5] \n",
      "\n",
      "[1 2 3 4 5] 3 3 0 [4 5]\n",
      "4 3 4 3 [1 2 3 4 5] \n",
      "\n",
      "[1 2 3 4 5] 4 4 0 [5]\n",
      "5 4 5 4 [1 2 3 4 5] \n",
      "\n"
     ]
    },
    {
     "data": {
      "text/plain": [
       "array([1, 2, 3, 4, 5])"
      ]
     },
     "execution_count": 75,
     "metadata": {},
     "output_type": "execute_result"
    }
   ],
   "source": [
    "x = np.array([2,1,4,3,5])\n",
    "selection_sort(x)"
   ]
  },
  {
   "cell_type": "markdown",
   "id": "61e6904e",
   "metadata": {},
   "source": [
    "#### Let's Break That Down\n",
    "* First Iteration where i == 0\n",
    "    * swap = 0 + np.argmin(x[i:]) == 1 (np.argmin returns the indices of the minimum values (not the index value)\n",
    "    * x[0] = x[swap == 1] == x[0] is now equal to 1 x[1] (x[swap]) in original list is 1 as seen above\n",
    "    * x[swap == 1] == x[i] where i is 0 so x[1] is now equalt to 2\n",
    "    * Note here that the assignment of x[i] initially in our tuple does not change the value prior to the swap\n",
    "    * So x is now [1,2,4,3,5] heading to our second iteration\n",
    "* Second Iteration where i == 1\n",
    "    * x = [1,2,4,3,5] \n",
    "    * swap = i + np.argmin(x[i:]) of  [2,4,3,5]]) == 0 which is the index of the lowest value (swap is again 1 here)\n",
    "    * x[1] = x[swap == 1] == 2 (we keep the same value as what x is \n",
    "    * x[1] = x[i == 1] where i is 1 so we just keep the same value here (no new assignment)\n",
    "    * x is now equal to == [1,2,4,3,5]\n",
    "* Third Iteration where i == 2\n",
    "    * x = [1, 2, 4, 3, 5]\n",
    "    * swap = i + np.argmin(x[2:]) of [4, 3, 5] == 1 which is the index of the lowest value) so swap == 3\n",
    "    * x[i == 2] == x[swap == 3] (x[2] == 3)\n",
    "    * x[swap == 3] == x[i == 2)] (x[3] == 4)\n",
    "    * we can see that in this iteration we have swapped positions 2 & 3 in our x array when the loop started on this iteration\n",
    "* Fourth iteration where i == 3\n",
    "    * x = [1,2,3,4,5]\n",
    "    * swap = i == 3 + np.argmin(x[3:]) of [4, 5] == 0 which is the index of the lowest value) so swap == 3\n",
    "    * x[i == 3] = x[swap == 3] (x[3] == 4)\n",
    "    * x[swap == 3] = x[i ==3] (x[3] == 4)\n",
    "    * No new assignment needed\n",
    "* Fifth iteration where i == 4\n",
    "    * swap = i == 4 + np.argmin(x[4:]) of [5] == 0 as this is our last and only index (4 + 0 == 0) swap == 4\n",
    "    * x[i == 4] = x[swap == 4] (x[4] == 5)\n",
    "    * x[swap == 4] = x[i == 4] (x[4] == 5)\n",
    "    * No new assignment needed for last iteration\n",
    "    \n",
    "#### Here the sorting algorithm is using a condensed way of swapping any found lower index from nop.argmin(x[i:]) to the current index iteration for x\n",
    "* The third iteration above shows a good instance in which the found lowest index for the subsets [4,3,5] == 1 has its value x[swap] or x[3] (which is concidentally the value 3) move to x[2] (zero index and we're on the third loop iteration).\n",
    "* i is always a reprsentation of the current value for the index at that spot and thus why we swap in this instance\n",
    "    * x[i == 2] is set to swap's index or i + the index of the min value\n",
    "    * if the min value is not the current index counter than we swap it with where its found"
   ]
  },
  {
   "cell_type": "code",
   "execution_count": 69,
   "id": "e17382ed",
   "metadata": {},
   "outputs": [
    {
     "data": {
      "text/plain": [
       "0"
      ]
     },
     "execution_count": 69,
     "metadata": {},
     "output_type": "execute_result"
    }
   ],
   "source": [
    "np.argmin([2, 4, 3, 5])"
   ]
  },
  {
   "cell_type": "markdown",
   "id": "82010270",
   "metadata": {},
   "source": [
    "* selection sort like above is useful for it's (quote on quote simplicity - once walking it out by step you can see its iterative and swapping nature if found)\n",
    "* However, this is quite slow for larger arrays/lists\n",
    "* For a list of N values, it requires N loops"
   ]
  },
  {
   "cell_type": "markdown",
   "id": "c3818377",
   "metadata": {},
   "source": [
    "### Fast Sorting in Numpy: np.sort & np.argsort"
   ]
  },
  {
   "cell_type": "code",
   "execution_count": 77,
   "id": "ef32a7fb",
   "metadata": {},
   "outputs": [
    {
     "data": {
      "text/plain": [
       "array([2, 1, 4, 3, 5])"
      ]
     },
     "execution_count": 77,
     "metadata": {},
     "output_type": "execute_result"
    }
   ],
   "source": [
    "# default quicksort generally efficient and returns desired sorted values \n",
    "x_1_np = np.array([2,1,4,3,5])\n",
    "x_1_np"
   ]
  },
  {
   "cell_type": "code",
   "execution_count": 78,
   "id": "6f839229",
   "metadata": {},
   "outputs": [
    {
     "data": {
      "text/plain": [
       "array([1, 2, 3, 4, 5])"
      ]
     },
     "execution_count": 78,
     "metadata": {},
     "output_type": "execute_result"
    }
   ],
   "source": [
    "np.sort(x_1_np) # return a sorted version of the array without modifying the input"
   ]
  },
  {
   "cell_type": "code",
   "execution_count": 79,
   "id": "e22d34b9",
   "metadata": {},
   "outputs": [
    {
     "data": {
      "text/plain": [
       "array([2, 1, 4, 3, 5])"
      ]
     },
     "execution_count": 79,
     "metadata": {},
     "output_type": "execute_result"
    }
   ],
   "source": [
    "x_1_np"
   ]
  },
  {
   "cell_type": "code",
   "execution_count": 80,
   "id": "6593fa95",
   "metadata": {},
   "outputs": [],
   "source": [
    "x_1_np.sort() # Sort the array in place"
   ]
  },
  {
   "cell_type": "code",
   "execution_count": 81,
   "id": "fa9b3e63",
   "metadata": {},
   "outputs": [
    {
     "data": {
      "text/plain": [
       "array([1, 2, 3, 4, 5])"
      ]
     },
     "execution_count": 81,
     "metadata": {},
     "output_type": "execute_result"
    }
   ],
   "source": [
    "x_1_np"
   ]
  },
  {
   "cell_type": "code",
   "execution_count": 83,
   "id": "c66e411d",
   "metadata": {},
   "outputs": [
    {
     "data": {
      "text/plain": [
       "array([1, 0, 3, 2, 4])"
      ]
     },
     "metadata": {},
     "output_type": "display_data"
    },
    {
     "data": {
      "text/plain": [
       "array([1, 2, 3, 4, 5])"
      ]
     },
     "metadata": {},
     "output_type": "display_data"
    }
   ],
   "source": [
    "x_2_np = np.array([2, 1, 4, 3, 5])\n",
    "i = np.argsort(x_2_np) # argsort returns the indices of the sorted elements\n",
    "display(i)\n",
    "display(x_2_np[i])"
   ]
  },
  {
   "cell_type": "code",
   "execution_count": null,
   "id": "fbbd8c44",
   "metadata": {},
   "outputs": [],
   "source": []
  }
 ],
 "metadata": {
  "kernelspec": {
   "display_name": "Python 3 (ipykernel)",
   "language": "python",
   "name": "python3"
  },
  "language_info": {
   "codemirror_mode": {
    "name": "ipython",
    "version": 3
   },
   "file_extension": ".py",
   "mimetype": "text/x-python",
   "name": "python",
   "nbconvert_exporter": "python",
   "pygments_lexer": "ipython3",
   "version": "3.9.12"
  }
 },
 "nbformat": 4,
 "nbformat_minor": 5
}
